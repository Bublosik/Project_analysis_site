{
 "cells": [
  {
   "cell_type": "code",
   "execution_count": 1,
   "id": "884477b8",
   "metadata": {},
   "outputs": [],
   "source": [
    "import pandas as pd\n",
    "import numpy as np\n",
    "import matplotlib.pyplot as plt\n",
    "import seaborn as sns\n",
    "from scipy import stats"
   ]
  },
  {
   "cell_type": "markdown",
   "id": "f0b17fa1",
   "metadata": {},
   "source": [
    "# Сессии"
   ]
  },
  {
   "cell_type": "code",
   "execution_count": 2,
   "id": "52fcd6bd",
   "metadata": {
    "scrolled": true
   },
   "outputs": [
    {
     "name": "stderr",
     "output_type": "stream",
     "text": [
      "C:\\Users\\User\\AppData\\Local\\Temp\\ipykernel_12100\\434350226.py:1: DtypeWarning: Columns (1) have mixed types. Specify dtype option on import or set low_memory=False.\n",
      "  df_ga_sessions = pd.read_csv('ga_sessions.csv')\n"
     ]
    }
   ],
   "source": [
    "df_ga_sessions = pd.read_csv('ga_sessions.csv')"
   ]
  },
  {
   "cell_type": "code",
   "execution_count": 3,
   "id": "ab7b352d",
   "metadata": {},
   "outputs": [],
   "source": [
    "df_s = df_ga_sessions.copy()"
   ]
  },
  {
   "cell_type": "code",
   "execution_count": 4,
   "id": "eed5e5cf",
   "metadata": {},
   "outputs": [
    {
     "data": {
      "text/html": [
       "<div>\n",
       "<style scoped>\n",
       "    .dataframe tbody tr th:only-of-type {\n",
       "        vertical-align: middle;\n",
       "    }\n",
       "\n",
       "    .dataframe tbody tr th {\n",
       "        vertical-align: top;\n",
       "    }\n",
       "\n",
       "    .dataframe thead th {\n",
       "        text-align: right;\n",
       "    }\n",
       "</style>\n",
       "<table border=\"1\" class=\"dataframe\">\n",
       "  <thead>\n",
       "    <tr style=\"text-align: right;\">\n",
       "      <th></th>\n",
       "      <th>session_id</th>\n",
       "      <th>client_id</th>\n",
       "      <th>visit_date</th>\n",
       "      <th>visit_time</th>\n",
       "      <th>visit_number</th>\n",
       "      <th>utm_source</th>\n",
       "      <th>utm_medium</th>\n",
       "      <th>utm_campaign</th>\n",
       "      <th>utm_adcontent</th>\n",
       "      <th>utm_keyword</th>\n",
       "      <th>device_category</th>\n",
       "      <th>device_os</th>\n",
       "      <th>device_brand</th>\n",
       "      <th>device_model</th>\n",
       "      <th>device_screen_resolution</th>\n",
       "      <th>device_browser</th>\n",
       "      <th>geo_country</th>\n",
       "      <th>geo_city</th>\n",
       "    </tr>\n",
       "  </thead>\n",
       "  <tbody>\n",
       "    <tr>\n",
       "      <th>0</th>\n",
       "      <td>9055434745589932991.1637753792.1637753792</td>\n",
       "      <td>2108382700.163776</td>\n",
       "      <td>2021-11-24</td>\n",
       "      <td>14:36:32</td>\n",
       "      <td>1</td>\n",
       "      <td>ZpYIoDJMcFzVoPFsHGJL</td>\n",
       "      <td>banner</td>\n",
       "      <td>LEoPHuyFvzoNfnzGgfcd</td>\n",
       "      <td>vCIpmpaGBnIQhyYNkXqp</td>\n",
       "      <td>puhZPIYqKXeFPaUviSjo</td>\n",
       "      <td>mobile</td>\n",
       "      <td>Android</td>\n",
       "      <td>Huawei</td>\n",
       "      <td>NaN</td>\n",
       "      <td>360x720</td>\n",
       "      <td>Chrome</td>\n",
       "      <td>Russia</td>\n",
       "      <td>Zlatoust</td>\n",
       "    </tr>\n",
       "    <tr>\n",
       "      <th>1</th>\n",
       "      <td>905544597018549464.1636867290.1636867290</td>\n",
       "      <td>210838531.163687</td>\n",
       "      <td>2021-11-14</td>\n",
       "      <td>08:21:30</td>\n",
       "      <td>1</td>\n",
       "      <td>MvfHsxITijuriZxsqZqt</td>\n",
       "      <td>cpm</td>\n",
       "      <td>FTjNLDyTrXaWYgZymFkV</td>\n",
       "      <td>xhoenQgDQsgfEPYNPwKO</td>\n",
       "      <td>IGUCNvHlhfHpROGclCit</td>\n",
       "      <td>mobile</td>\n",
       "      <td>Android</td>\n",
       "      <td>Samsung</td>\n",
       "      <td>NaN</td>\n",
       "      <td>385x854</td>\n",
       "      <td>Samsung Internet</td>\n",
       "      <td>Russia</td>\n",
       "      <td>Moscow</td>\n",
       "    </tr>\n",
       "    <tr>\n",
       "      <th>2</th>\n",
       "      <td>9055446045651783499.1640648526.1640648526</td>\n",
       "      <td>2108385331.164065</td>\n",
       "      <td>2021-12-28</td>\n",
       "      <td>02:42:06</td>\n",
       "      <td>1</td>\n",
       "      <td>ZpYIoDJMcFzVoPFsHGJL</td>\n",
       "      <td>banner</td>\n",
       "      <td>LEoPHuyFvzoNfnzGgfcd</td>\n",
       "      <td>vCIpmpaGBnIQhyYNkXqp</td>\n",
       "      <td>puhZPIYqKXeFPaUviSjo</td>\n",
       "      <td>mobile</td>\n",
       "      <td>Android</td>\n",
       "      <td>Huawei</td>\n",
       "      <td>NaN</td>\n",
       "      <td>360x720</td>\n",
       "      <td>Chrome</td>\n",
       "      <td>Russia</td>\n",
       "      <td>Krasnoyarsk</td>\n",
       "    </tr>\n",
       "    <tr>\n",
       "      <th>3</th>\n",
       "      <td>9055447046360770272.1622255328.1622255328</td>\n",
       "      <td>2108385564.162225</td>\n",
       "      <td>2021-05-29</td>\n",
       "      <td>05:00:00</td>\n",
       "      <td>1</td>\n",
       "      <td>kjsLglQLzykiRbcDiGcD</td>\n",
       "      <td>cpc</td>\n",
       "      <td>NaN</td>\n",
       "      <td>NOBKLgtuvqYWkXQHeYWM</td>\n",
       "      <td>NaN</td>\n",
       "      <td>mobile</td>\n",
       "      <td>NaN</td>\n",
       "      <td>Xiaomi</td>\n",
       "      <td>NaN</td>\n",
       "      <td>393x786</td>\n",
       "      <td>Chrome</td>\n",
       "      <td>Russia</td>\n",
       "      <td>Moscow</td>\n",
       "    </tr>\n",
       "    <tr>\n",
       "      <th>4</th>\n",
       "      <td>9055447046360770272.1622255345.1622255345</td>\n",
       "      <td>2108385564.162225</td>\n",
       "      <td>2021-05-29</td>\n",
       "      <td>05:00:00</td>\n",
       "      <td>2</td>\n",
       "      <td>kjsLglQLzykiRbcDiGcD</td>\n",
       "      <td>cpc</td>\n",
       "      <td>NaN</td>\n",
       "      <td>NaN</td>\n",
       "      <td>NaN</td>\n",
       "      <td>mobile</td>\n",
       "      <td>NaN</td>\n",
       "      <td>Xiaomi</td>\n",
       "      <td>NaN</td>\n",
       "      <td>393x786</td>\n",
       "      <td>Chrome</td>\n",
       "      <td>Russia</td>\n",
       "      <td>Moscow</td>\n",
       "    </tr>\n",
       "  </tbody>\n",
       "</table>\n",
       "</div>"
      ],
      "text/plain": [
       "                                  session_id          client_id  visit_date  \\\n",
       "0  9055434745589932991.1637753792.1637753792  2108382700.163776  2021-11-24   \n",
       "1   905544597018549464.1636867290.1636867290   210838531.163687  2021-11-14   \n",
       "2  9055446045651783499.1640648526.1640648526  2108385331.164065  2021-12-28   \n",
       "3  9055447046360770272.1622255328.1622255328  2108385564.162225  2021-05-29   \n",
       "4  9055447046360770272.1622255345.1622255345  2108385564.162225  2021-05-29   \n",
       "\n",
       "  visit_time  visit_number            utm_source utm_medium  \\\n",
       "0   14:36:32             1  ZpYIoDJMcFzVoPFsHGJL     banner   \n",
       "1   08:21:30             1  MvfHsxITijuriZxsqZqt        cpm   \n",
       "2   02:42:06             1  ZpYIoDJMcFzVoPFsHGJL     banner   \n",
       "3   05:00:00             1  kjsLglQLzykiRbcDiGcD        cpc   \n",
       "4   05:00:00             2  kjsLglQLzykiRbcDiGcD        cpc   \n",
       "\n",
       "           utm_campaign         utm_adcontent           utm_keyword  \\\n",
       "0  LEoPHuyFvzoNfnzGgfcd  vCIpmpaGBnIQhyYNkXqp  puhZPIYqKXeFPaUviSjo   \n",
       "1  FTjNLDyTrXaWYgZymFkV  xhoenQgDQsgfEPYNPwKO  IGUCNvHlhfHpROGclCit   \n",
       "2  LEoPHuyFvzoNfnzGgfcd  vCIpmpaGBnIQhyYNkXqp  puhZPIYqKXeFPaUviSjo   \n",
       "3                   NaN  NOBKLgtuvqYWkXQHeYWM                   NaN   \n",
       "4                   NaN                   NaN                   NaN   \n",
       "\n",
       "  device_category device_os device_brand device_model  \\\n",
       "0          mobile   Android       Huawei          NaN   \n",
       "1          mobile   Android      Samsung          NaN   \n",
       "2          mobile   Android       Huawei          NaN   \n",
       "3          mobile       NaN       Xiaomi          NaN   \n",
       "4          mobile       NaN       Xiaomi          NaN   \n",
       "\n",
       "  device_screen_resolution    device_browser geo_country     geo_city  \n",
       "0                  360x720            Chrome      Russia     Zlatoust  \n",
       "1                  385x854  Samsung Internet      Russia       Moscow  \n",
       "2                  360x720            Chrome      Russia  Krasnoyarsk  \n",
       "3                  393x786            Chrome      Russia       Moscow  \n",
       "4                  393x786            Chrome      Russia       Moscow  "
      ]
     },
     "execution_count": 4,
     "metadata": {},
     "output_type": "execute_result"
    }
   ],
   "source": [
    "df_s.head()"
   ]
  },
  {
   "cell_type": "markdown",
   "id": "5554cbec",
   "metadata": {},
   "source": [
    "## Описание колонок\n",
    "\n",
    "session_id — ID визита;\n",
    "\n",
    "client_id — ID посетителя;\n",
    "\n",
    "visit_date — дата визита;\n",
    "\n",
    "visit_time — время визита;\n",
    "\n",
    "visit_number — порядковый номер визита клиента;\n",
    "\n",
    "utm_source — канал привлечения;\n",
    "\n",
    "utm_medium — тип привлечения;\n",
    "\n",
    "utm_campaign — рекламная кампания;\n",
    "\n",
    "utm_keyword — ключевое слово;\n",
    "\n",
    "device_category — тип устройства;\n",
    "\n",
    "device_os — ОС устройства;\n",
    "\n",
    "device_brand — марка устройства;\n",
    "\n",
    "device_model — модель устройства;\n",
    "\n",
    "device_screen_resolution — разрешение экрана;\n",
    "\n",
    "device_brand — марка устройства;\n",
    "\n",
    "device_model — модель устройства;\n",
    "\n",
    "device_screen_resolution — разрешение экрана;\n",
    "\n",
    "device_browser — браузер;\n",
    "\n",
    "geo_country — страна;\n",
    "\n",
    "geo_city — город"
   ]
  },
  {
   "cell_type": "code",
   "execution_count": 5,
   "id": "6bed4017",
   "metadata": {},
   "outputs": [
    {
     "data": {
      "text/plain": [
       "(1860042, 18)"
      ]
     },
     "execution_count": 5,
     "metadata": {},
     "output_type": "execute_result"
    }
   ],
   "source": [
    "df_s.shape"
   ]
  },
  {
   "cell_type": "code",
   "execution_count": 6,
   "id": "525b9630",
   "metadata": {},
   "outputs": [
    {
     "data": {
      "text/plain": [
       "Index(['session_id', 'client_id', 'visit_date', 'visit_time', 'visit_number',\n",
       "       'utm_source', 'utm_medium', 'utm_campaign', 'utm_adcontent',\n",
       "       'utm_keyword', 'device_category', 'device_os', 'device_brand',\n",
       "       'device_model', 'device_screen_resolution', 'device_browser',\n",
       "       'geo_country', 'geo_city'],\n",
       "      dtype='object')"
      ]
     },
     "execution_count": 6,
     "metadata": {},
     "output_type": "execute_result"
    }
   ],
   "source": [
    "df_s.columns"
   ]
  },
  {
   "cell_type": "code",
   "execution_count": 7,
   "id": "2d5d5f8f",
   "metadata": {},
   "outputs": [
    {
     "name": "stdout",
     "output_type": "stream",
     "text": [
      "<class 'pandas.core.frame.DataFrame'>\n",
      "RangeIndex: 1860042 entries, 0 to 1860041\n",
      "Data columns (total 18 columns):\n",
      " #   Column                    Dtype \n",
      "---  ------                    ----- \n",
      " 0   session_id                object\n",
      " 1   client_id                 object\n",
      " 2   visit_date                object\n",
      " 3   visit_time                object\n",
      " 4   visit_number              int64 \n",
      " 5   utm_source                object\n",
      " 6   utm_medium                object\n",
      " 7   utm_campaign              object\n",
      " 8   utm_adcontent             object\n",
      " 9   utm_keyword               object\n",
      " 10  device_category           object\n",
      " 11  device_os                 object\n",
      " 12  device_brand              object\n",
      " 13  device_model              object\n",
      " 14  device_screen_resolution  object\n",
      " 15  device_browser            object\n",
      " 16  geo_country               object\n",
      " 17  geo_city                  object\n",
      "dtypes: int64(1), object(17)\n",
      "memory usage: 255.4+ MB\n"
     ]
    }
   ],
   "source": [
    "df_s.info()"
   ]
  },
  {
   "cell_type": "code",
   "execution_count": 8,
   "id": "c21eef5a",
   "metadata": {},
   "outputs": [
    {
     "data": {
      "text/plain": [
       "session_id                        0\n",
       "client_id                         0\n",
       "visit_date                        0\n",
       "visit_time                        0\n",
       "visit_number                      0\n",
       "utm_source                       97\n",
       "utm_medium                        0\n",
       "utm_campaign                 219603\n",
       "utm_adcontent                335615\n",
       "utm_keyword                 1082061\n",
       "device_category                   0\n",
       "device_os                   1070138\n",
       "device_brand                 367178\n",
       "device_model                1843704\n",
       "device_screen_resolution          0\n",
       "device_browser                    0\n",
       "geo_country                       0\n",
       "geo_city                          0\n",
       "dtype: int64"
      ]
     },
     "execution_count": 8,
     "metadata": {},
     "output_type": "execute_result"
    }
   ],
   "source": [
    "# кол-во пропусков\n",
    "df_s.isnull().sum()"
   ]
  },
  {
   "cell_type": "code",
   "execution_count": 9,
   "id": "9f122d1b",
   "metadata": {
    "scrolled": false
   },
   "outputs": [
    {
     "data": {
      "text/plain": [
       "session_id                   0.000000\n",
       "client_id                    0.000000\n",
       "visit_date                   0.000000\n",
       "visit_time                   0.000000\n",
       "visit_number                 0.000000\n",
       "utm_source                   0.005215\n",
       "utm_medium                   0.000000\n",
       "utm_campaign                11.806346\n",
       "utm_adcontent               18.043410\n",
       "utm_keyword                 58.174009\n",
       "device_category              0.000000\n",
       "device_os                   57.533002\n",
       "device_brand                19.740307\n",
       "device_model                99.121633\n",
       "device_screen_resolution     0.000000\n",
       "device_browser               0.000000\n",
       "geo_country                  0.000000\n",
       "geo_city                     0.000000\n",
       "dtype: float64"
      ]
     },
     "execution_count": 9,
     "metadata": {},
     "output_type": "execute_result"
    }
   ],
   "source": [
    "# процент пропусков\n",
    "df_s.isnull().sum ()/ len(df_s)* 100"
   ]
  },
  {
   "cell_type": "markdown",
   "id": "7d80d100",
   "metadata": {},
   "source": [
    "## Поработаем с пропусками"
   ]
  },
  {
   "cell_type": "code",
   "execution_count": 10,
   "id": "b9f2e728",
   "metadata": {},
   "outputs": [],
   "source": [
    "# удалим колонку, где больше 99% пропусков\n",
    "df_s = df_s.drop(columns='device_model')"
   ]
  },
  {
   "cell_type": "code",
   "execution_count": 11,
   "id": "04587a42",
   "metadata": {},
   "outputs": [],
   "source": [
    "# заполним пропуски в канале привлечения модой\n",
    "df_s.utm_source = df_s.utm_source.fillna(df_s.utm_source.mode()[0])"
   ]
  },
  {
   "cell_type": "code",
   "execution_count": 12,
   "id": "b7507866",
   "metadata": {},
   "outputs": [],
   "source": [
    "# заполним пропуски в рекламной кампании  модами по странам, а потом где не оказалось значения, те строчки удалим\n",
    "dict_for_moda_utm_campaign = {}"
   ]
  },
  {
   "cell_type": "code",
   "execution_count": 13,
   "id": "9fb95772",
   "metadata": {},
   "outputs": [],
   "source": [
    "for i in df_s.geo_country.unique():\n",
    "    moda = df_s[df_s['geo_country']==i].utm_campaign.mode()\n",
    "    if len(moda) == 0:\n",
    "        continue\n",
    "    else:\n",
    "        dict_for_moda_utm_campaign[i] = moda[0]"
   ]
  },
  {
   "cell_type": "code",
   "execution_count": 14,
   "id": "7851d185",
   "metadata": {},
   "outputs": [],
   "source": [
    "def func_utm_campaign(row):\n",
    "    for k,v in dict_for_moda_utm_campaign.items():\n",
    "        if row['geo_country'] == k:\n",
    "            return v"
   ]
  },
  {
   "cell_type": "code",
   "execution_count": 15,
   "id": "a6a6a717",
   "metadata": {},
   "outputs": [],
   "source": [
    "df_s['utm_campaign'] = df_s.apply(func_utm_campaign,axis=1)"
   ]
  },
  {
   "cell_type": "code",
   "execution_count": 16,
   "id": "d921439e",
   "metadata": {},
   "outputs": [],
   "source": [
    "df_s = df_s.dropna(subset='utm_campaign')"
   ]
  },
  {
   "cell_type": "code",
   "execution_count": 17,
   "id": "659b68c6",
   "metadata": {},
   "outputs": [],
   "source": [
    "df_s = df_s.drop(columns=['utm_adcontent','utm_keyword'])"
   ]
  },
  {
   "cell_type": "code",
   "execution_count": 18,
   "id": "3c224252",
   "metadata": {},
   "outputs": [],
   "source": [
    "# заполним ОС по аналогии с рекламной кампанией, только учитывая модель устройств\n",
    "dict_for_moda_device_os = {}"
   ]
  },
  {
   "cell_type": "code",
   "execution_count": 19,
   "id": "bbd1b9b0",
   "metadata": {},
   "outputs": [],
   "source": [
    "for i in df_s.device_brand.unique():\n",
    "    moda = df_s[df_s['device_brand']==i].device_os.mode()\n",
    "    if len(moda) == 0:\n",
    "        continue\n",
    "    else:\n",
    "        dict_for_moda_device_os[i] = moda[0]"
   ]
  },
  {
   "cell_type": "code",
   "execution_count": 20,
   "id": "f685b62c",
   "metadata": {},
   "outputs": [],
   "source": [
    "def func_device_os(row):\n",
    "    for k,v in dict_for_moda_device_os.items():\n",
    "        if row['device_brand'] == k:\n",
    "            return v"
   ]
  },
  {
   "cell_type": "code",
   "execution_count": 21,
   "id": "7cb1ac17",
   "metadata": {},
   "outputs": [],
   "source": [
    "df_s['device_os'] = df_s.apply(func_device_os,axis=1)"
   ]
  },
  {
   "cell_type": "code",
   "execution_count": 22,
   "id": "295a89bc",
   "metadata": {},
   "outputs": [],
   "source": [
    "# Удалим оставшиеся пропуски в ОС и бренде\n",
    "df_s = df_s.dropna(subset='device_os')"
   ]
  },
  {
   "cell_type": "code",
   "execution_count": 23,
   "id": "92e4bb6e",
   "metadata": {},
   "outputs": [],
   "source": [
    "df_s = df_s.dropna(subset='device_brand')"
   ]
  },
  {
   "cell_type": "code",
   "execution_count": 24,
   "id": "ba01b5db",
   "metadata": {},
   "outputs": [
    {
     "data": {
      "text/plain": [
       "session_id                  0\n",
       "client_id                   0\n",
       "visit_date                  0\n",
       "visit_time                  0\n",
       "visit_number                0\n",
       "utm_source                  0\n",
       "utm_medium                  0\n",
       "utm_campaign                0\n",
       "device_category             0\n",
       "device_os                   0\n",
       "device_brand                0\n",
       "device_screen_resolution    0\n",
       "device_browser              0\n",
       "geo_country                 0\n",
       "geo_city                    0\n",
       "dtype: int64"
      ]
     },
     "execution_count": 24,
     "metadata": {},
     "output_type": "execute_result"
    }
   ],
   "source": [
    "# Убедимся, что пропусков не осталось\n",
    "df_s.isnull().sum()"
   ]
  },
  {
   "cell_type": "code",
   "execution_count": 25,
   "id": "36b73755",
   "metadata": {},
   "outputs": [
    {
     "data": {
      "text/plain": [
       "(1492784, 15)"
      ]
     },
     "execution_count": 25,
     "metadata": {},
     "output_type": "execute_result"
    }
   ],
   "source": [
    "df_s.shape"
   ]
  },
  {
   "cell_type": "code",
   "execution_count": 26,
   "id": "15200371",
   "metadata": {},
   "outputs": [
    {
     "data": {
      "text/html": [
       "<div>\n",
       "<style scoped>\n",
       "    .dataframe tbody tr th:only-of-type {\n",
       "        vertical-align: middle;\n",
       "    }\n",
       "\n",
       "    .dataframe tbody tr th {\n",
       "        vertical-align: top;\n",
       "    }\n",
       "\n",
       "    .dataframe thead th {\n",
       "        text-align: right;\n",
       "    }\n",
       "</style>\n",
       "<table border=\"1\" class=\"dataframe\">\n",
       "  <thead>\n",
       "    <tr style=\"text-align: right;\">\n",
       "      <th></th>\n",
       "      <th>session_id</th>\n",
       "      <th>client_id</th>\n",
       "      <th>visit_date</th>\n",
       "      <th>visit_time</th>\n",
       "      <th>visit_number</th>\n",
       "      <th>utm_source</th>\n",
       "      <th>utm_medium</th>\n",
       "      <th>utm_campaign</th>\n",
       "      <th>device_category</th>\n",
       "      <th>device_os</th>\n",
       "      <th>device_brand</th>\n",
       "      <th>device_screen_resolution</th>\n",
       "      <th>device_browser</th>\n",
       "      <th>geo_country</th>\n",
       "      <th>geo_city</th>\n",
       "    </tr>\n",
       "  </thead>\n",
       "  <tbody>\n",
       "    <tr>\n",
       "      <th>0</th>\n",
       "      <td>9055434745589932991.1637753792.1637753792</td>\n",
       "      <td>2108382700.163776</td>\n",
       "      <td>2021-11-24</td>\n",
       "      <td>14:36:32</td>\n",
       "      <td>1</td>\n",
       "      <td>ZpYIoDJMcFzVoPFsHGJL</td>\n",
       "      <td>banner</td>\n",
       "      <td>LTuZkdKfxRGVceoWkVyg</td>\n",
       "      <td>mobile</td>\n",
       "      <td>Android</td>\n",
       "      <td>Huawei</td>\n",
       "      <td>360x720</td>\n",
       "      <td>Chrome</td>\n",
       "      <td>Russia</td>\n",
       "      <td>Zlatoust</td>\n",
       "    </tr>\n",
       "    <tr>\n",
       "      <th>1</th>\n",
       "      <td>905544597018549464.1636867290.1636867290</td>\n",
       "      <td>210838531.163687</td>\n",
       "      <td>2021-11-14</td>\n",
       "      <td>08:21:30</td>\n",
       "      <td>1</td>\n",
       "      <td>MvfHsxITijuriZxsqZqt</td>\n",
       "      <td>cpm</td>\n",
       "      <td>LTuZkdKfxRGVceoWkVyg</td>\n",
       "      <td>mobile</td>\n",
       "      <td>Android</td>\n",
       "      <td>Samsung</td>\n",
       "      <td>385x854</td>\n",
       "      <td>Samsung Internet</td>\n",
       "      <td>Russia</td>\n",
       "      <td>Moscow</td>\n",
       "    </tr>\n",
       "    <tr>\n",
       "      <th>2</th>\n",
       "      <td>9055446045651783499.1640648526.1640648526</td>\n",
       "      <td>2108385331.164065</td>\n",
       "      <td>2021-12-28</td>\n",
       "      <td>02:42:06</td>\n",
       "      <td>1</td>\n",
       "      <td>ZpYIoDJMcFzVoPFsHGJL</td>\n",
       "      <td>banner</td>\n",
       "      <td>LTuZkdKfxRGVceoWkVyg</td>\n",
       "      <td>mobile</td>\n",
       "      <td>Android</td>\n",
       "      <td>Huawei</td>\n",
       "      <td>360x720</td>\n",
       "      <td>Chrome</td>\n",
       "      <td>Russia</td>\n",
       "      <td>Krasnoyarsk</td>\n",
       "    </tr>\n",
       "    <tr>\n",
       "      <th>3</th>\n",
       "      <td>9055447046360770272.1622255328.1622255328</td>\n",
       "      <td>2108385564.162225</td>\n",
       "      <td>2021-05-29</td>\n",
       "      <td>05:00:00</td>\n",
       "      <td>1</td>\n",
       "      <td>kjsLglQLzykiRbcDiGcD</td>\n",
       "      <td>cpc</td>\n",
       "      <td>LTuZkdKfxRGVceoWkVyg</td>\n",
       "      <td>mobile</td>\n",
       "      <td>Android</td>\n",
       "      <td>Xiaomi</td>\n",
       "      <td>393x786</td>\n",
       "      <td>Chrome</td>\n",
       "      <td>Russia</td>\n",
       "      <td>Moscow</td>\n",
       "    </tr>\n",
       "    <tr>\n",
       "      <th>4</th>\n",
       "      <td>9055447046360770272.1622255345.1622255345</td>\n",
       "      <td>2108385564.162225</td>\n",
       "      <td>2021-05-29</td>\n",
       "      <td>05:00:00</td>\n",
       "      <td>2</td>\n",
       "      <td>kjsLglQLzykiRbcDiGcD</td>\n",
       "      <td>cpc</td>\n",
       "      <td>LTuZkdKfxRGVceoWkVyg</td>\n",
       "      <td>mobile</td>\n",
       "      <td>Android</td>\n",
       "      <td>Xiaomi</td>\n",
       "      <td>393x786</td>\n",
       "      <td>Chrome</td>\n",
       "      <td>Russia</td>\n",
       "      <td>Moscow</td>\n",
       "    </tr>\n",
       "  </tbody>\n",
       "</table>\n",
       "</div>"
      ],
      "text/plain": [
       "                                  session_id          client_id  visit_date  \\\n",
       "0  9055434745589932991.1637753792.1637753792  2108382700.163776  2021-11-24   \n",
       "1   905544597018549464.1636867290.1636867290   210838531.163687  2021-11-14   \n",
       "2  9055446045651783499.1640648526.1640648526  2108385331.164065  2021-12-28   \n",
       "3  9055447046360770272.1622255328.1622255328  2108385564.162225  2021-05-29   \n",
       "4  9055447046360770272.1622255345.1622255345  2108385564.162225  2021-05-29   \n",
       "\n",
       "  visit_time  visit_number            utm_source utm_medium  \\\n",
       "0   14:36:32             1  ZpYIoDJMcFzVoPFsHGJL     banner   \n",
       "1   08:21:30             1  MvfHsxITijuriZxsqZqt        cpm   \n",
       "2   02:42:06             1  ZpYIoDJMcFzVoPFsHGJL     banner   \n",
       "3   05:00:00             1  kjsLglQLzykiRbcDiGcD        cpc   \n",
       "4   05:00:00             2  kjsLglQLzykiRbcDiGcD        cpc   \n",
       "\n",
       "           utm_campaign device_category device_os device_brand  \\\n",
       "0  LTuZkdKfxRGVceoWkVyg          mobile   Android       Huawei   \n",
       "1  LTuZkdKfxRGVceoWkVyg          mobile   Android      Samsung   \n",
       "2  LTuZkdKfxRGVceoWkVyg          mobile   Android       Huawei   \n",
       "3  LTuZkdKfxRGVceoWkVyg          mobile   Android       Xiaomi   \n",
       "4  LTuZkdKfxRGVceoWkVyg          mobile   Android       Xiaomi   \n",
       "\n",
       "  device_screen_resolution    device_browser geo_country     geo_city  \n",
       "0                  360x720            Chrome      Russia     Zlatoust  \n",
       "1                  385x854  Samsung Internet      Russia       Moscow  \n",
       "2                  360x720            Chrome      Russia  Krasnoyarsk  \n",
       "3                  393x786            Chrome      Russia       Moscow  \n",
       "4                  393x786            Chrome      Russia       Moscow  "
      ]
     },
     "execution_count": 26,
     "metadata": {},
     "output_type": "execute_result"
    }
   ],
   "source": [
    "df_s.head()"
   ]
  },
  {
   "cell_type": "code",
   "execution_count": 27,
   "id": "f8fc5cce",
   "metadata": {},
   "outputs": [],
   "source": [
    "# Изменим тип данных в колонке даты\n",
    "df_s['visit_date'] = pd.to_datetime(df_s['visit_date'])"
   ]
  },
  {
   "cell_type": "code",
   "execution_count": 28,
   "id": "c6b84df0",
   "metadata": {},
   "outputs": [
    {
     "name": "stdout",
     "output_type": "stream",
     "text": [
      "<class 'pandas.core.frame.DataFrame'>\n",
      "Index: 1492784 entries, 0 to 1860040\n",
      "Data columns (total 15 columns):\n",
      " #   Column                    Non-Null Count    Dtype         \n",
      "---  ------                    --------------    -----         \n",
      " 0   session_id                1492784 non-null  object        \n",
      " 1   client_id                 1492784 non-null  object        \n",
      " 2   visit_date                1492784 non-null  datetime64[ns]\n",
      " 3   visit_time                1492784 non-null  object        \n",
      " 4   visit_number              1492784 non-null  int64         \n",
      " 5   utm_source                1492784 non-null  object        \n",
      " 6   utm_medium                1492784 non-null  object        \n",
      " 7   utm_campaign              1492784 non-null  object        \n",
      " 8   device_category           1492784 non-null  object        \n",
      " 9   device_os                 1492784 non-null  object        \n",
      " 10  device_brand              1492784 non-null  object        \n",
      " 11  device_screen_resolution  1492784 non-null  object        \n",
      " 12  device_browser            1492784 non-null  object        \n",
      " 13  geo_country               1492784 non-null  object        \n",
      " 14  geo_city                  1492784 non-null  object        \n",
      "dtypes: datetime64[ns](1), int64(1), object(13)\n",
      "memory usage: 182.2+ MB\n"
     ]
    }
   ],
   "source": [
    "df_s.info()"
   ]
  },
  {
   "cell_type": "markdown",
   "id": "82984580",
   "metadata": {},
   "source": [
    " "
   ]
  },
  {
   "cell_type": "markdown",
   "id": "c6a6c43a",
   "metadata": {},
   "source": [
    " "
   ]
  },
  {
   "cell_type": "markdown",
   "id": "8c953d98",
   "metadata": {},
   "source": [
    " "
   ]
  },
  {
   "cell_type": "markdown",
   "id": "e0ff40de",
   "metadata": {},
   "source": [
    "# События"
   ]
  },
  {
   "cell_type": "code",
   "execution_count": 29,
   "id": "88770c14",
   "metadata": {},
   "outputs": [],
   "source": [
    "df_ga_hits = pd.read_csv('ga_hits.csv')"
   ]
  },
  {
   "cell_type": "code",
   "execution_count": 30,
   "id": "307c24a0",
   "metadata": {},
   "outputs": [],
   "source": [
    "df_h = df_ga_hits.copy()"
   ]
  },
  {
   "cell_type": "code",
   "execution_count": 31,
   "id": "05d56974",
   "metadata": {},
   "outputs": [
    {
     "data": {
      "text/html": [
       "<div>\n",
       "<style scoped>\n",
       "    .dataframe tbody tr th:only-of-type {\n",
       "        vertical-align: middle;\n",
       "    }\n",
       "\n",
       "    .dataframe tbody tr th {\n",
       "        vertical-align: top;\n",
       "    }\n",
       "\n",
       "    .dataframe thead th {\n",
       "        text-align: right;\n",
       "    }\n",
       "</style>\n",
       "<table border=\"1\" class=\"dataframe\">\n",
       "  <thead>\n",
       "    <tr style=\"text-align: right;\">\n",
       "      <th></th>\n",
       "      <th>session_id</th>\n",
       "      <th>hit_date</th>\n",
       "      <th>hit_time</th>\n",
       "      <th>hit_number</th>\n",
       "      <th>hit_type</th>\n",
       "      <th>hit_referer</th>\n",
       "      <th>hit_page_path</th>\n",
       "      <th>event_category</th>\n",
       "      <th>event_action</th>\n",
       "      <th>event_label</th>\n",
       "      <th>event_value</th>\n",
       "    </tr>\n",
       "  </thead>\n",
       "  <tbody>\n",
       "    <tr>\n",
       "      <th>0</th>\n",
       "      <td>5639623078712724064.1640254056.1640254056</td>\n",
       "      <td>2021-12-23</td>\n",
       "      <td>597864.0</td>\n",
       "      <td>30</td>\n",
       "      <td>event</td>\n",
       "      <td>NaN</td>\n",
       "      <td>sberauto.com/cars?utm_source_initial=google&amp;ut...</td>\n",
       "      <td>quiz</td>\n",
       "      <td>quiz_show</td>\n",
       "      <td>NaN</td>\n",
       "      <td>NaN</td>\n",
       "    </tr>\n",
       "    <tr>\n",
       "      <th>1</th>\n",
       "      <td>7750352294969115059.1640271109.1640271109</td>\n",
       "      <td>2021-12-23</td>\n",
       "      <td>597331.0</td>\n",
       "      <td>41</td>\n",
       "      <td>event</td>\n",
       "      <td>NaN</td>\n",
       "      <td>sberauto.com/cars/fiat?city=1&amp;city=18&amp;rental_c...</td>\n",
       "      <td>quiz</td>\n",
       "      <td>quiz_show</td>\n",
       "      <td>NaN</td>\n",
       "      <td>NaN</td>\n",
       "    </tr>\n",
       "    <tr>\n",
       "      <th>2</th>\n",
       "      <td>885342191847998240.1640235807.1640235807</td>\n",
       "      <td>2021-12-23</td>\n",
       "      <td>796252.0</td>\n",
       "      <td>49</td>\n",
       "      <td>event</td>\n",
       "      <td>NaN</td>\n",
       "      <td>sberauto.com/cars/all/volkswagen/polo/e994838f...</td>\n",
       "      <td>quiz</td>\n",
       "      <td>quiz_show</td>\n",
       "      <td>NaN</td>\n",
       "      <td>NaN</td>\n",
       "    </tr>\n",
       "    <tr>\n",
       "      <th>3</th>\n",
       "      <td>142526202120934167.1640211014.1640211014</td>\n",
       "      <td>2021-12-23</td>\n",
       "      <td>934292.0</td>\n",
       "      <td>46</td>\n",
       "      <td>event</td>\n",
       "      <td>NaN</td>\n",
       "      <td>sberauto.com/cars?utm_source_initial=yandex&amp;ut...</td>\n",
       "      <td>quiz</td>\n",
       "      <td>quiz_show</td>\n",
       "      <td>NaN</td>\n",
       "      <td>NaN</td>\n",
       "    </tr>\n",
       "    <tr>\n",
       "      <th>4</th>\n",
       "      <td>3450086108837475701.1640265078.1640265078</td>\n",
       "      <td>2021-12-23</td>\n",
       "      <td>768741.0</td>\n",
       "      <td>79</td>\n",
       "      <td>event</td>\n",
       "      <td>NaN</td>\n",
       "      <td>sberauto.com/cars/all/mercedes-benz/cla-klasse...</td>\n",
       "      <td>quiz</td>\n",
       "      <td>quiz_show</td>\n",
       "      <td>NaN</td>\n",
       "      <td>NaN</td>\n",
       "    </tr>\n",
       "  </tbody>\n",
       "</table>\n",
       "</div>"
      ],
      "text/plain": [
       "                                  session_id    hit_date  hit_time  \\\n",
       "0  5639623078712724064.1640254056.1640254056  2021-12-23  597864.0   \n",
       "1  7750352294969115059.1640271109.1640271109  2021-12-23  597331.0   \n",
       "2   885342191847998240.1640235807.1640235807  2021-12-23  796252.0   \n",
       "3   142526202120934167.1640211014.1640211014  2021-12-23  934292.0   \n",
       "4  3450086108837475701.1640265078.1640265078  2021-12-23  768741.0   \n",
       "\n",
       "   hit_number hit_type hit_referer  \\\n",
       "0          30    event         NaN   \n",
       "1          41    event         NaN   \n",
       "2          49    event         NaN   \n",
       "3          46    event         NaN   \n",
       "4          79    event         NaN   \n",
       "\n",
       "                                       hit_page_path event_category  \\\n",
       "0  sberauto.com/cars?utm_source_initial=google&ut...           quiz   \n",
       "1  sberauto.com/cars/fiat?city=1&city=18&rental_c...           quiz   \n",
       "2  sberauto.com/cars/all/volkswagen/polo/e994838f...           quiz   \n",
       "3  sberauto.com/cars?utm_source_initial=yandex&ut...           quiz   \n",
       "4  sberauto.com/cars/all/mercedes-benz/cla-klasse...           quiz   \n",
       "\n",
       "  event_action event_label  event_value  \n",
       "0    quiz_show         NaN          NaN  \n",
       "1    quiz_show         NaN          NaN  \n",
       "2    quiz_show         NaN          NaN  \n",
       "3    quiz_show         NaN          NaN  \n",
       "4    quiz_show         NaN          NaN  "
      ]
     },
     "execution_count": 31,
     "metadata": {},
     "output_type": "execute_result"
    }
   ],
   "source": [
    "df_h.head()"
   ]
  },
  {
   "cell_type": "markdown",
   "id": "bec22e90",
   "metadata": {},
   "source": [
    "## Описание колонок\n",
    "session_id — ID визита;\n",
    "\n",
    "hit_date — дата события;\n",
    "\n",
    "hit_time — время события;\n",
    "\n",
    "hit_number — порядковый номер события в рамках сессии;\n",
    "\n",
    "hit_type — тип события;\n",
    "\n",
    "hit_referer — источник события;\n",
    "\n",
    "hit_page_path — страница события;\n",
    "\n",
    "event_category — тип действия;\n",
    "\n",
    "event_action — действие;\n",
    "\n",
    "event_label — тег действия;\n",
    "\n",
    "event_value — значение результата действия\n"
   ]
  },
  {
   "cell_type": "code",
   "execution_count": 32,
   "id": "09ec8580",
   "metadata": {},
   "outputs": [
    {
     "data": {
      "text/plain": [
       "(15726470, 11)"
      ]
     },
     "execution_count": 32,
     "metadata": {},
     "output_type": "execute_result"
    }
   ],
   "source": [
    "df_h.shape"
   ]
  },
  {
   "cell_type": "code",
   "execution_count": 33,
   "id": "d662f7ad",
   "metadata": {},
   "outputs": [
    {
     "data": {
      "text/plain": [
       "Index(['session_id', 'hit_date', 'hit_time', 'hit_number', 'hit_type',\n",
       "       'hit_referer', 'hit_page_path', 'event_category', 'event_action',\n",
       "       'event_label', 'event_value'],\n",
       "      dtype='object')"
      ]
     },
     "execution_count": 33,
     "metadata": {},
     "output_type": "execute_result"
    }
   ],
   "source": [
    "df_h.columns"
   ]
  },
  {
   "cell_type": "code",
   "execution_count": 34,
   "id": "963bf5e7",
   "metadata": {},
   "outputs": [
    {
     "name": "stdout",
     "output_type": "stream",
     "text": [
      "<class 'pandas.core.frame.DataFrame'>\n",
      "RangeIndex: 15726470 entries, 0 to 15726469\n",
      "Data columns (total 11 columns):\n",
      " #   Column          Dtype  \n",
      "---  ------          -----  \n",
      " 0   session_id      object \n",
      " 1   hit_date        object \n",
      " 2   hit_time        float64\n",
      " 3   hit_number      int64  \n",
      " 4   hit_type        object \n",
      " 5   hit_referer     object \n",
      " 6   hit_page_path   object \n",
      " 7   event_category  object \n",
      " 8   event_action    object \n",
      " 9   event_label     object \n",
      " 10  event_value     float64\n",
      "dtypes: float64(2), int64(1), object(8)\n",
      "memory usage: 1.3+ GB\n"
     ]
    }
   ],
   "source": [
    "df_h.info()"
   ]
  },
  {
   "cell_type": "code",
   "execution_count": 35,
   "id": "e4687dc0",
   "metadata": {},
   "outputs": [
    {
     "data": {
      "text/plain": [
       "session_id               0\n",
       "hit_date                 0\n",
       "hit_time           9160322\n",
       "hit_number               0\n",
       "hit_type                 0\n",
       "hit_referer        6274804\n",
       "hit_page_path            0\n",
       "event_category           0\n",
       "event_action             0\n",
       "event_label        3760184\n",
       "event_value       15726470\n",
       "dtype: int64"
      ]
     },
     "execution_count": 35,
     "metadata": {},
     "output_type": "execute_result"
    }
   ],
   "source": [
    "# кол-во пропусков\n",
    "df_h.isnull().sum()"
   ]
  },
  {
   "cell_type": "code",
   "execution_count": 36,
   "id": "3a8e8548",
   "metadata": {},
   "outputs": [
    {
     "data": {
      "text/plain": [
       "session_id          0.000000\n",
       "hit_date            0.000000\n",
       "hit_time           58.247795\n",
       "hit_number          0.000000\n",
       "hit_type            0.000000\n",
       "hit_referer        39.899634\n",
       "hit_page_path       0.000000\n",
       "event_category      0.000000\n",
       "event_action        0.000000\n",
       "event_label        23.909905\n",
       "event_value       100.000000\n",
       "dtype: float64"
      ]
     },
     "execution_count": 36,
     "metadata": {},
     "output_type": "execute_result"
    }
   ],
   "source": [
    "# процент пропусков\n",
    "df_h.isnull().sum ()/ len(df_h)* 100"
   ]
  },
  {
   "cell_type": "markdown",
   "id": "29d7247b",
   "metadata": {},
   "source": [
    "## Поработаем с пропусками"
   ]
  },
  {
   "cell_type": "code",
   "execution_count": 37,
   "id": "b294eeca",
   "metadata": {},
   "outputs": [],
   "source": [
    "# удалим колонку,где все значения пропущены\n",
    "df_h = df_h.drop(columns='event_value')"
   ]
  },
  {
   "cell_type": "code",
   "execution_count": 38,
   "id": "eded92b0",
   "metadata": {},
   "outputs": [],
   "source": [
    "# время события тоже удалим, т.к будет достаточно даты, в рамках этой работы\n",
    "df_h = df_h.drop(columns='hit_time')"
   ]
  },
  {
   "cell_type": "code",
   "execution_count": 39,
   "id": "7d89881c",
   "metadata": {},
   "outputs": [],
   "source": [
    "df_h = df_h.drop(columns='event_label')"
   ]
  },
  {
   "cell_type": "code",
   "execution_count": 40,
   "id": "647e757b",
   "metadata": {},
   "outputs": [],
   "source": [
    "# Источник события очень важный параметр, который не хотелось бы исказить. \n",
    "# Поэтому принято решение удалить строки, где источник пропущен\n",
    "df_h = df_h.dropna(subset='hit_referer')"
   ]
  },
  {
   "cell_type": "code",
   "execution_count": 41,
   "id": "f112298d",
   "metadata": {},
   "outputs": [
    {
     "data": {
      "text/plain": [
       "session_id        0\n",
       "hit_date          0\n",
       "hit_number        0\n",
       "hit_type          0\n",
       "hit_referer       0\n",
       "hit_page_path     0\n",
       "event_category    0\n",
       "event_action      0\n",
       "dtype: int64"
      ]
     },
     "execution_count": 41,
     "metadata": {},
     "output_type": "execute_result"
    }
   ],
   "source": [
    "# Убедимся, что пропусков не осталось\n",
    "df_h.isnull().sum()"
   ]
  },
  {
   "cell_type": "code",
   "execution_count": 42,
   "id": "f9d3bcc5",
   "metadata": {},
   "outputs": [
    {
     "data": {
      "text/plain": [
       "(9451666, 8)"
      ]
     },
     "execution_count": 42,
     "metadata": {},
     "output_type": "execute_result"
    }
   ],
   "source": [
    "df_h.shape"
   ]
  },
  {
   "cell_type": "code",
   "execution_count": 43,
   "id": "c39f0771",
   "metadata": {},
   "outputs": [],
   "source": [
    "# Изменим тип данных в колонке даты\n",
    "df_h['hit_date'] = pd.to_datetime(df_h['hit_date'])"
   ]
  },
  {
   "cell_type": "code",
   "execution_count": 44,
   "id": "4f66eb87",
   "metadata": {},
   "outputs": [
    {
     "name": "stdout",
     "output_type": "stream",
     "text": [
      "<class 'pandas.core.frame.DataFrame'>\n",
      "Index: 9451666 entries, 8 to 15726447\n",
      "Data columns (total 8 columns):\n",
      " #   Column          Dtype         \n",
      "---  ------          -----         \n",
      " 0   session_id      object        \n",
      " 1   hit_date        datetime64[ns]\n",
      " 2   hit_number      int64         \n",
      " 3   hit_type        object        \n",
      " 4   hit_referer     object        \n",
      " 5   hit_page_path   object        \n",
      " 6   event_category  object        \n",
      " 7   event_action    object        \n",
      "dtypes: datetime64[ns](1), int64(1), object(6)\n",
      "memory usage: 649.0+ MB\n"
     ]
    }
   ],
   "source": [
    "df_h.info()"
   ]
  },
  {
   "cell_type": "markdown",
   "id": "292a2da0",
   "metadata": {},
   "source": [
    "  "
   ]
  },
  {
   "cell_type": "markdown",
   "id": "124e5e34",
   "metadata": {},
   "source": [
    " "
   ]
  },
  {
   "cell_type": "markdown",
   "id": "cce37fc7",
   "metadata": {},
   "source": [
    " "
   ]
  },
  {
   "cell_type": "markdown",
   "id": "7d245344",
   "metadata": {},
   "source": [
    "# Проведем проверки гипотез"
   ]
  },
  {
   "cell_type": "markdown",
   "id": "c5195523",
   "metadata": {},
   "source": [
    "## 1-я гипотеза:  Органический трафик не отличается от платного с точки зрения CR в целевые события"
   ]
  },
  {
   "cell_type": "code",
   "execution_count": 45,
   "id": "32fc9b5f",
   "metadata": {},
   "outputs": [
    {
     "data": {
      "text/plain": [
       "array(['banner', 'cpm', 'cpc', 'organic', '(none)', 'referral', 'smm',\n",
       "       'stories', 'blogger_channel', 'blogger_stories', 'app', 'vk_smm',\n",
       "       'cpv', 'push', 'partner', 'tg', 'cpa', 'email', 'post',\n",
       "       'smartbanner', 'info_text', 'clicks', 'landing', 'blogger_header',\n",
       "       '(not set)', 'nkp', 'google_cpc', 'outlook', 'sms', 'article',\n",
       "       'users_msk', 'fb_smm', 'Sbol_catalog', 'ok_smm',\n",
       "       'landing_interests', 'yandex_cpc', 'web_polka', 'static',\n",
       "       'sber_app', 'promo_sbol', 'reach', 'desktop', 'catalogue',\n",
       "       'main_polka', 'qrcodevideo'], dtype=object)"
      ]
     },
     "execution_count": 45,
     "metadata": {},
     "output_type": "execute_result"
    }
   ],
   "source": [
    "# сделаем группы типа трафика по типу привлечения\n",
    "df_s['utm_medium'].unique()"
   ]
  },
  {
   "cell_type": "code",
   "execution_count": 46,
   "id": "7718211b",
   "metadata": {},
   "outputs": [],
   "source": [
    "def func_add_type_traffic(row):\n",
    "    if row['utm_medium'] in ('organic', 'referral', '(none)'):\n",
    "        return 'organic'\n",
    "    else: \n",
    "        return 'inorganic'\n",
    "    "
   ]
  },
  {
   "cell_type": "code",
   "execution_count": 47,
   "id": "279ab8e2",
   "metadata": {},
   "outputs": [],
   "source": [
    "df_s['type_traffic'] = df_s.apply(func_add_type_traffic, axis = 1)"
   ]
  },
  {
   "cell_type": "code",
   "execution_count": null,
   "id": "be5424c9",
   "metadata": {},
   "outputs": [],
   "source": []
  },
  {
   "cell_type": "code",
   "execution_count": 48,
   "id": "686c9782",
   "metadata": {},
   "outputs": [],
   "source": [
    "# целевое и нецелевое действие\n",
    "def func_add_type_action(row):\n",
    "    if row['event_action'].strip().lower() in ['sub_car_claim_click', 'sub_car_claim_submit_click',\n",
    "'sub_open_dialog_click', 'sub_custom_question_submit_click',\n",
    "'sub_call_number_click', 'sub_callback_submit_click', 'sub_submit_success',\n",
    "'sub_car_request_submit_click']:\n",
    "        return 1\n",
    "    else: \n",
    "        return 0"
   ]
  },
  {
   "cell_type": "code",
   "execution_count": 49,
   "id": "4e3c66ed",
   "metadata": {},
   "outputs": [],
   "source": [
    "df_h['type_action'] = df_h.apply(func_add_type_action, axis = 1)"
   ]
  },
  {
   "cell_type": "code",
   "execution_count": null,
   "id": "5af45ae3",
   "metadata": {},
   "outputs": [],
   "source": []
  },
  {
   "cell_type": "code",
   "execution_count": 50,
   "id": "4aa2333d",
   "metadata": {},
   "outputs": [
    {
     "data": {
      "text/plain": [
       "Index(['session_id', 'client_id', 'visit_date', 'visit_time', 'visit_number',\n",
       "       'utm_source', 'utm_medium', 'utm_campaign', 'device_category',\n",
       "       'device_os', 'device_brand', 'device_screen_resolution',\n",
       "       'device_browser', 'geo_country', 'geo_city', 'type_traffic'],\n",
       "      dtype='object')"
      ]
     },
     "execution_count": 50,
     "metadata": {},
     "output_type": "execute_result"
    }
   ],
   "source": [
    "df_s.columns"
   ]
  },
  {
   "cell_type": "code",
   "execution_count": 51,
   "id": "687aa928",
   "metadata": {
    "scrolled": true
   },
   "outputs": [
    {
     "data": {
      "text/plain": [
       "Index(['session_id', 'hit_date', 'hit_number', 'hit_type', 'hit_referer',\n",
       "       'hit_page_path', 'event_category', 'event_action', 'type_action'],\n",
       "      dtype='object')"
      ]
     },
     "execution_count": 51,
     "metadata": {},
     "output_type": "execute_result"
    }
   ],
   "source": [
    "df_h.columns"
   ]
  },
  {
   "cell_type": "code",
   "execution_count": null,
   "id": "0727fe94",
   "metadata": {},
   "outputs": [],
   "source": []
  },
  {
   "cell_type": "code",
   "execution_count": 52,
   "id": "5f954186",
   "metadata": {},
   "outputs": [
    {
     "data": {
      "text/html": [
       "<div>\n",
       "<style scoped>\n",
       "    .dataframe tbody tr th:only-of-type {\n",
       "        vertical-align: middle;\n",
       "    }\n",
       "\n",
       "    .dataframe tbody tr th {\n",
       "        vertical-align: top;\n",
       "    }\n",
       "\n",
       "    .dataframe thead th {\n",
       "        text-align: right;\n",
       "    }\n",
       "</style>\n",
       "<table border=\"1\" class=\"dataframe\">\n",
       "  <thead>\n",
       "    <tr style=\"text-align: right;\">\n",
       "      <th></th>\n",
       "      <th>session_id</th>\n",
       "      <th>type_traffic</th>\n",
       "    </tr>\n",
       "  </thead>\n",
       "  <tbody>\n",
       "    <tr>\n",
       "      <th>0</th>\n",
       "      <td>1000009318903347362.1632663668.1632663668</td>\n",
       "      <td>1</td>\n",
       "    </tr>\n",
       "    <tr>\n",
       "      <th>995197</th>\n",
       "      <td>6541757835132718299.1639369947.1639369947</td>\n",
       "      <td>1</td>\n",
       "    </tr>\n",
       "    <tr>\n",
       "      <th>995195</th>\n",
       "      <td>6541748781343231317.1640942954.1640942954</td>\n",
       "      <td>1</td>\n",
       "    </tr>\n",
       "    <tr>\n",
       "      <th>995194</th>\n",
       "      <td>6541736725362546730.1636155857.1636155857</td>\n",
       "      <td>1</td>\n",
       "    </tr>\n",
       "    <tr>\n",
       "      <th>995193</th>\n",
       "      <td>6541736725362546730.1633458218.1633458218</td>\n",
       "      <td>1</td>\n",
       "    </tr>\n",
       "    <tr>\n",
       "      <th>...</th>\n",
       "      <td>...</td>\n",
       "      <td>...</td>\n",
       "    </tr>\n",
       "    <tr>\n",
       "      <th>497592</th>\n",
       "      <td>3774445749866161708.1623287339.1623287339</td>\n",
       "      <td>1</td>\n",
       "    </tr>\n",
       "    <tr>\n",
       "      <th>497591</th>\n",
       "      <td>3774445307494990818.1633747942.1633747942</td>\n",
       "      <td>1</td>\n",
       "    </tr>\n",
       "    <tr>\n",
       "      <th>497590</th>\n",
       "      <td>3774441356129793959.1638463403.1638463403</td>\n",
       "      <td>1</td>\n",
       "    </tr>\n",
       "    <tr>\n",
       "      <th>497589</th>\n",
       "      <td>3774438564396519316.1633931155.1633931155</td>\n",
       "      <td>1</td>\n",
       "    </tr>\n",
       "    <tr>\n",
       "      <th>1492783</th>\n",
       "      <td>999989480451054428.1634311006.1634311006</td>\n",
       "      <td>1</td>\n",
       "    </tr>\n",
       "  </tbody>\n",
       "</table>\n",
       "<p>1492784 rows × 2 columns</p>\n",
       "</div>"
      ],
      "text/plain": [
       "                                        session_id  type_traffic\n",
       "0        1000009318903347362.1632663668.1632663668             1\n",
       "995197   6541757835132718299.1639369947.1639369947             1\n",
       "995195   6541748781343231317.1640942954.1640942954             1\n",
       "995194   6541736725362546730.1636155857.1636155857             1\n",
       "995193   6541736725362546730.1633458218.1633458218             1\n",
       "...                                            ...           ...\n",
       "497592   3774445749866161708.1623287339.1623287339             1\n",
       "497591   3774445307494990818.1633747942.1633747942             1\n",
       "497590   3774441356129793959.1638463403.1638463403             1\n",
       "497589   3774438564396519316.1633931155.1633931155             1\n",
       "1492783   999989480451054428.1634311006.1634311006             1\n",
       "\n",
       "[1492784 rows x 2 columns]"
      ]
     },
     "execution_count": 52,
     "metadata": {},
     "output_type": "execute_result"
    }
   ],
   "source": [
    "# проверим могут ли быть визиты разных трафиков\n",
    "df_s.groupby('session_id',as_index=False).type_traffic.nunique().sort_values(by='type_traffic', ascending=False)"
   ]
  },
  {
   "cell_type": "code",
   "execution_count": 53,
   "id": "e114e098",
   "metadata": {},
   "outputs": [],
   "source": [
    "# значит они независимы"
   ]
  },
  {
   "cell_type": "code",
   "execution_count": null,
   "id": "afc8d783",
   "metadata": {},
   "outputs": [],
   "source": []
  },
  {
   "cell_type": "code",
   "execution_count": 54,
   "id": "3da2b724",
   "metadata": {},
   "outputs": [],
   "source": [
    "df_1 = pd.merge(df_h, df_s, left_on = ['session_id'], right_on = ['session_id'])"
   ]
  },
  {
   "cell_type": "code",
   "execution_count": 55,
   "id": "fa879d3c",
   "metadata": {},
   "outputs": [
    {
     "data": {
      "text/plain": [
       "Index(['session_id', 'hit_date', 'hit_number', 'hit_type', 'hit_referer',\n",
       "       'hit_page_path', 'event_category', 'event_action', 'type_action',\n",
       "       'client_id', 'visit_date', 'visit_time', 'visit_number', 'utm_source',\n",
       "       'utm_medium', 'utm_campaign', 'device_category', 'device_os',\n",
       "       'device_brand', 'device_screen_resolution', 'device_browser',\n",
       "       'geo_country', 'geo_city', 'type_traffic'],\n",
       "      dtype='object')"
      ]
     },
     "execution_count": 55,
     "metadata": {},
     "output_type": "execute_result"
    }
   ],
   "source": [
    "df_1.columns"
   ]
  },
  {
   "cell_type": "code",
   "execution_count": 56,
   "id": "5a8c0eb7",
   "metadata": {},
   "outputs": [],
   "source": [
    "# посчитаем кол-во уникальных сессий\n",
    "df_uniq_ses = df_1.groupby(['visit_date','type_traffic'],as_index=False).agg({'session_id':'nunique'})"
   ]
  },
  {
   "cell_type": "code",
   "execution_count": 57,
   "id": "feff2d35",
   "metadata": {},
   "outputs": [],
   "source": [
    "# посчитаем кол-во целевых действий \n",
    "df_count_act = df_1.groupby(['visit_date','type_traffic','session_id'],as_index=False).type_action.sum()"
   ]
  },
  {
   "cell_type": "code",
   "execution_count": 58,
   "id": "bc640f9d",
   "metadata": {},
   "outputs": [],
   "source": [
    "# посчитаем все целевые действия как одно, в рамках одного визита\n",
    "df_count_act['type_action'] = np.where((df_count_act.type_action > 1), 1, df_count_act.type_action)\n"
   ]
  },
  {
   "cell_type": "code",
   "execution_count": 59,
   "id": "ed68d985",
   "metadata": {},
   "outputs": [],
   "source": [
    "df_count_act = df_count_act.groupby(['visit_date','type_traffic'],as_index=False).type_action.sum()"
   ]
  },
  {
   "cell_type": "code",
   "execution_count": null,
   "id": "5402277d",
   "metadata": {},
   "outputs": [],
   "source": []
  },
  {
   "cell_type": "code",
   "execution_count": 60,
   "id": "82228c74",
   "metadata": {},
   "outputs": [],
   "source": [
    "df_1 = pd.merge(df_uniq_ses,df_count_act, on=['visit_date','type_traffic'])"
   ]
  },
  {
   "cell_type": "code",
   "execution_count": 61,
   "id": "85f07ab4",
   "metadata": {},
   "outputs": [],
   "source": [
    "# посчитаем конверсии по датам\n",
    "df_1['CR'] = df_1['type_action'] / df_1['session_id']"
   ]
  },
  {
   "cell_type": "code",
   "execution_count": 62,
   "id": "e4e4653c",
   "metadata": {},
   "outputs": [],
   "source": [
    "df_1 = df_1[['visit_date','type_traffic', 'CR']]"
   ]
  },
  {
   "cell_type": "code",
   "execution_count": 63,
   "id": "7c39077c",
   "metadata": {
    "scrolled": true
   },
   "outputs": [
    {
     "data": {
      "text/html": [
       "<div>\n",
       "<style scoped>\n",
       "    .dataframe tbody tr th:only-of-type {\n",
       "        vertical-align: middle;\n",
       "    }\n",
       "\n",
       "    .dataframe tbody tr th {\n",
       "        vertical-align: top;\n",
       "    }\n",
       "\n",
       "    .dataframe thead th {\n",
       "        text-align: right;\n",
       "    }\n",
       "</style>\n",
       "<table border=\"1\" class=\"dataframe\">\n",
       "  <thead>\n",
       "    <tr style=\"text-align: right;\">\n",
       "      <th></th>\n",
       "      <th>visit_date</th>\n",
       "      <th>type_traffic</th>\n",
       "      <th>CR</th>\n",
       "    </tr>\n",
       "  </thead>\n",
       "  <tbody>\n",
       "    <tr>\n",
       "      <th>0</th>\n",
       "      <td>2021-05-19</td>\n",
       "      <td>inorganic</td>\n",
       "      <td>0.000000</td>\n",
       "    </tr>\n",
       "    <tr>\n",
       "      <th>1</th>\n",
       "      <td>2021-05-19</td>\n",
       "      <td>organic</td>\n",
       "      <td>0.069401</td>\n",
       "    </tr>\n",
       "    <tr>\n",
       "      <th>2</th>\n",
       "      <td>2021-05-21</td>\n",
       "      <td>inorganic</td>\n",
       "      <td>0.000000</td>\n",
       "    </tr>\n",
       "    <tr>\n",
       "      <th>3</th>\n",
       "      <td>2021-05-21</td>\n",
       "      <td>organic</td>\n",
       "      <td>0.000000</td>\n",
       "    </tr>\n",
       "    <tr>\n",
       "      <th>4</th>\n",
       "      <td>2021-05-22</td>\n",
       "      <td>inorganic</td>\n",
       "      <td>0.019608</td>\n",
       "    </tr>\n",
       "    <tr>\n",
       "      <th>...</th>\n",
       "      <td>...</td>\n",
       "      <td>...</td>\n",
       "      <td>...</td>\n",
       "    </tr>\n",
       "    <tr>\n",
       "      <th>447</th>\n",
       "      <td>2021-12-29</td>\n",
       "      <td>organic</td>\n",
       "      <td>0.012876</td>\n",
       "    </tr>\n",
       "    <tr>\n",
       "      <th>448</th>\n",
       "      <td>2021-12-30</td>\n",
       "      <td>inorganic</td>\n",
       "      <td>0.007862</td>\n",
       "    </tr>\n",
       "    <tr>\n",
       "      <th>449</th>\n",
       "      <td>2021-12-30</td>\n",
       "      <td>organic</td>\n",
       "      <td>0.029940</td>\n",
       "    </tr>\n",
       "    <tr>\n",
       "      <th>450</th>\n",
       "      <td>2021-12-31</td>\n",
       "      <td>inorganic</td>\n",
       "      <td>0.004392</td>\n",
       "    </tr>\n",
       "    <tr>\n",
       "      <th>451</th>\n",
       "      <td>2021-12-31</td>\n",
       "      <td>organic</td>\n",
       "      <td>0.008475</td>\n",
       "    </tr>\n",
       "  </tbody>\n",
       "</table>\n",
       "<p>452 rows × 3 columns</p>\n",
       "</div>"
      ],
      "text/plain": [
       "    visit_date type_traffic        CR\n",
       "0   2021-05-19    inorganic  0.000000\n",
       "1   2021-05-19      organic  0.069401\n",
       "2   2021-05-21    inorganic  0.000000\n",
       "3   2021-05-21      organic  0.000000\n",
       "4   2021-05-22    inorganic  0.019608\n",
       "..         ...          ...       ...\n",
       "447 2021-12-29      organic  0.012876\n",
       "448 2021-12-30    inorganic  0.007862\n",
       "449 2021-12-30      organic  0.029940\n",
       "450 2021-12-31    inorganic  0.004392\n",
       "451 2021-12-31      organic  0.008475\n",
       "\n",
       "[452 rows x 3 columns]"
      ]
     },
     "execution_count": 63,
     "metadata": {},
     "output_type": "execute_result"
    }
   ],
   "source": [
    "df_1"
   ]
  },
  {
   "cell_type": "markdown",
   "id": "9160615e",
   "metadata": {},
   "source": [
    "### Посмотрим распределения"
   ]
  },
  {
   "cell_type": "code",
   "execution_count": 64,
   "id": "c98c4450",
   "metadata": {},
   "outputs": [
    {
     "data": {
      "image/png": "[encoded data removed]",
      "text/plain": [
       "<Figure size 640x480 with 1 Axes>"
      ]
     },
     "metadata": {},
     "output_type": "display_data"
    }
   ],
   "source": [
    "plt.hist(df_1[df_1['type_traffic']=='organic'].CR);"
   ]
  },
  {
   "cell_type": "code",
   "execution_count": 65,
   "id": "7dda6d4c",
   "metadata": {},
   "outputs": [
    {
     "data": {
      "image/png": "[encoded data removed]",
      "text/plain": [
       "<Figure size 640x480 with 1 Axes>"
      ]
     },
     "metadata": {},
     "output_type": "display_data"
    }
   ],
   "source": [
    "plt.hist(df_1[df_1['type_traffic']=='inorganic'].CR);"
   ]
  },
  {
   "cell_type": "code",
   "execution_count": 66,
   "id": "63b59791",
   "metadata": {},
   "outputs": [
    {
     "name": "stderr",
     "output_type": "stream",
     "text": [
      "C:\\Users\\User\\anaconda3\\Lib\\site-packages\\seaborn\\_oldcore.py:1498: FutureWarning: is_categorical_dtype is deprecated and will be removed in a future version. Use isinstance(dtype, CategoricalDtype) instead\n",
      "  if pd.api.types.is_categorical_dtype(vector):\n",
      "C:\\Users\\User\\anaconda3\\Lib\\site-packages\\seaborn\\_oldcore.py:1498: FutureWarning: is_categorical_dtype is deprecated and will be removed in a future version. Use isinstance(dtype, CategoricalDtype) instead\n",
      "  if pd.api.types.is_categorical_dtype(vector):\n",
      "C:\\Users\\User\\anaconda3\\Lib\\site-packages\\seaborn\\_oldcore.py:1498: FutureWarning: is_categorical_dtype is deprecated and will be removed in a future version. Use isinstance(dtype, CategoricalDtype) instead\n",
      "  if pd.api.types.is_categorical_dtype(vector):\n"
     ]
    },
    {
     "data": {
      "image/png": "[encoded data removed]",
      "text/plain": [
       "<Figure size 640x480 with 1 Axes>"
      ]
     },
     "metadata": {},
     "output_type": "display_data"
    }
   ],
   "source": [
    "sns.boxplot(x = 'CR', y = 'type_traffic', data = df_1, orient = 'h').set(title = 'CR by type_traffic');"
   ]
  },
  {
   "cell_type": "code",
   "execution_count": 67,
   "id": "30cab41d",
   "metadata": {
    "scrolled": false
   },
   "outputs": [
    {
     "name": "stderr",
     "output_type": "stream",
     "text": [
      "C:\\Users\\User\\anaconda3\\Lib\\site-packages\\seaborn\\_oldcore.py:1498: FutureWarning: is_categorical_dtype is deprecated and will be removed in a future version. Use isinstance(dtype, CategoricalDtype) instead\n",
      "  if pd.api.types.is_categorical_dtype(vector):\n",
      "C:\\Users\\User\\anaconda3\\Lib\\site-packages\\seaborn\\_oldcore.py:1498: FutureWarning: is_categorical_dtype is deprecated and will be removed in a future version. Use isinstance(dtype, CategoricalDtype) instead\n",
      "  if pd.api.types.is_categorical_dtype(vector):\n",
      "C:\\Users\\User\\anaconda3\\Lib\\site-packages\\seaborn\\_oldcore.py:1498: FutureWarning: is_categorical_dtype is deprecated and will be removed in a future version. Use isinstance(dtype, CategoricalDtype) instead\n",
      "  if pd.api.types.is_categorical_dtype(vector):\n",
      "C:\\Users\\User\\anaconda3\\Lib\\site-packages\\seaborn\\_oldcore.py:1498: FutureWarning: is_categorical_dtype is deprecated and will be removed in a future version. Use isinstance(dtype, CategoricalDtype) instead\n",
      "  if pd.api.types.is_categorical_dtype(vector):\n",
      "C:\\Users\\User\\anaconda3\\Lib\\site-packages\\seaborn\\_oldcore.py:1119: FutureWarning: use_inf_as_na option is deprecated and will be removed in a future version. Convert inf values to NaN before operating instead.\n",
      "  with pd.option_context('mode.use_inf_as_na', True):\n"
     ]
    },
    {
     "data": {
      "image/png": "[encoded data removed]",
      "text/plain": [
       "<Figure size 614.375x500 with 1 Axes>"
      ]
     },
     "metadata": {},
     "output_type": "display_data"
    }
   ],
   "source": [
    "sns.displot(data=df_1, x='CR', hue='type_traffic', fill = False, kind = 'kde');"
   ]
  },
  {
   "cell_type": "markdown",
   "id": "22259fbc",
   "metadata": {},
   "source": [
    "### По распределениям нельзя сказать, что они нормальные"
   ]
  },
  {
   "cell_type": "markdown",
   "id": "a04038e7",
   "metadata": {},
   "source": [
    "### Проведем тест на нормальность Шапиро-Уилка. Уровень значимости возьмем 5%\n",
    "    - H0: данные распределены нормально \n",
    "    - H1: данные распределены ненормально"
   ]
  },
  {
   "cell_type": "code",
   "execution_count": 68,
   "id": "95cf6357",
   "metadata": {
    "scrolled": true
   },
   "outputs": [
    {
     "name": "stdout",
     "output_type": "stream",
     "text": [
      "Данные из группы inorganic распределены ненормально, p-value = 5.508333197212778e-05\n",
      "Данные из группы organic распределены ненормально, p-value = 0.001452930853702128\n"
     ]
    }
   ],
   "source": [
    "a = 0.05\n",
    "\n",
    "for i in df_1.type_traffic.unique():\n",
    "    x = stats.shapiro(df_1.loc[df_1.type_traffic == i, 'CR'])[1]\n",
    "    if x > 0.05:\n",
    "        print(f'Данные из группы {i} распределены нормально, p-value = {x}')\n",
    "    else:\n",
    "        print(f'Данные из группы {i} распределены ненормально, p-value = {x}')"
   ]
  },
  {
   "cell_type": "markdown",
   "id": "ed418623",
   "metadata": {},
   "source": [
    "### Так как наши данные имеют не нормальное распределение, а также независимы, то мы можем применить тест Манна-Уитни. Уровень значимость 5%\n",
    "    - H0: Органический трафик не отличается от платного с точки зрения CR в целевые события\n",
    "    - H1: Органический трафик отличается от платного с точки зрения CR в целевые события"
   ]
  },
  {
   "cell_type": "code",
   "execution_count": 69,
   "id": "16696c1f",
   "metadata": {},
   "outputs": [
    {
     "name": "stdout",
     "output_type": "stream",
     "text": [
      "Мы можем отвергнуть нулевую гипотезу, т.к p-value = 5.8025622294004935e-05\n"
     ]
    }
   ],
   "source": [
    "p = stats.mannwhitneyu(df_1[df_1.type_traffic == 'organic'].CR, df_1[df_1.type_traffic == 'inorganic'].CR)[1]\n",
    "if p > a:\n",
    "    print(f'Мы не может отвергнуть нулевую гипотезу, т.к p-value = {p}')\n",
    "else:\n",
    "    print(f'Мы можем отвергнуть нулевую гипотезу, т.к p-value = {p}')"
   ]
  },
  {
   "cell_type": "markdown",
   "id": "73df936e",
   "metadata": {},
   "source": [
    "    - H0: Органический трафик меньше от платного с точки зрения CR в целевые события\n",
    "    - H1: Органический трафик больше от платного с точки зрения CR в целевые события"
   ]
  },
  {
   "cell_type": "code",
   "execution_count": 70,
   "id": "76c25571",
   "metadata": {},
   "outputs": [
    {
     "name": "stdout",
     "output_type": "stream",
     "text": [
      "Мы не может отвергнуть нулевую гипотезу, т.к p-value = 0.999971075763216\n"
     ]
    }
   ],
   "source": [
    "p = stats.mannwhitneyu(df_1[df_1.type_traffic == 'organic'].CR, df_1[df_1.type_traffic == 'inorganic'].CR, alternative='less')[1]\n",
    "if p > a:\n",
    "    print(f'Мы не может отвергнуть нулевую гипотезу, т.к p-value = {p}')\n",
    "else:\n",
    "    print(f'Мы можем отвергнуть нулевую гипотезу, т.к p-value = {p}')"
   ]
  },
  {
   "cell_type": "markdown",
   "id": "4917442a",
   "metadata": {},
   "source": [
    "### Делаем вывод, что органический трафик отличается от платного с точки зрения CR в целевые действия\n",
    "### И что органический трафик меньше платного с точки зрения CR в целевые действия"
   ]
  },
  {
   "cell_type": "markdown",
   "id": "b7f77978",
   "metadata": {},
   "source": [
    " "
   ]
  },
  {
   "cell_type": "markdown",
   "id": "bf19c6d6",
   "metadata": {},
   "source": [
    " "
   ]
  },
  {
   "cell_type": "markdown",
   "id": "5d6421aa",
   "metadata": {},
   "source": [
    " "
   ]
  },
  {
   "cell_type": "markdown",
   "id": "f61a84cf",
   "metadata": {},
   "source": [
    "## 2-я гипотеза: Трафик с мобильных устройств не отличается от трафика с десктопных устройств с точки зрения CR в целевые события"
   ]
  },
  {
   "cell_type": "code",
   "execution_count": 71,
   "id": "2fdbe09a",
   "metadata": {},
   "outputs": [],
   "source": [
    "df_2 = pd.merge(df_h, df_s, left_on = ['session_id'], right_on = ['session_id'])"
   ]
  },
  {
   "cell_type": "code",
   "execution_count": 72,
   "id": "b22b6b35",
   "metadata": {},
   "outputs": [
    {
     "data": {
      "text/plain": [
       "Index(['session_id', 'hit_date', 'hit_number', 'hit_type', 'hit_referer',\n",
       "       'hit_page_path', 'event_category', 'event_action', 'type_action',\n",
       "       'client_id', 'visit_date', 'visit_time', 'visit_number', 'utm_source',\n",
       "       'utm_medium', 'utm_campaign', 'device_category', 'device_os',\n",
       "       'device_brand', 'device_screen_resolution', 'device_browser',\n",
       "       'geo_country', 'geo_city', 'type_traffic'],\n",
       "      dtype='object')"
      ]
     },
     "execution_count": 72,
     "metadata": {},
     "output_type": "execute_result"
    }
   ],
   "source": [
    "df_2.columns"
   ]
  },
  {
   "cell_type": "code",
   "execution_count": 73,
   "id": "f524e5c3",
   "metadata": {},
   "outputs": [
    {
     "data": {
      "text/plain": [
       "array(['mobile', 'tablet', 'desktop'], dtype=object)"
      ]
     },
     "execution_count": 73,
     "metadata": {},
     "output_type": "execute_result"
    }
   ],
   "source": [
    "df_2.device_category.unique()"
   ]
  },
  {
   "cell_type": "code",
   "execution_count": 74,
   "id": "e17369e2",
   "metadata": {},
   "outputs": [
    {
     "data": {
      "text/plain": [
       "device_category\n",
       "mobile     6632583\n",
       "tablet       95466\n",
       "desktop        301\n",
       "Name: count, dtype: int64"
      ]
     },
     "execution_count": 74,
     "metadata": {},
     "output_type": "execute_result"
    }
   ],
   "source": [
    "df_2.device_category.value_counts()"
   ]
  },
  {
   "cell_type": "code",
   "execution_count": 75,
   "id": "da533ef5",
   "metadata": {},
   "outputs": [],
   "source": [
    "def add_is_mobile(row):\n",
    "    if row['device_category'] in (['mobile']):\n",
    "        return 'is_mobile'\n",
    "    else:\n",
    "        return 'no_mobile'"
   ]
  },
  {
   "cell_type": "code",
   "execution_count": 76,
   "id": "4645bcfe",
   "metadata": {},
   "outputs": [],
   "source": [
    "df_2['is_mobile'] = df_2.apply(add_is_mobile, axis = 1)"
   ]
  },
  {
   "cell_type": "code",
   "execution_count": 77,
   "id": "5c567753",
   "metadata": {},
   "outputs": [],
   "source": [
    "# посчитаем кол-во уникальных сессий\n",
    "df_uniq_ses = df_2.groupby(['visit_date','is_mobile'],as_index=False).agg({'session_id':'nunique'})"
   ]
  },
  {
   "cell_type": "code",
   "execution_count": 78,
   "id": "5464282b",
   "metadata": {},
   "outputs": [],
   "source": [
    "# посчитаем кол-во целевых действий \n",
    "df_count_act = df_2.groupby(['visit_date','is_mobile','session_id'],as_index=False).type_action.sum()"
   ]
  },
  {
   "cell_type": "code",
   "execution_count": 79,
   "id": "3bdf2c94",
   "metadata": {},
   "outputs": [],
   "source": [
    "# посчитаем все целевые действия как одно, в рамках одного визита\n",
    "df_count_act['type_action'] = np.where((df_count_act.type_action > 1), 1, df_count_act.type_action)"
   ]
  },
  {
   "cell_type": "code",
   "execution_count": 80,
   "id": "7af2eaa4",
   "metadata": {},
   "outputs": [],
   "source": [
    "df_count_act = df_count_act.groupby(['visit_date','is_mobile'],as_index=False).type_action.sum()"
   ]
  },
  {
   "cell_type": "code",
   "execution_count": 81,
   "id": "caaae388",
   "metadata": {},
   "outputs": [],
   "source": [
    "df_2 = pd.merge(df_uniq_ses,df_count_act, on=['visit_date','is_mobile'])"
   ]
  },
  {
   "cell_type": "code",
   "execution_count": 82,
   "id": "3b2ee27c",
   "metadata": {},
   "outputs": [],
   "source": [
    "# посчитаем конверсии по датам\n",
    "df_2['CR'] = df_2['type_action'] / df_2['session_id']"
   ]
  },
  {
   "cell_type": "code",
   "execution_count": 83,
   "id": "d39cd8a6",
   "metadata": {},
   "outputs": [],
   "source": [
    "df_2 = df_2[['visit_date','is_mobile', 'CR']]"
   ]
  },
  {
   "cell_type": "code",
   "execution_count": 84,
   "id": "d1f95c22",
   "metadata": {},
   "outputs": [
    {
     "data": {
      "text/html": [
       "<div>\n",
       "<style scoped>\n",
       "    .dataframe tbody tr th:only-of-type {\n",
       "        vertical-align: middle;\n",
       "    }\n",
       "\n",
       "    .dataframe tbody tr th {\n",
       "        vertical-align: top;\n",
       "    }\n",
       "\n",
       "    .dataframe thead th {\n",
       "        text-align: right;\n",
       "    }\n",
       "</style>\n",
       "<table border=\"1\" class=\"dataframe\">\n",
       "  <thead>\n",
       "    <tr style=\"text-align: right;\">\n",
       "      <th></th>\n",
       "      <th>visit_date</th>\n",
       "      <th>is_mobile</th>\n",
       "      <th>CR</th>\n",
       "    </tr>\n",
       "  </thead>\n",
       "  <tbody>\n",
       "    <tr>\n",
       "      <th>0</th>\n",
       "      <td>2021-05-19</td>\n",
       "      <td>is_mobile</td>\n",
       "      <td>0.069841</td>\n",
       "    </tr>\n",
       "    <tr>\n",
       "      <th>1</th>\n",
       "      <td>2021-05-19</td>\n",
       "      <td>no_mobile</td>\n",
       "      <td>0.000000</td>\n",
       "    </tr>\n",
       "    <tr>\n",
       "      <th>2</th>\n",
       "      <td>2021-05-21</td>\n",
       "      <td>is_mobile</td>\n",
       "      <td>0.000000</td>\n",
       "    </tr>\n",
       "    <tr>\n",
       "      <th>3</th>\n",
       "      <td>2021-05-21</td>\n",
       "      <td>no_mobile</td>\n",
       "      <td>0.000000</td>\n",
       "    </tr>\n",
       "    <tr>\n",
       "      <th>4</th>\n",
       "      <td>2021-05-22</td>\n",
       "      <td>is_mobile</td>\n",
       "      <td>0.013944</td>\n",
       "    </tr>\n",
       "    <tr>\n",
       "      <th>...</th>\n",
       "      <td>...</td>\n",
       "      <td>...</td>\n",
       "      <td>...</td>\n",
       "    </tr>\n",
       "    <tr>\n",
       "      <th>447</th>\n",
       "      <td>2021-12-29</td>\n",
       "      <td>no_mobile</td>\n",
       "      <td>0.000000</td>\n",
       "    </tr>\n",
       "    <tr>\n",
       "      <th>448</th>\n",
       "      <td>2021-12-30</td>\n",
       "      <td>is_mobile</td>\n",
       "      <td>0.011436</td>\n",
       "    </tr>\n",
       "    <tr>\n",
       "      <th>449</th>\n",
       "      <td>2021-12-30</td>\n",
       "      <td>no_mobile</td>\n",
       "      <td>0.062500</td>\n",
       "    </tr>\n",
       "    <tr>\n",
       "      <th>450</th>\n",
       "      <td>2021-12-31</td>\n",
       "      <td>is_mobile</td>\n",
       "      <td>0.005161</td>\n",
       "    </tr>\n",
       "    <tr>\n",
       "      <th>451</th>\n",
       "      <td>2021-12-31</td>\n",
       "      <td>no_mobile</td>\n",
       "      <td>0.000000</td>\n",
       "    </tr>\n",
       "  </tbody>\n",
       "</table>\n",
       "<p>452 rows × 3 columns</p>\n",
       "</div>"
      ],
      "text/plain": [
       "    visit_date  is_mobile        CR\n",
       "0   2021-05-19  is_mobile  0.069841\n",
       "1   2021-05-19  no_mobile  0.000000\n",
       "2   2021-05-21  is_mobile  0.000000\n",
       "3   2021-05-21  no_mobile  0.000000\n",
       "4   2021-05-22  is_mobile  0.013944\n",
       "..         ...        ...       ...\n",
       "447 2021-12-29  no_mobile  0.000000\n",
       "448 2021-12-30  is_mobile  0.011436\n",
       "449 2021-12-30  no_mobile  0.062500\n",
       "450 2021-12-31  is_mobile  0.005161\n",
       "451 2021-12-31  no_mobile  0.000000\n",
       "\n",
       "[452 rows x 3 columns]"
      ]
     },
     "execution_count": 84,
     "metadata": {},
     "output_type": "execute_result"
    }
   ],
   "source": [
    "df_2"
   ]
  },
  {
   "cell_type": "markdown",
   "id": "204b864a",
   "metadata": {},
   "source": [
    "### Посмотрим распределения"
   ]
  },
  {
   "cell_type": "code",
   "execution_count": 85,
   "id": "8aaebb3d",
   "metadata": {},
   "outputs": [
    {
     "data": {
      "image/png": "[encoded data removed]",
      "text/plain": [
       "<Figure size 640x480 with 1 Axes>"
      ]
     },
     "metadata": {},
     "output_type": "display_data"
    }
   ],
   "source": [
    "plt.hist(df_2[df_2['is_mobile']=='is_mobile'].CR);"
   ]
  },
  {
   "cell_type": "code",
   "execution_count": 86,
   "id": "85693149",
   "metadata": {
    "scrolled": true
   },
   "outputs": [
    {
     "data": {
      "image/png": "[encoded data removed]",
      "text/plain": [
       "<Figure size 640x480 with 1 Axes>"
      ]
     },
     "metadata": {},
     "output_type": "display_data"
    }
   ],
   "source": [
    "plt.hist(df_2[df_2['is_mobile']=='no_mobile'].CR);"
   ]
  },
  {
   "cell_type": "code",
   "execution_count": 87,
   "id": "0da3c970",
   "metadata": {},
   "outputs": [
    {
     "name": "stderr",
     "output_type": "stream",
     "text": [
      "C:\\Users\\User\\anaconda3\\Lib\\site-packages\\seaborn\\_oldcore.py:1498: FutureWarning: is_categorical_dtype is deprecated and will be removed in a future version. Use isinstance(dtype, CategoricalDtype) instead\n",
      "  if pd.api.types.is_categorical_dtype(vector):\n",
      "C:\\Users\\User\\anaconda3\\Lib\\site-packages\\seaborn\\_oldcore.py:1498: FutureWarning: is_categorical_dtype is deprecated and will be removed in a future version. Use isinstance(dtype, CategoricalDtype) instead\n",
      "  if pd.api.types.is_categorical_dtype(vector):\n",
      "C:\\Users\\User\\anaconda3\\Lib\\site-packages\\seaborn\\_oldcore.py:1498: FutureWarning: is_categorical_dtype is deprecated and will be removed in a future version. Use isinstance(dtype, CategoricalDtype) instead\n",
      "  if pd.api.types.is_categorical_dtype(vector):\n"
     ]
    },
    {
     "data": {
      "image/png": "[encoded data removed]",
      "text/plain": [
       "<Figure size 640x480 with 1 Axes>"
      ]
     },
     "metadata": {},
     "output_type": "display_data"
    }
   ],
   "source": [
    "sns.boxplot(x = 'CR', y = 'is_mobile', data = df_2, orient = 'h').set(title = 'CR by mobile');"
   ]
  },
  {
   "cell_type": "code",
   "execution_count": 88,
   "id": "a62594ac",
   "metadata": {},
   "outputs": [
    {
     "name": "stderr",
     "output_type": "stream",
     "text": [
      "C:\\Users\\User\\anaconda3\\Lib\\site-packages\\seaborn\\_oldcore.py:1498: FutureWarning: is_categorical_dtype is deprecated and will be removed in a future version. Use isinstance(dtype, CategoricalDtype) instead\n",
      "  if pd.api.types.is_categorical_dtype(vector):\n",
      "C:\\Users\\User\\anaconda3\\Lib\\site-packages\\seaborn\\_oldcore.py:1498: FutureWarning: is_categorical_dtype is deprecated and will be removed in a future version. Use isinstance(dtype, CategoricalDtype) instead\n",
      "  if pd.api.types.is_categorical_dtype(vector):\n",
      "C:\\Users\\User\\anaconda3\\Lib\\site-packages\\seaborn\\_oldcore.py:1498: FutureWarning: is_categorical_dtype is deprecated and will be removed in a future version. Use isinstance(dtype, CategoricalDtype) instead\n",
      "  if pd.api.types.is_categorical_dtype(vector):\n",
      "C:\\Users\\User\\anaconda3\\Lib\\site-packages\\seaborn\\_oldcore.py:1498: FutureWarning: is_categorical_dtype is deprecated and will be removed in a future version. Use isinstance(dtype, CategoricalDtype) instead\n",
      "  if pd.api.types.is_categorical_dtype(vector):\n",
      "C:\\Users\\User\\anaconda3\\Lib\\site-packages\\seaborn\\_oldcore.py:1119: FutureWarning: use_inf_as_na option is deprecated and will be removed in a future version. Convert inf values to NaN before operating instead.\n",
      "  with pd.option_context('mode.use_inf_as_na', True):\n"
     ]
    },
    {
     "data": {
      "image/png": "[encoded data removed]",
      "text/plain": [
       "<Figure size 621.375x500 with 1 Axes>"
      ]
     },
     "metadata": {},
     "output_type": "display_data"
    }
   ],
   "source": [
    "sns.displot(data=df_2, x='CR', hue='is_mobile', fill = False, kind = 'kde');"
   ]
  },
  {
   "cell_type": "markdown",
   "id": "c9aecac7",
   "metadata": {},
   "source": [
    "### Проведем тест на нормальность Шапиро-Уилка. Уровень значимости возьмем 5%\n",
    "    - H0: данные распределены нормально \n",
    "    - H1: данные распределены ненормально"
   ]
  },
  {
   "cell_type": "code",
   "execution_count": 90,
   "id": "c634b244",
   "metadata": {},
   "outputs": [
    {
     "name": "stdout",
     "output_type": "stream",
     "text": [
      "Данные из группы is_mobile распределены ненормально, p-value = 3.7860654629184864e-06\n",
      "Данные из группы no_mobile распределены ненормально, p-value = 1.9011911257984908e-16\n"
     ]
    }
   ],
   "source": [
    "a = 0.05\n",
    "\n",
    "for i in df_2.is_mobile.unique():\n",
    "    x = stats.shapiro(df_2.loc[df_2.is_mobile == i, 'CR'])[1]\n",
    "    if x > 0.05:\n",
    "        print(f'Данные из группы {i} распределены нормально, p-value = {x}')\n",
    "    else:\n",
    "        print(f'Данные из группы {i} распределены ненормально, p-value = {x}')"
   ]
  },
  {
   "cell_type": "markdown",
   "id": "bc49e7d3",
   "metadata": {},
   "source": [
    "### Так как наши данные имеют не нормальное распределение, а также независимы, то мы можем применить тест Манна-Уитни. Уровень значимость 5%\n",
    "    - H0: Трафик с мобильных устройств не отличается от трафика с десктопных устройств с точки зрения CR в целевые события\n",
    "    - H1: Трафик с мобильных устройств отличается от трафика с десктопных устройств с точки зрения CR в целевые события"
   ]
  },
  {
   "cell_type": "code",
   "execution_count": 92,
   "id": "067616c2",
   "metadata": {},
   "outputs": [
    {
     "name": "stdout",
     "output_type": "stream",
     "text": [
      "Мы можем отвергнуть нулевую гипотезу, т.к p-value = 1.66652181309219e-08\n"
     ]
    }
   ],
   "source": [
    "p = stats.mannwhitneyu(df_2[df_2.is_mobile == 'is_mobile'].CR, df_2[df_2.is_mobile == 'no_mobile'].CR)[1]\n",
    "if p > a:\n",
    "    print(f'Мы не может отвергнуть нулевую гипотезу, т.к p-value = {p}')\n",
    "else:\n",
    "    print(f'Мы можем отвергнуть нулевую гипотезу, т.к p-value = {p}')"
   ]
  },
  {
   "cell_type": "markdown",
   "id": "8478748d",
   "metadata": {},
   "source": [
    "    - H0: Трафик с мобильных устройств меньше трафика с десктопных устройств с точки зрения CR в целевые события\n",
    "    - H1: Трафик с мобильных устройств больше трафика с десктопных устройств с точки зрения CR в целевые события"
   ]
  },
  {
   "cell_type": "code",
   "execution_count": 94,
   "id": "cff850ce",
   "metadata": {},
   "outputs": [
    {
     "name": "stdout",
     "output_type": "stream",
     "text": [
      "Мы не может отвергнуть нулевую гипотезу, т.к p-value = 0.9999999917023484\n"
     ]
    }
   ],
   "source": [
    "p = stats.mannwhitneyu(df_2[df_2.is_mobile == 'is_mobile'].CR, df_2[df_2.is_mobile == 'no_mobile'].CR, alternative='less')[1]\n",
    "if p > a:\n",
    "    print(f'Мы не может отвергнуть нулевую гипотезу, т.к p-value = {p}')\n",
    "else:\n",
    "    print(f'Мы можем отвергнуть нулевую гипотезу, т.к p-value = {p}')"
   ]
  },
  {
   "cell_type": "markdown",
   "id": "12c3da55",
   "metadata": {},
   "source": [
    "### Делаем вывод, что трафик с мобильных устройств отличается от трафика с десктопных устройств с точки зрения CR в целевые действия\n",
    "### И что трафик с мобильных устройств меньше трафика с десктопных устройств с точки зрения CR в целевые действия"
   ]
  },
  {
   "cell_type": "markdown",
   "id": "40edd8e1",
   "metadata": {},
   "source": [
    " "
   ]
  },
  {
   "cell_type": "markdown",
   "id": "1dfc633a",
   "metadata": {},
   "source": [
    " "
   ]
  },
  {
   "cell_type": "markdown",
   "id": "b81bc97c",
   "metadata": {},
   "source": [
    " "
   ]
  },
  {
   "cell_type": "markdown",
   "id": "9ac9b4a7",
   "metadata": {},
   "source": [
    "## 3-я гипотеза: Трафик из городов присутствия (Москва и область, Санкт-Петербург) не отличается от трафика из иных регионов с точки зрения CR в целевые события"
   ]
  },
  {
   "cell_type": "code",
   "execution_count": 202,
   "id": "13fbd0b5",
   "metadata": {},
   "outputs": [],
   "source": [
    "df_3 = pd.merge(df_h, df_s, left_on = ['session_id'], right_on = ['session_id'])"
   ]
  },
  {
   "cell_type": "code",
   "execution_count": 203,
   "id": "4aef4f66",
   "metadata": {},
   "outputs": [
    {
     "data": {
      "text/plain": [
       "Index(['session_id', 'hit_date', 'hit_number', 'hit_type', 'hit_referer',\n",
       "       'hit_page_path', 'event_category', 'event_action', 'type_action',\n",
       "       'client_id', 'visit_date', 'visit_time', 'visit_number', 'utm_source',\n",
       "       'utm_medium', 'utm_campaign', 'device_category', 'device_os',\n",
       "       'device_brand', 'device_screen_resolution', 'device_browser',\n",
       "       'geo_country', 'geo_city', 'type_traffic'],\n",
       "      dtype='object')"
      ]
     },
     "execution_count": 203,
     "metadata": {},
     "output_type": "execute_result"
    }
   ],
   "source": [
    "df_3.columns"
   ]
  },
  {
   "cell_type": "code",
   "execution_count": 204,
   "id": "e90146f9",
   "metadata": {},
   "outputs": [],
   "source": [
    "def add_type_city(row):\n",
    "    if row['geo_city'] in (['Saint Petersburg','Moscow']):\n",
    "        return 'target_city'\n",
    "    else:\n",
    "        return 'other_city'"
   ]
  },
  {
   "cell_type": "code",
   "execution_count": 205,
   "id": "b80f6660",
   "metadata": {},
   "outputs": [],
   "source": [
    "df_3['type_city'] = df_3.apply(add_type_city, axis = 1)"
   ]
  },
  {
   "cell_type": "code",
   "execution_count": 206,
   "id": "efc22b98",
   "metadata": {},
   "outputs": [
    {
     "data": {
      "text/plain": [
       "target_city    4221751\n",
       "other_city     2506599\n",
       "Name: type_city, dtype: int64"
      ]
     },
     "execution_count": 206,
     "metadata": {},
     "output_type": "execute_result"
    }
   ],
   "source": [
    "df_3.type_city.value_counts()"
   ]
  },
  {
   "cell_type": "code",
   "execution_count": 207,
   "id": "5548f995",
   "metadata": {},
   "outputs": [],
   "source": [
    "# посчитаем кол-во уникальных сессий\n",
    "df_uniq_ses = df_3.groupby(['visit_date','type_city'],as_index=False).agg({'session_id':'nunique'})"
   ]
  },
  {
   "cell_type": "code",
   "execution_count": 208,
   "id": "8eda1091",
   "metadata": {},
   "outputs": [],
   "source": [
    "# посчитаем кол-во целевых действий \n",
    "df_count_act = df_3.groupby(['visit_date','type_city','session_id'],as_index=False).type_action.sum()"
   ]
  },
  {
   "cell_type": "code",
   "execution_count": 209,
   "id": "3721816c",
   "metadata": {},
   "outputs": [],
   "source": [
    "# посчитаем все целевые действия как одно, в рамках одного визита\n",
    "df_count_act['type_action'] = np.where((df_count_act.type_action > 1), 1, df_count_act.type_action)"
   ]
  },
  {
   "cell_type": "code",
   "execution_count": 210,
   "id": "f40eb605",
   "metadata": {},
   "outputs": [],
   "source": [
    "df_count_act = df_count_act.groupby(['visit_date','type_city'],as_index=False).type_action.sum()"
   ]
  },
  {
   "cell_type": "code",
   "execution_count": 211,
   "id": "8a188e68",
   "metadata": {},
   "outputs": [],
   "source": [
    "df_3 = pd.merge(df_uniq_ses,df_count_act, on=['visit_date','type_city'])"
   ]
  },
  {
   "cell_type": "code",
   "execution_count": 212,
   "id": "28ab6eb9",
   "metadata": {},
   "outputs": [],
   "source": [
    "# посчитаем конверсии по датам\n",
    "df_3['CR'] = df_3['type_action'] / df_3['session_id']"
   ]
  },
  {
   "cell_type": "code",
   "execution_count": 213,
   "id": "08dd504b",
   "metadata": {},
   "outputs": [],
   "source": [
    "df_3 = df_3[['visit_date','type_city', 'CR']]"
   ]
  },
  {
   "cell_type": "code",
   "execution_count": 214,
   "id": "64a10de2",
   "metadata": {},
   "outputs": [
    {
     "data": {
      "text/html": [
       "<div>\n",
       "<style scoped>\n",
       "    .dataframe tbody tr th:only-of-type {\n",
       "        vertical-align: middle;\n",
       "    }\n",
       "\n",
       "    .dataframe tbody tr th {\n",
       "        vertical-align: top;\n",
       "    }\n",
       "\n",
       "    .dataframe thead th {\n",
       "        text-align: right;\n",
       "    }\n",
       "</style>\n",
       "<table border=\"1\" class=\"dataframe\">\n",
       "  <thead>\n",
       "    <tr style=\"text-align: right;\">\n",
       "      <th></th>\n",
       "      <th>visit_date</th>\n",
       "      <th>type_city</th>\n",
       "      <th>CR</th>\n",
       "    </tr>\n",
       "  </thead>\n",
       "  <tbody>\n",
       "    <tr>\n",
       "      <th>0</th>\n",
       "      <td>2021-05-19</td>\n",
       "      <td>other_city</td>\n",
       "      <td>0.000000</td>\n",
       "    </tr>\n",
       "    <tr>\n",
       "      <th>1</th>\n",
       "      <td>2021-05-19</td>\n",
       "      <td>target_city</td>\n",
       "      <td>0.128655</td>\n",
       "    </tr>\n",
       "    <tr>\n",
       "      <th>2</th>\n",
       "      <td>2021-05-21</td>\n",
       "      <td>other_city</td>\n",
       "      <td>0.000000</td>\n",
       "    </tr>\n",
       "    <tr>\n",
       "      <th>3</th>\n",
       "      <td>2021-05-21</td>\n",
       "      <td>target_city</td>\n",
       "      <td>0.000000</td>\n",
       "    </tr>\n",
       "    <tr>\n",
       "      <th>4</th>\n",
       "      <td>2021-05-22</td>\n",
       "      <td>other_city</td>\n",
       "      <td>0.005051</td>\n",
       "    </tr>\n",
       "    <tr>\n",
       "      <th>...</th>\n",
       "      <td>...</td>\n",
       "      <td>...</td>\n",
       "      <td>...</td>\n",
       "    </tr>\n",
       "    <tr>\n",
       "      <th>447</th>\n",
       "      <td>2021-12-29</td>\n",
       "      <td>target_city</td>\n",
       "      <td>0.018282</td>\n",
       "    </tr>\n",
       "    <tr>\n",
       "      <th>448</th>\n",
       "      <td>2021-12-30</td>\n",
       "      <td>other_city</td>\n",
       "      <td>0.018450</td>\n",
       "    </tr>\n",
       "    <tr>\n",
       "      <th>449</th>\n",
       "      <td>2021-12-30</td>\n",
       "      <td>target_city</td>\n",
       "      <td>0.009398</td>\n",
       "    </tr>\n",
       "    <tr>\n",
       "      <th>450</th>\n",
       "      <td>2021-12-31</td>\n",
       "      <td>other_city</td>\n",
       "      <td>0.003030</td>\n",
       "    </tr>\n",
       "    <tr>\n",
       "      <th>451</th>\n",
       "      <td>2021-12-31</td>\n",
       "      <td>target_city</td>\n",
       "      <td>0.006369</td>\n",
       "    </tr>\n",
       "  </tbody>\n",
       "</table>\n",
       "<p>452 rows × 3 columns</p>\n",
       "</div>"
      ],
      "text/plain": [
       "    visit_date    type_city        CR\n",
       "0   2021-05-19   other_city  0.000000\n",
       "1   2021-05-19  target_city  0.128655\n",
       "2   2021-05-21   other_city  0.000000\n",
       "3   2021-05-21  target_city  0.000000\n",
       "4   2021-05-22   other_city  0.005051\n",
       "..         ...          ...       ...\n",
       "447 2021-12-29  target_city  0.018282\n",
       "448 2021-12-30   other_city  0.018450\n",
       "449 2021-12-30  target_city  0.009398\n",
       "450 2021-12-31   other_city  0.003030\n",
       "451 2021-12-31  target_city  0.006369\n",
       "\n",
       "[452 rows x 3 columns]"
      ]
     },
     "execution_count": 214,
     "metadata": {},
     "output_type": "execute_result"
    }
   ],
   "source": [
    "df_3"
   ]
  },
  {
   "cell_type": "markdown",
   "id": "f9e0863d",
   "metadata": {},
   "source": [
    "### Посмотрим распределения"
   ]
  },
  {
   "cell_type": "code",
   "execution_count": 215,
   "id": "12ff1776",
   "metadata": {},
   "outputs": [
    {
     "data": {
      "image/png": "[encoded data removed]",
      "text/plain": [
       "<Figure size 640x480 with 1 Axes>"
      ]
     },
     "metadata": {},
     "output_type": "display_data"
    }
   ],
   "source": [
    "plt.hist(df_3[df_3['type_city']=='other_city'].CR);"
   ]
  },
  {
   "cell_type": "code",
   "execution_count": 216,
   "id": "e9cddc71",
   "metadata": {},
   "outputs": [
    {
     "data": {
      "image/png": "[encoded data removed]",
      "text/plain": [
       "<Figure size 640x480 with 1 Axes>"
      ]
     },
     "metadata": {},
     "output_type": "display_data"
    }
   ],
   "source": [
    "plt.hist(df_3[df_3['type_city']=='target_city'].CR);"
   ]
  },
  {
   "cell_type": "code",
   "execution_count": 217,
   "id": "cdc44fda",
   "metadata": {},
   "outputs": [
    {
     "data": {
      "image/png": "[encoded data removed]",
      "text/plain": [
       "<Figure size 640x480 with 1 Axes>"
      ]
     },
     "metadata": {},
     "output_type": "display_data"
    }
   ],
   "source": [
    "sns.boxplot(x = 'CR', y = 'type_city', data = df_3, orient = 'h').set(title = 'CR by type_city');"
   ]
  },
  {
   "cell_type": "code",
   "execution_count": 218,
   "id": "b087891f",
   "metadata": {},
   "outputs": [
    {
     "data": {
      "image/png": "[encoded data removed]",
      "text/plain": [
       "<Figure size 624.75x500 with 1 Axes>"
      ]
     },
     "metadata": {},
     "output_type": "display_data"
    }
   ],
   "source": [
    "sns.displot(data=df_3, x='CR', hue='type_city', fill = False, kind = 'kde');"
   ]
  },
  {
   "cell_type": "markdown",
   "id": "e8bf67b7",
   "metadata": {},
   "source": [
    "### По гистограммам и графикам распределения похожи на нормальные, сделаем тест  Шапиро-Уилка на нормальность. Уровень значимости 5%"
   ]
  },
  {
   "cell_type": "markdown",
   "id": "ce47b3dc",
   "metadata": {},
   "source": [
    "    - H0: распределение нормально\n",
    "    - H1: распределение ненормальное"
   ]
  },
  {
   "cell_type": "code",
   "execution_count": 219,
   "id": "37730f67",
   "metadata": {},
   "outputs": [
    {
     "name": "stdout",
     "output_type": "stream",
     "text": [
      "Данные из группы other_city распределены ненормально, p-value = 0.0007322749006561935\n",
      "Данные из группы target_city распределены ненормально, p-value = 2.5309103771076202e-11\n"
     ]
    }
   ],
   "source": [
    "a = 0.05\n",
    "\n",
    "for i in df_3.type_city.unique():\n",
    "    x = stats.shapiro(df_3.loc[df_3.type_city == i, 'CR'])[1]\n",
    "    if x > 0.05:\n",
    "        print(f'Данные из группы {i} распределены нормально, p-value = {x}')\n",
    "    else:\n",
    "        print(f'Данные из группы {i} распределены ненормально, p-value = {x}')"
   ]
  },
  {
   "cell_type": "markdown",
   "id": "fbe2f534",
   "metadata": {},
   "source": [
    "### Так как наши данные имеют не нормальное распределение, а также независимы, то мы можем применить тест Манна-Уитни. Уровень значимость 5%\n",
    "    - H0: Органический трафик не отличается от платного с точки зрения CR в целевые события\n",
    "    - H1: Органический трафик отличается от платного с точки зрения CR в целевые события"
   ]
  },
  {
   "cell_type": "code",
   "execution_count": 220,
   "id": "0ce197c5",
   "metadata": {},
   "outputs": [
    {
     "name": "stdout",
     "output_type": "stream",
     "text": [
      "Мы не может отвергнуть нулевую гипотезу, т.к p-value = 0.8021092702401426\n"
     ]
    }
   ],
   "source": [
    "p = stats.mannwhitneyu(df_3[df_3.type_city == 'target_city'].CR, df_3[df_3.type_city == 'other_city'].CR)[1]\n",
    "if p > a:\n",
    "    print(f'Мы не может отвергнуть нулевую гипотезу, т.к p-value = {p}')\n",
    "else:\n",
    "    print(f'Мы можем отвергнуть нулевую гипотезу, т.к p-value = {p}')"
   ]
  },
  {
   "cell_type": "markdown",
   "id": "4ea900d2",
   "metadata": {},
   "source": [
    "### Делаем вывод, что трафик из городов присутствия (Москва и область, Санкт-Петербург) не отличается от трафика из иных регионов с точки зрения CR в целевые события"
   ]
  },
  {
   "cell_type": "markdown",
   "id": "fe08c969",
   "metadata": {},
   "source": [
    " "
   ]
  },
  {
   "cell_type": "markdown",
   "id": "96f85bc7",
   "metadata": {},
   "source": [
    " "
   ]
  },
  {
   "cell_type": "markdown",
   "id": "2a9fea3e",
   "metadata": {},
   "source": [
    " "
   ]
  },
  {
   "cell_type": "markdown",
   "id": "dda1342b",
   "metadata": {},
   "source": [
    "## Продуктовая аналитика"
   ]
  },
  {
   "cell_type": "markdown",
   "id": "7654ce2a",
   "metadata": {},
   "source": [
    "### Посмотрим из каких источников / кампаний / устройств / локаций к нам идёт самый целевой трафик (и с точки зрения объёма трафика, и с точки зрения CR)"
   ]
  },
  {
   "cell_type": "markdown",
   "id": "321e92b5",
   "metadata": {},
   "source": [
    "### Рекламные кампании"
   ]
  },
  {
   "cell_type": "code",
   "execution_count": 309,
   "id": "b521e9bd",
   "metadata": {},
   "outputs": [],
   "source": [
    "df_itog = pd.merge(df_h, df_s, left_on = ['session_id'], right_on = ['session_id'])"
   ]
  },
  {
   "cell_type": "code",
   "execution_count": 310,
   "id": "007751db",
   "metadata": {},
   "outputs": [
    {
     "data": {
      "text/plain": [
       "Index(['session_id', 'hit_date', 'hit_number', 'hit_type', 'hit_referer',\n",
       "       'hit_page_path', 'event_category', 'event_action', 'type_action',\n",
       "       'client_id', 'visit_date', 'visit_time', 'visit_number', 'utm_source',\n",
       "       'utm_medium', 'utm_campaign', 'device_category', 'device_os',\n",
       "       'device_brand', 'device_screen_resolution', 'device_browser',\n",
       "       'geo_country', 'geo_city', 'type_traffic', 'marketing'],\n",
       "      dtype='object')"
      ]
     },
     "execution_count": 310,
     "metadata": {},
     "output_type": "execute_result"
    }
   ],
   "source": [
    "df_itog.columns"
   ]
  },
  {
   "cell_type": "code",
   "execution_count": 311,
   "id": "9801ba45",
   "metadata": {},
   "outputs": [
    {
     "data": {
      "text/html": [
       "<div>\n",
       "<style scoped>\n",
       "    .dataframe tbody tr th:only-of-type {\n",
       "        vertical-align: middle;\n",
       "    }\n",
       "\n",
       "    .dataframe tbody tr th {\n",
       "        vertical-align: top;\n",
       "    }\n",
       "\n",
       "    .dataframe thead th {\n",
       "        text-align: right;\n",
       "    }\n",
       "</style>\n",
       "<table border=\"1\" class=\"dataframe\">\n",
       "  <thead>\n",
       "    <tr style=\"text-align: right;\">\n",
       "      <th></th>\n",
       "      <th>session_id</th>\n",
       "      <th>hit_date</th>\n",
       "      <th>hit_number</th>\n",
       "      <th>hit_type</th>\n",
       "      <th>hit_referer</th>\n",
       "      <th>hit_page_path</th>\n",
       "      <th>event_category</th>\n",
       "      <th>event_action</th>\n",
       "      <th>type_action</th>\n",
       "      <th>client_id</th>\n",
       "      <th>...</th>\n",
       "      <th>utm_campaign</th>\n",
       "      <th>device_category</th>\n",
       "      <th>device_os</th>\n",
       "      <th>device_brand</th>\n",
       "      <th>device_screen_resolution</th>\n",
       "      <th>device_browser</th>\n",
       "      <th>geo_country</th>\n",
       "      <th>geo_city</th>\n",
       "      <th>type_traffic</th>\n",
       "      <th>marketing</th>\n",
       "    </tr>\n",
       "  </thead>\n",
       "  <tbody>\n",
       "    <tr>\n",
       "      <th>0</th>\n",
       "      <td>4555345648396008371.1640233907.1640233907</td>\n",
       "      <td>2021-12-23</td>\n",
       "      <td>4</td>\n",
       "      <td>event</td>\n",
       "      <td>trXmoxcphNjuYcShOXwL</td>\n",
       "      <td>sberauto.com/cars/all/nissan/qashqai/bfc21661?...</td>\n",
       "      <td>card_web</td>\n",
       "      <td>view_card</td>\n",
       "      <td>0</td>\n",
       "      <td>1060624059.164023</td>\n",
       "      <td>...</td>\n",
       "      <td>LTuZkdKfxRGVceoWkVyg</td>\n",
       "      <td>mobile</td>\n",
       "      <td>iOS</td>\n",
       "      <td>Apple</td>\n",
       "      <td>2000x2000</td>\n",
       "      <td>Safari</td>\n",
       "      <td>United States</td>\n",
       "      <td>Prineville</td>\n",
       "      <td>inorganic</td>\n",
       "      <td>advertising on social networks</td>\n",
       "    </tr>\n",
       "    <tr>\n",
       "      <th>1</th>\n",
       "      <td>4555345648396008371.1640233907.1640233907</td>\n",
       "      <td>2021-12-23</td>\n",
       "      <td>3</td>\n",
       "      <td>event</td>\n",
       "      <td>trXmoxcphNjuYcShOXwL</td>\n",
       "      <td>sberauto.com/cars/all/nissan/qashqai/bfc21661?...</td>\n",
       "      <td>card_web</td>\n",
       "      <td>view_new_card</td>\n",
       "      <td>0</td>\n",
       "      <td>1060624059.164023</td>\n",
       "      <td>...</td>\n",
       "      <td>LTuZkdKfxRGVceoWkVyg</td>\n",
       "      <td>mobile</td>\n",
       "      <td>iOS</td>\n",
       "      <td>Apple</td>\n",
       "      <td>2000x2000</td>\n",
       "      <td>Safari</td>\n",
       "      <td>United States</td>\n",
       "      <td>Prineville</td>\n",
       "      <td>inorganic</td>\n",
       "      <td>advertising on social networks</td>\n",
       "    </tr>\n",
       "    <tr>\n",
       "      <th>2</th>\n",
       "      <td>9063469723165129646.1640233902.1640233902</td>\n",
       "      <td>2021-12-23</td>\n",
       "      <td>3</td>\n",
       "      <td>event</td>\n",
       "      <td>uMnMdxLOIznakHyXLoMC</td>\n",
       "      <td>sberauto.com/cars/all/skoda/rapid/bf24b977?ren...</td>\n",
       "      <td>card_web</td>\n",
       "      <td>view_card</td>\n",
       "      <td>0</td>\n",
       "      <td>2110253489.164024</td>\n",
       "      <td>...</td>\n",
       "      <td>LTuZkdKfxRGVceoWkVyg</td>\n",
       "      <td>tablet</td>\n",
       "      <td>Android</td>\n",
       "      <td>Google</td>\n",
       "      <td>360x480</td>\n",
       "      <td>Chrome</td>\n",
       "      <td>United States</td>\n",
       "      <td>Prineville</td>\n",
       "      <td>inorganic</td>\n",
       "      <td>advertising on social networks</td>\n",
       "    </tr>\n",
       "    <tr>\n",
       "      <th>3</th>\n",
       "      <td>9063469723165129646.1640233902.1640233902</td>\n",
       "      <td>2021-12-23</td>\n",
       "      <td>4</td>\n",
       "      <td>event</td>\n",
       "      <td>uMnMdxLOIznakHyXLoMC</td>\n",
       "      <td>sberauto.com/cars/all/skoda/rapid/bf24b977?ren...</td>\n",
       "      <td>card_web</td>\n",
       "      <td>view_new_card</td>\n",
       "      <td>0</td>\n",
       "      <td>2110253489.164024</td>\n",
       "      <td>...</td>\n",
       "      <td>LTuZkdKfxRGVceoWkVyg</td>\n",
       "      <td>tablet</td>\n",
       "      <td>Android</td>\n",
       "      <td>Google</td>\n",
       "      <td>360x480</td>\n",
       "      <td>Chrome</td>\n",
       "      <td>United States</td>\n",
       "      <td>Prineville</td>\n",
       "      <td>inorganic</td>\n",
       "      <td>advertising on social networks</td>\n",
       "    </tr>\n",
       "    <tr>\n",
       "      <th>4</th>\n",
       "      <td>8279923128365523547.1640276571.1640276571</td>\n",
       "      <td>2021-12-23</td>\n",
       "      <td>3</td>\n",
       "      <td>event</td>\n",
       "      <td>uMnMdxLOIznakHyXLoMC</td>\n",
       "      <td>sberauto.com/cars/all/porsche/911/f149c91b?ren...</td>\n",
       "      <td>card_web</td>\n",
       "      <td>view_card</td>\n",
       "      <td>0</td>\n",
       "      <td>1927819831.164028</td>\n",
       "      <td>...</td>\n",
       "      <td>LTuZkdKfxRGVceoWkVyg</td>\n",
       "      <td>tablet</td>\n",
       "      <td>Android</td>\n",
       "      <td>Google</td>\n",
       "      <td>360x480</td>\n",
       "      <td>Chrome</td>\n",
       "      <td>Ireland</td>\n",
       "      <td>Dublin</td>\n",
       "      <td>inorganic</td>\n",
       "      <td>advertising on social networks</td>\n",
       "    </tr>\n",
       "    <tr>\n",
       "      <th>...</th>\n",
       "      <td>...</td>\n",
       "      <td>...</td>\n",
       "      <td>...</td>\n",
       "      <td>...</td>\n",
       "      <td>...</td>\n",
       "      <td>...</td>\n",
       "      <td>...</td>\n",
       "      <td>...</td>\n",
       "      <td>...</td>\n",
       "      <td>...</td>\n",
       "      <td>...</td>\n",
       "      <td>...</td>\n",
       "      <td>...</td>\n",
       "      <td>...</td>\n",
       "      <td>...</td>\n",
       "      <td>...</td>\n",
       "      <td>...</td>\n",
       "      <td>...</td>\n",
       "      <td>...</td>\n",
       "      <td>...</td>\n",
       "      <td>...</td>\n",
       "    </tr>\n",
       "    <tr>\n",
       "      <th>6728345</th>\n",
       "      <td>3810094957689013029.1636795176.1636795176</td>\n",
       "      <td>2021-11-13</td>\n",
       "      <td>4</td>\n",
       "      <td>event</td>\n",
       "      <td>NfSAiKHBqffzsXrbjcSr</td>\n",
       "      <td>podpiska.sberauto.com/</td>\n",
       "      <td>sub_page_view</td>\n",
       "      <td>sub_landing</td>\n",
       "      <td>0</td>\n",
       "      <td>887106861.163679</td>\n",
       "      <td>...</td>\n",
       "      <td>LTuZkdKfxRGVceoWkVyg</td>\n",
       "      <td>mobile</td>\n",
       "      <td>Android</td>\n",
       "      <td>Huawei</td>\n",
       "      <td>360x640</td>\n",
       "      <td>Chrome</td>\n",
       "      <td>Russia</td>\n",
       "      <td>Moscow</td>\n",
       "      <td>inorganic</td>\n",
       "      <td>advertising on social networks</td>\n",
       "    </tr>\n",
       "    <tr>\n",
       "      <th>6728346</th>\n",
       "      <td>5384662665988593849.1636751459.1636751459</td>\n",
       "      <td>2021-11-13</td>\n",
       "      <td>4</td>\n",
       "      <td>event</td>\n",
       "      <td>NfSAiKHBqffzsXrbjcSr</td>\n",
       "      <td>podpiska.sberauto.com/</td>\n",
       "      <td>sub_page_view</td>\n",
       "      <td>sub_landing</td>\n",
       "      <td>0</td>\n",
       "      <td>1253714474.163675</td>\n",
       "      <td>...</td>\n",
       "      <td>LTuZkdKfxRGVceoWkVyg</td>\n",
       "      <td>mobile</td>\n",
       "      <td>Android</td>\n",
       "      <td>Samsung</td>\n",
       "      <td>412x892</td>\n",
       "      <td>Chrome</td>\n",
       "      <td>Russia</td>\n",
       "      <td>Ruza</td>\n",
       "      <td>inorganic</td>\n",
       "      <td>advertising on social networks</td>\n",
       "    </tr>\n",
       "    <tr>\n",
       "      <th>6728347</th>\n",
       "      <td>7863501185449165315.1636799949.1636799949</td>\n",
       "      <td>2021-11-13</td>\n",
       "      <td>3</td>\n",
       "      <td>event</td>\n",
       "      <td>eAbATQERmGPolIKkWXkU</td>\n",
       "      <td>podpiska.sberauto.com/</td>\n",
       "      <td>sub_page_view</td>\n",
       "      <td>sub_landing</td>\n",
       "      <td>0</td>\n",
       "      <td>1830864042.1636794883</td>\n",
       "      <td>...</td>\n",
       "      <td>LTuZkdKfxRGVceoWkVyg</td>\n",
       "      <td>mobile</td>\n",
       "      <td>iOS</td>\n",
       "      <td>Apple</td>\n",
       "      <td>414x896</td>\n",
       "      <td>Safari</td>\n",
       "      <td>Russia</td>\n",
       "      <td>Malakhovka</td>\n",
       "      <td>inorganic</td>\n",
       "      <td>other</td>\n",
       "    </tr>\n",
       "    <tr>\n",
       "      <th>6728348</th>\n",
       "      <td>2836605783570805648.1636810116.1636810116</td>\n",
       "      <td>2021-11-13</td>\n",
       "      <td>1</td>\n",
       "      <td>event</td>\n",
       "      <td>sAGDBCdeVPmQPwkVEcIX</td>\n",
       "      <td>podpiska.sberauto.com/</td>\n",
       "      <td>sub_button_click</td>\n",
       "      <td>sub_view_cars_click</td>\n",
       "      <td>0</td>\n",
       "      <td>660448750.1636725648</td>\n",
       "      <td>...</td>\n",
       "      <td>LTuZkdKfxRGVceoWkVyg</td>\n",
       "      <td>mobile</td>\n",
       "      <td>Android</td>\n",
       "      <td>Xiaomi</td>\n",
       "      <td>360x640</td>\n",
       "      <td>Chrome</td>\n",
       "      <td>Russia</td>\n",
       "      <td>Moscow</td>\n",
       "      <td>inorganic</td>\n",
       "      <td>other</td>\n",
       "    </tr>\n",
       "    <tr>\n",
       "      <th>6728349</th>\n",
       "      <td>4605411953316491632.1640263892.1640263892</td>\n",
       "      <td>2021-12-23</td>\n",
       "      <td>2</td>\n",
       "      <td>event</td>\n",
       "      <td>tvGabHlPFDvTmIFiCKTL</td>\n",
       "      <td>podpiska.sberauto.com/?yzclid=5888433221627265513</td>\n",
       "      <td>sub_page_view</td>\n",
       "      <td>sub_landing</td>\n",
       "      <td>0</td>\n",
       "      <td>1072281029.164026</td>\n",
       "      <td>...</td>\n",
       "      <td>LTuZkdKfxRGVceoWkVyg</td>\n",
       "      <td>mobile</td>\n",
       "      <td>Android</td>\n",
       "      <td>Samsung</td>\n",
       "      <td>412x915</td>\n",
       "      <td>Chrome</td>\n",
       "      <td>Russia</td>\n",
       "      <td>Moscow</td>\n",
       "      <td>organic</td>\n",
       "      <td>other</td>\n",
       "    </tr>\n",
       "  </tbody>\n",
       "</table>\n",
       "<p>6728350 rows × 25 columns</p>\n",
       "</div>"
      ],
      "text/plain": [
       "                                        session_id   hit_date  hit_number  \\\n",
       "0        4555345648396008371.1640233907.1640233907 2021-12-23           4   \n",
       "1        4555345648396008371.1640233907.1640233907 2021-12-23           3   \n",
       "2        9063469723165129646.1640233902.1640233902 2021-12-23           3   \n",
       "3        9063469723165129646.1640233902.1640233902 2021-12-23           4   \n",
       "4        8279923128365523547.1640276571.1640276571 2021-12-23           3   \n",
       "...                                            ...        ...         ...   \n",
       "6728345  3810094957689013029.1636795176.1636795176 2021-11-13           4   \n",
       "6728346  5384662665988593849.1636751459.1636751459 2021-11-13           4   \n",
       "6728347  7863501185449165315.1636799949.1636799949 2021-11-13           3   \n",
       "6728348  2836605783570805648.1636810116.1636810116 2021-11-13           1   \n",
       "6728349  4605411953316491632.1640263892.1640263892 2021-12-23           2   \n",
       "\n",
       "        hit_type           hit_referer  \\\n",
       "0          event  trXmoxcphNjuYcShOXwL   \n",
       "1          event  trXmoxcphNjuYcShOXwL   \n",
       "2          event  uMnMdxLOIznakHyXLoMC   \n",
       "3          event  uMnMdxLOIznakHyXLoMC   \n",
       "4          event  uMnMdxLOIznakHyXLoMC   \n",
       "...          ...                   ...   \n",
       "6728345    event  NfSAiKHBqffzsXrbjcSr   \n",
       "6728346    event  NfSAiKHBqffzsXrbjcSr   \n",
       "6728347    event  eAbATQERmGPolIKkWXkU   \n",
       "6728348    event  sAGDBCdeVPmQPwkVEcIX   \n",
       "6728349    event  tvGabHlPFDvTmIFiCKTL   \n",
       "\n",
       "                                             hit_page_path    event_category  \\\n",
       "0        sberauto.com/cars/all/nissan/qashqai/bfc21661?...          card_web   \n",
       "1        sberauto.com/cars/all/nissan/qashqai/bfc21661?...          card_web   \n",
       "2        sberauto.com/cars/all/skoda/rapid/bf24b977?ren...          card_web   \n",
       "3        sberauto.com/cars/all/skoda/rapid/bf24b977?ren...          card_web   \n",
       "4        sberauto.com/cars/all/porsche/911/f149c91b?ren...          card_web   \n",
       "...                                                    ...               ...   \n",
       "6728345                             podpiska.sberauto.com/     sub_page_view   \n",
       "6728346                             podpiska.sberauto.com/     sub_page_view   \n",
       "6728347                             podpiska.sberauto.com/     sub_page_view   \n",
       "6728348                             podpiska.sberauto.com/  sub_button_click   \n",
       "6728349  podpiska.sberauto.com/?yzclid=5888433221627265513     sub_page_view   \n",
       "\n",
       "                event_action  type_action              client_id  ...  \\\n",
       "0                  view_card            0      1060624059.164023  ...   \n",
       "1              view_new_card            0      1060624059.164023  ...   \n",
       "2                  view_card            0      2110253489.164024  ...   \n",
       "3              view_new_card            0      2110253489.164024  ...   \n",
       "4                  view_card            0      1927819831.164028  ...   \n",
       "...                      ...          ...                    ...  ...   \n",
       "6728345          sub_landing            0       887106861.163679  ...   \n",
       "6728346          sub_landing            0      1253714474.163675  ...   \n",
       "6728347          sub_landing            0  1830864042.1636794883  ...   \n",
       "6728348  sub_view_cars_click            0   660448750.1636725648  ...   \n",
       "6728349          sub_landing            0      1072281029.164026  ...   \n",
       "\n",
       "                 utm_campaign device_category  device_os device_brand  \\\n",
       "0        LTuZkdKfxRGVceoWkVyg          mobile        iOS        Apple   \n",
       "1        LTuZkdKfxRGVceoWkVyg          mobile        iOS        Apple   \n",
       "2        LTuZkdKfxRGVceoWkVyg          tablet    Android       Google   \n",
       "3        LTuZkdKfxRGVceoWkVyg          tablet    Android       Google   \n",
       "4        LTuZkdKfxRGVceoWkVyg          tablet    Android       Google   \n",
       "...                       ...             ...        ...          ...   \n",
       "6728345  LTuZkdKfxRGVceoWkVyg          mobile    Android       Huawei   \n",
       "6728346  LTuZkdKfxRGVceoWkVyg          mobile    Android      Samsung   \n",
       "6728347  LTuZkdKfxRGVceoWkVyg          mobile        iOS        Apple   \n",
       "6728348  LTuZkdKfxRGVceoWkVyg          mobile    Android       Xiaomi   \n",
       "6728349  LTuZkdKfxRGVceoWkVyg          mobile    Android      Samsung   \n",
       "\n",
       "        device_screen_resolution device_browser    geo_country    geo_city  \\\n",
       "0                      2000x2000         Safari  United States  Prineville   \n",
       "1                      2000x2000         Safari  United States  Prineville   \n",
       "2                        360x480         Chrome  United States  Prineville   \n",
       "3                        360x480         Chrome  United States  Prineville   \n",
       "4                        360x480         Chrome        Ireland      Dublin   \n",
       "...                          ...            ...            ...         ...   \n",
       "6728345                  360x640         Chrome         Russia      Moscow   \n",
       "6728346                  412x892         Chrome         Russia        Ruza   \n",
       "6728347                  414x896         Safari         Russia  Malakhovka   \n",
       "6728348                  360x640         Chrome         Russia      Moscow   \n",
       "6728349                  412x915         Chrome         Russia      Moscow   \n",
       "\n",
       "        type_traffic                       marketing  \n",
       "0          inorganic  advertising on social networks  \n",
       "1          inorganic  advertising on social networks  \n",
       "2          inorganic  advertising on social networks  \n",
       "3          inorganic  advertising on social networks  \n",
       "4          inorganic  advertising on social networks  \n",
       "...              ...                             ...  \n",
       "6728345    inorganic  advertising on social networks  \n",
       "6728346    inorganic  advertising on social networks  \n",
       "6728347    inorganic                           other  \n",
       "6728348    inorganic                           other  \n",
       "6728349      organic                           other  \n",
       "\n",
       "[6728350 rows x 25 columns]"
      ]
     },
     "execution_count": 311,
     "metadata": {},
     "output_type": "execute_result"
    }
   ],
   "source": [
    "df_itog"
   ]
  },
  {
   "cell_type": "code",
   "execution_count": 224,
   "id": "53112b94",
   "metadata": {},
   "outputs": [],
   "source": [
    "df_metrics = df_itog.groupby('utm_campaign',as_index=False).agg(uniq_session=('session_id','nunique'), \n",
    "                                                  total_sessions=('session_id','count'))"
   ]
  },
  {
   "cell_type": "code",
   "execution_count": 225,
   "id": "755be3fb",
   "metadata": {},
   "outputs": [],
   "source": [
    "# посчитаем кол-во целевых действий \n",
    "df_count_act = df_itog.groupby(['utm_campaign','session_id'],as_index=False).type_action.sum()"
   ]
  },
  {
   "cell_type": "code",
   "execution_count": 226,
   "id": "7feeb408",
   "metadata": {},
   "outputs": [],
   "source": [
    "# посчитаем все целевые действия как одно, в рамках одного визита\n",
    "df_count_act['type_action'] = np.where((df_count_act.type_action > 1), 1, df_count_act.type_action)"
   ]
  },
  {
   "cell_type": "code",
   "execution_count": 227,
   "id": "3765c3db",
   "metadata": {},
   "outputs": [],
   "source": [
    "df_count_act = df_count_act.groupby(['utm_campaign'],as_index=False).type_action.sum()"
   ]
  },
  {
   "cell_type": "code",
   "execution_count": 228,
   "id": "340f20d1",
   "metadata": {},
   "outputs": [
    {
     "data": {
      "text/html": [
       "<div>\n",
       "<style scoped>\n",
       "    .dataframe tbody tr th:only-of-type {\n",
       "        vertical-align: middle;\n",
       "    }\n",
       "\n",
       "    .dataframe tbody tr th {\n",
       "        vertical-align: top;\n",
       "    }\n",
       "\n",
       "    .dataframe thead th {\n",
       "        text-align: right;\n",
       "    }\n",
       "</style>\n",
       "<table border=\"1\" class=\"dataframe\">\n",
       "  <thead>\n",
       "    <tr style=\"text-align: right;\">\n",
       "      <th></th>\n",
       "      <th>utm_campaign</th>\n",
       "      <th>type_action</th>\n",
       "    </tr>\n",
       "  </thead>\n",
       "  <tbody>\n",
       "    <tr>\n",
       "      <th>0</th>\n",
       "      <td>FTjNLDyTrXaWYgZymFkV</td>\n",
       "      <td>19</td>\n",
       "    </tr>\n",
       "    <tr>\n",
       "      <th>1</th>\n",
       "      <td>LEoPHuyFvzoNfnzGgfcd</td>\n",
       "      <td>20</td>\n",
       "    </tr>\n",
       "    <tr>\n",
       "      <th>2</th>\n",
       "      <td>LTuZkdKfxRGVceoWkVyg</td>\n",
       "      <td>26429</td>\n",
       "    </tr>\n",
       "    <tr>\n",
       "      <th>3</th>\n",
       "      <td>LUlvACDKkkOkiSuiwaBs</td>\n",
       "      <td>0</td>\n",
       "    </tr>\n",
       "    <tr>\n",
       "      <th>4</th>\n",
       "      <td>LliRUcMuIXWdLyWHGyiO</td>\n",
       "      <td>0</td>\n",
       "    </tr>\n",
       "    <tr>\n",
       "      <th>5</th>\n",
       "      <td>XHNUiSKKGTEpSAlaVMFQ</td>\n",
       "      <td>0</td>\n",
       "    </tr>\n",
       "    <tr>\n",
       "      <th>6</th>\n",
       "      <td>gecBYcKZCPMcVYdSSzKP</td>\n",
       "      <td>0</td>\n",
       "    </tr>\n",
       "    <tr>\n",
       "      <th>7</th>\n",
       "      <td>vRLTQQKAsFQMxbcHGPhu</td>\n",
       "      <td>0</td>\n",
       "    </tr>\n",
       "  </tbody>\n",
       "</table>\n",
       "</div>"
      ],
      "text/plain": [
       "           utm_campaign  type_action\n",
       "0  FTjNLDyTrXaWYgZymFkV           19\n",
       "1  LEoPHuyFvzoNfnzGgfcd           20\n",
       "2  LTuZkdKfxRGVceoWkVyg        26429\n",
       "3  LUlvACDKkkOkiSuiwaBs            0\n",
       "4  LliRUcMuIXWdLyWHGyiO            0\n",
       "5  XHNUiSKKGTEpSAlaVMFQ            0\n",
       "6  gecBYcKZCPMcVYdSSzKP            0\n",
       "7  vRLTQQKAsFQMxbcHGPhu            0"
      ]
     },
     "execution_count": 228,
     "metadata": {},
     "output_type": "execute_result"
    }
   ],
   "source": [
    "# целевые действия за сессию\n",
    "df_count_act"
   ]
  },
  {
   "cell_type": "code",
   "execution_count": 229,
   "id": "fe575e2c",
   "metadata": {},
   "outputs": [],
   "source": [
    "df_metrics = pd.merge(df_metrics, df_count_act, on='utm_campaign')"
   ]
  },
  {
   "cell_type": "code",
   "execution_count": 230,
   "id": "3f76d36f",
   "metadata": {},
   "outputs": [],
   "source": [
    "df_metrics = df_metrics.rename(columns={'type_action':'count_target_action'})"
   ]
  },
  {
   "cell_type": "code",
   "execution_count": 231,
   "id": "70a512d0",
   "metadata": {},
   "outputs": [],
   "source": [
    "df_metrics['CR'] = df_metrics['count_target_action'] / df_metrics['uniq_session']"
   ]
  },
  {
   "cell_type": "code",
   "execution_count": 232,
   "id": "dd6f5983",
   "metadata": {},
   "outputs": [
    {
     "data": {
      "text/html": [
       "<div>\n",
       "<style scoped>\n",
       "    .dataframe tbody tr th:only-of-type {\n",
       "        vertical-align: middle;\n",
       "    }\n",
       "\n",
       "    .dataframe tbody tr th {\n",
       "        vertical-align: top;\n",
       "    }\n",
       "\n",
       "    .dataframe thead th {\n",
       "        text-align: right;\n",
       "    }\n",
       "</style>\n",
       "<table border=\"1\" class=\"dataframe\">\n",
       "  <thead>\n",
       "    <tr style=\"text-align: right;\">\n",
       "      <th></th>\n",
       "      <th>utm_campaign</th>\n",
       "      <th>uniq_session</th>\n",
       "      <th>total_sessions</th>\n",
       "      <th>count_target_action</th>\n",
       "      <th>CR</th>\n",
       "    </tr>\n",
       "  </thead>\n",
       "  <tbody>\n",
       "    <tr>\n",
       "      <th>0</th>\n",
       "      <td>FTjNLDyTrXaWYgZymFkV</td>\n",
       "      <td>589</td>\n",
       "      <td>3081</td>\n",
       "      <td>19</td>\n",
       "      <td>0.032258</td>\n",
       "    </tr>\n",
       "    <tr>\n",
       "      <th>2</th>\n",
       "      <td>LTuZkdKfxRGVceoWkVyg</td>\n",
       "      <td>834362</td>\n",
       "      <td>6719880</td>\n",
       "      <td>26429</td>\n",
       "      <td>0.031676</td>\n",
       "    </tr>\n",
       "    <tr>\n",
       "      <th>1</th>\n",
       "      <td>LEoPHuyFvzoNfnzGgfcd</td>\n",
       "      <td>807</td>\n",
       "      <td>5311</td>\n",
       "      <td>20</td>\n",
       "      <td>0.024783</td>\n",
       "    </tr>\n",
       "    <tr>\n",
       "      <th>3</th>\n",
       "      <td>LUlvACDKkkOkiSuiwaBs</td>\n",
       "      <td>1</td>\n",
       "      <td>3</td>\n",
       "      <td>0</td>\n",
       "      <td>0.000000</td>\n",
       "    </tr>\n",
       "    <tr>\n",
       "      <th>4</th>\n",
       "      <td>LliRUcMuIXWdLyWHGyiO</td>\n",
       "      <td>4</td>\n",
       "      <td>17</td>\n",
       "      <td>0</td>\n",
       "      <td>0.000000</td>\n",
       "    </tr>\n",
       "    <tr>\n",
       "      <th>5</th>\n",
       "      <td>XHNUiSKKGTEpSAlaVMFQ</td>\n",
       "      <td>2</td>\n",
       "      <td>23</td>\n",
       "      <td>0</td>\n",
       "      <td>0.000000</td>\n",
       "    </tr>\n",
       "    <tr>\n",
       "      <th>6</th>\n",
       "      <td>gecBYcKZCPMcVYdSSzKP</td>\n",
       "      <td>5</td>\n",
       "      <td>33</td>\n",
       "      <td>0</td>\n",
       "      <td>0.000000</td>\n",
       "    </tr>\n",
       "    <tr>\n",
       "      <th>7</th>\n",
       "      <td>vRLTQQKAsFQMxbcHGPhu</td>\n",
       "      <td>1</td>\n",
       "      <td>2</td>\n",
       "      <td>0</td>\n",
       "      <td>0.000000</td>\n",
       "    </tr>\n",
       "  </tbody>\n",
       "</table>\n",
       "</div>"
      ],
      "text/plain": [
       "           utm_campaign  uniq_session  total_sessions  count_target_action  \\\n",
       "0  FTjNLDyTrXaWYgZymFkV           589            3081                   19   \n",
       "2  LTuZkdKfxRGVceoWkVyg        834362         6719880                26429   \n",
       "1  LEoPHuyFvzoNfnzGgfcd           807            5311                   20   \n",
       "3  LUlvACDKkkOkiSuiwaBs             1               3                    0   \n",
       "4  LliRUcMuIXWdLyWHGyiO             4              17                    0   \n",
       "5  XHNUiSKKGTEpSAlaVMFQ             2              23                    0   \n",
       "6  gecBYcKZCPMcVYdSSzKP             5              33                    0   \n",
       "7  vRLTQQKAsFQMxbcHGPhu             1               2                    0   \n",
       "\n",
       "         CR  \n",
       "0  0.032258  \n",
       "2  0.031676  \n",
       "1  0.024783  \n",
       "3  0.000000  \n",
       "4  0.000000  \n",
       "5  0.000000  \n",
       "6  0.000000  \n",
       "7  0.000000  "
      ]
     },
     "execution_count": 232,
     "metadata": {},
     "output_type": "execute_result"
    }
   ],
   "source": [
    "# Топ 10 рекламных кампаний по CR\n",
    "df_metrics.sort_values(by=['CR','count_target_action'], ascending=False).head(10)"
   ]
  },
  {
   "cell_type": "code",
   "execution_count": 233,
   "id": "b8641ef1",
   "metadata": {},
   "outputs": [
    {
     "data": {
      "text/html": [
       "<div>\n",
       "<style scoped>\n",
       "    .dataframe tbody tr th:only-of-type {\n",
       "        vertical-align: middle;\n",
       "    }\n",
       "\n",
       "    .dataframe tbody tr th {\n",
       "        vertical-align: top;\n",
       "    }\n",
       "\n",
       "    .dataframe thead th {\n",
       "        text-align: right;\n",
       "    }\n",
       "</style>\n",
       "<table border=\"1\" class=\"dataframe\">\n",
       "  <thead>\n",
       "    <tr style=\"text-align: right;\">\n",
       "      <th></th>\n",
       "      <th>utm_campaign</th>\n",
       "      <th>uniq_session</th>\n",
       "      <th>total_sessions</th>\n",
       "      <th>count_target_action</th>\n",
       "      <th>CR</th>\n",
       "    </tr>\n",
       "  </thead>\n",
       "  <tbody>\n",
       "    <tr>\n",
       "      <th>2</th>\n",
       "      <td>LTuZkdKfxRGVceoWkVyg</td>\n",
       "      <td>834362</td>\n",
       "      <td>6719880</td>\n",
       "      <td>26429</td>\n",
       "      <td>0.031676</td>\n",
       "    </tr>\n",
       "    <tr>\n",
       "      <th>1</th>\n",
       "      <td>LEoPHuyFvzoNfnzGgfcd</td>\n",
       "      <td>807</td>\n",
       "      <td>5311</td>\n",
       "      <td>20</td>\n",
       "      <td>0.024783</td>\n",
       "    </tr>\n",
       "    <tr>\n",
       "      <th>0</th>\n",
       "      <td>FTjNLDyTrXaWYgZymFkV</td>\n",
       "      <td>589</td>\n",
       "      <td>3081</td>\n",
       "      <td>19</td>\n",
       "      <td>0.032258</td>\n",
       "    </tr>\n",
       "    <tr>\n",
       "      <th>3</th>\n",
       "      <td>LUlvACDKkkOkiSuiwaBs</td>\n",
       "      <td>1</td>\n",
       "      <td>3</td>\n",
       "      <td>0</td>\n",
       "      <td>0.000000</td>\n",
       "    </tr>\n",
       "    <tr>\n",
       "      <th>4</th>\n",
       "      <td>LliRUcMuIXWdLyWHGyiO</td>\n",
       "      <td>4</td>\n",
       "      <td>17</td>\n",
       "      <td>0</td>\n",
       "      <td>0.000000</td>\n",
       "    </tr>\n",
       "    <tr>\n",
       "      <th>5</th>\n",
       "      <td>XHNUiSKKGTEpSAlaVMFQ</td>\n",
       "      <td>2</td>\n",
       "      <td>23</td>\n",
       "      <td>0</td>\n",
       "      <td>0.000000</td>\n",
       "    </tr>\n",
       "    <tr>\n",
       "      <th>6</th>\n",
       "      <td>gecBYcKZCPMcVYdSSzKP</td>\n",
       "      <td>5</td>\n",
       "      <td>33</td>\n",
       "      <td>0</td>\n",
       "      <td>0.000000</td>\n",
       "    </tr>\n",
       "    <tr>\n",
       "      <th>7</th>\n",
       "      <td>vRLTQQKAsFQMxbcHGPhu</td>\n",
       "      <td>1</td>\n",
       "      <td>2</td>\n",
       "      <td>0</td>\n",
       "      <td>0.000000</td>\n",
       "    </tr>\n",
       "  </tbody>\n",
       "</table>\n",
       "</div>"
      ],
      "text/plain": [
       "           utm_campaign  uniq_session  total_sessions  count_target_action  \\\n",
       "2  LTuZkdKfxRGVceoWkVyg        834362         6719880                26429   \n",
       "1  LEoPHuyFvzoNfnzGgfcd           807            5311                   20   \n",
       "0  FTjNLDyTrXaWYgZymFkV           589            3081                   19   \n",
       "3  LUlvACDKkkOkiSuiwaBs             1               3                    0   \n",
       "4  LliRUcMuIXWdLyWHGyiO             4              17                    0   \n",
       "5  XHNUiSKKGTEpSAlaVMFQ             2              23                    0   \n",
       "6  gecBYcKZCPMcVYdSSzKP             5              33                    0   \n",
       "7  vRLTQQKAsFQMxbcHGPhu             1               2                    0   \n",
       "\n",
       "         CR  \n",
       "2  0.031676  \n",
       "1  0.024783  \n",
       "0  0.032258  \n",
       "3  0.000000  \n",
       "4  0.000000  \n",
       "5  0.000000  \n",
       "6  0.000000  \n",
       "7  0.000000  "
      ]
     },
     "execution_count": 233,
     "metadata": {},
     "output_type": "execute_result"
    }
   ],
   "source": [
    "# Топ 10 рекламных кампаний по количеству целевых действий за сессию\n",
    "df_metrics.sort_values(by=['count_target_action'], ascending=False).head(10)"
   ]
  },
  {
   "cell_type": "code",
   "execution_count": 234,
   "id": "fbe9408b",
   "metadata": {
    "scrolled": true
   },
   "outputs": [
    {
     "data": {
      "text/html": [
       "<div>\n",
       "<style scoped>\n",
       "    .dataframe tbody tr th:only-of-type {\n",
       "        vertical-align: middle;\n",
       "    }\n",
       "\n",
       "    .dataframe tbody tr th {\n",
       "        vertical-align: top;\n",
       "    }\n",
       "\n",
       "    .dataframe thead th {\n",
       "        text-align: right;\n",
       "    }\n",
       "</style>\n",
       "<table border=\"1\" class=\"dataframe\">\n",
       "  <thead>\n",
       "    <tr style=\"text-align: right;\">\n",
       "      <th></th>\n",
       "      <th>utm_campaign</th>\n",
       "      <th>uniq_session</th>\n",
       "      <th>total_sessions</th>\n",
       "      <th>count_target_action</th>\n",
       "      <th>CR</th>\n",
       "    </tr>\n",
       "  </thead>\n",
       "  <tbody>\n",
       "    <tr>\n",
       "      <th>2</th>\n",
       "      <td>LTuZkdKfxRGVceoWkVyg</td>\n",
       "      <td>834362</td>\n",
       "      <td>6719880</td>\n",
       "      <td>26429</td>\n",
       "      <td>0.031676</td>\n",
       "    </tr>\n",
       "    <tr>\n",
       "      <th>1</th>\n",
       "      <td>LEoPHuyFvzoNfnzGgfcd</td>\n",
       "      <td>807</td>\n",
       "      <td>5311</td>\n",
       "      <td>20</td>\n",
       "      <td>0.024783</td>\n",
       "    </tr>\n",
       "    <tr>\n",
       "      <th>0</th>\n",
       "      <td>FTjNLDyTrXaWYgZymFkV</td>\n",
       "      <td>589</td>\n",
       "      <td>3081</td>\n",
       "      <td>19</td>\n",
       "      <td>0.032258</td>\n",
       "    </tr>\n",
       "    <tr>\n",
       "      <th>6</th>\n",
       "      <td>gecBYcKZCPMcVYdSSzKP</td>\n",
       "      <td>5</td>\n",
       "      <td>33</td>\n",
       "      <td>0</td>\n",
       "      <td>0.000000</td>\n",
       "    </tr>\n",
       "    <tr>\n",
       "      <th>4</th>\n",
       "      <td>LliRUcMuIXWdLyWHGyiO</td>\n",
       "      <td>4</td>\n",
       "      <td>17</td>\n",
       "      <td>0</td>\n",
       "      <td>0.000000</td>\n",
       "    </tr>\n",
       "    <tr>\n",
       "      <th>5</th>\n",
       "      <td>XHNUiSKKGTEpSAlaVMFQ</td>\n",
       "      <td>2</td>\n",
       "      <td>23</td>\n",
       "      <td>0</td>\n",
       "      <td>0.000000</td>\n",
       "    </tr>\n",
       "    <tr>\n",
       "      <th>3</th>\n",
       "      <td>LUlvACDKkkOkiSuiwaBs</td>\n",
       "      <td>1</td>\n",
       "      <td>3</td>\n",
       "      <td>0</td>\n",
       "      <td>0.000000</td>\n",
       "    </tr>\n",
       "    <tr>\n",
       "      <th>7</th>\n",
       "      <td>vRLTQQKAsFQMxbcHGPhu</td>\n",
       "      <td>1</td>\n",
       "      <td>2</td>\n",
       "      <td>0</td>\n",
       "      <td>0.000000</td>\n",
       "    </tr>\n",
       "  </tbody>\n",
       "</table>\n",
       "</div>"
      ],
      "text/plain": [
       "           utm_campaign  uniq_session  total_sessions  count_target_action  \\\n",
       "2  LTuZkdKfxRGVceoWkVyg        834362         6719880                26429   \n",
       "1  LEoPHuyFvzoNfnzGgfcd           807            5311                   20   \n",
       "0  FTjNLDyTrXaWYgZymFkV           589            3081                   19   \n",
       "6  gecBYcKZCPMcVYdSSzKP             5              33                    0   \n",
       "4  LliRUcMuIXWdLyWHGyiO             4              17                    0   \n",
       "5  XHNUiSKKGTEpSAlaVMFQ             2              23                    0   \n",
       "3  LUlvACDKkkOkiSuiwaBs             1               3                    0   \n",
       "7  vRLTQQKAsFQMxbcHGPhu             1               2                    0   \n",
       "\n",
       "         CR  \n",
       "2  0.031676  \n",
       "1  0.024783  \n",
       "0  0.032258  \n",
       "6  0.000000  \n",
       "4  0.000000  \n",
       "5  0.000000  \n",
       "3  0.000000  \n",
       "7  0.000000  "
      ]
     },
     "execution_count": 234,
     "metadata": {},
     "output_type": "execute_result"
    }
   ],
   "source": [
    "# Топ 10 рекламных кампаний по количеству уникалных сессий\n",
    "df_metrics.sort_values(by=['uniq_session'], ascending=False).head(10)"
   ]
  },
  {
   "cell_type": "markdown",
   "id": "d2274c90",
   "metadata": {},
   "source": [
    " "
   ]
  },
  {
   "cell_type": "markdown",
   "id": "d7b24ccf",
   "metadata": {},
   "source": [
    "### Тип устройства"
   ]
  },
  {
   "cell_type": "code",
   "execution_count": 235,
   "id": "60fac510",
   "metadata": {},
   "outputs": [],
   "source": [
    "df_metrics = df_itog.groupby('device_category',as_index=False).agg(uniq_session=('session_id','nunique'), \n",
    "                                                  total_sessions=('session_id','count'))"
   ]
  },
  {
   "cell_type": "code",
   "execution_count": 236,
   "id": "212949f4",
   "metadata": {},
   "outputs": [],
   "source": [
    "# посчитаем кол-во целевых действий \n",
    "df_count_act = df_itog.groupby(['device_category','session_id'],as_index=False).type_action.sum()"
   ]
  },
  {
   "cell_type": "code",
   "execution_count": 237,
   "id": "7f865eb9",
   "metadata": {},
   "outputs": [],
   "source": [
    "# посчитаем все целевые действия как одно, в рамках одного визита\n",
    "df_count_act['type_action'] = np.where((df_count_act.type_action > 1), 1, df_count_act.type_action)"
   ]
  },
  {
   "cell_type": "code",
   "execution_count": 238,
   "id": "edeba916",
   "metadata": {},
   "outputs": [],
   "source": [
    "df_count_act = df_count_act.groupby(['device_category'],as_index=False).type_action.sum()"
   ]
  },
  {
   "cell_type": "code",
   "execution_count": 239,
   "id": "bcba4134",
   "metadata": {},
   "outputs": [],
   "source": [
    "df_metrics = pd.merge(df_metrics, df_count_act, on='device_category')"
   ]
  },
  {
   "cell_type": "code",
   "execution_count": 240,
   "id": "a58f2914",
   "metadata": {},
   "outputs": [],
   "source": [
    "df_metrics = df_metrics.rename(columns={'type_action':'count_target_action'})"
   ]
  },
  {
   "cell_type": "code",
   "execution_count": 241,
   "id": "ae80b092",
   "metadata": {},
   "outputs": [],
   "source": [
    "df_metrics['CR'] = df_metrics['count_target_action'] / df_metrics['uniq_session']"
   ]
  },
  {
   "cell_type": "code",
   "execution_count": 242,
   "id": "325b519a",
   "metadata": {},
   "outputs": [
    {
     "data": {
      "text/html": [
       "<div>\n",
       "<style scoped>\n",
       "    .dataframe tbody tr th:only-of-type {\n",
       "        vertical-align: middle;\n",
       "    }\n",
       "\n",
       "    .dataframe tbody tr th {\n",
       "        vertical-align: top;\n",
       "    }\n",
       "\n",
       "    .dataframe thead th {\n",
       "        text-align: right;\n",
       "    }\n",
       "</style>\n",
       "<table border=\"1\" class=\"dataframe\">\n",
       "  <thead>\n",
       "    <tr style=\"text-align: right;\">\n",
       "      <th></th>\n",
       "      <th>device_category</th>\n",
       "      <th>uniq_session</th>\n",
       "      <th>total_sessions</th>\n",
       "      <th>count_target_action</th>\n",
       "      <th>CR</th>\n",
       "    </tr>\n",
       "  </thead>\n",
       "  <tbody>\n",
       "    <tr>\n",
       "      <th>1</th>\n",
       "      <td>mobile</td>\n",
       "      <td>823635</td>\n",
       "      <td>6632583</td>\n",
       "      <td>26148</td>\n",
       "      <td>0.031747</td>\n",
       "    </tr>\n",
       "    <tr>\n",
       "      <th>2</th>\n",
       "      <td>tablet</td>\n",
       "      <td>12050</td>\n",
       "      <td>95466</td>\n",
       "      <td>320</td>\n",
       "      <td>0.026556</td>\n",
       "    </tr>\n",
       "    <tr>\n",
       "      <th>0</th>\n",
       "      <td>desktop</td>\n",
       "      <td>86</td>\n",
       "      <td>301</td>\n",
       "      <td>0</td>\n",
       "      <td>0.000000</td>\n",
       "    </tr>\n",
       "  </tbody>\n",
       "</table>\n",
       "</div>"
      ],
      "text/plain": [
       "  device_category  uniq_session  total_sessions  count_target_action        CR\n",
       "1          mobile        823635         6632583                26148  0.031747\n",
       "2          tablet         12050           95466                  320  0.026556\n",
       "0         desktop            86             301                    0  0.000000"
      ]
     },
     "execution_count": 242,
     "metadata": {},
     "output_type": "execute_result"
    }
   ],
   "source": [
    "df_metrics.sort_values(by=['count_target_action'], ascending=False)"
   ]
  },
  {
   "cell_type": "markdown",
   "id": "0186821b",
   "metadata": {},
   "source": [
    " "
   ]
  },
  {
   "cell_type": "markdown",
   "id": "f028d689",
   "metadata": {},
   "source": [
    "### Браузер"
   ]
  },
  {
   "cell_type": "code",
   "execution_count": 243,
   "id": "8e2ee86c",
   "metadata": {},
   "outputs": [],
   "source": [
    "df_metrics = df_itog.groupby('device_browser',as_index=False).agg(uniq_session=('session_id','nunique'), \n",
    "                                                  total_sessions=('session_id','count'))"
   ]
  },
  {
   "cell_type": "code",
   "execution_count": 244,
   "id": "c3eaa6e8",
   "metadata": {},
   "outputs": [],
   "source": [
    "# посчитаем кол-во целевых действий \n",
    "df_count_act = df_itog.groupby(['device_browser','session_id'],as_index=False).type_action.sum()"
   ]
  },
  {
   "cell_type": "code",
   "execution_count": 245,
   "id": "3c0a79d9",
   "metadata": {},
   "outputs": [],
   "source": [
    "# посчитаем все целевые действия как одно, в рамках одного визита\n",
    "df_count_act['type_action'] = np.where((df_count_act.type_action > 1), 1, df_count_act.type_action)"
   ]
  },
  {
   "cell_type": "code",
   "execution_count": 246,
   "id": "bfc65a38",
   "metadata": {},
   "outputs": [],
   "source": [
    "df_count_act = df_count_act.groupby(['device_browser'],as_index=False).type_action.sum()"
   ]
  },
  {
   "cell_type": "code",
   "execution_count": 247,
   "id": "a8eee240",
   "metadata": {},
   "outputs": [],
   "source": [
    "df_metrics = pd.merge(df_metrics, df_count_act, on='device_browser')"
   ]
  },
  {
   "cell_type": "code",
   "execution_count": 248,
   "id": "f92bab0e",
   "metadata": {},
   "outputs": [],
   "source": [
    "df_metrics = df_metrics.rename(columns={'type_action':'count_target_action'})"
   ]
  },
  {
   "cell_type": "code",
   "execution_count": 249,
   "id": "54641179",
   "metadata": {},
   "outputs": [],
   "source": [
    "df_metrics['CR'] = df_metrics['count_target_action'] / df_metrics['uniq_session']"
   ]
  },
  {
   "cell_type": "code",
   "execution_count": 250,
   "id": "d1727cee",
   "metadata": {},
   "outputs": [
    {
     "data": {
      "text/html": [
       "<div>\n",
       "<style scoped>\n",
       "    .dataframe tbody tr th:only-of-type {\n",
       "        vertical-align: middle;\n",
       "    }\n",
       "\n",
       "    .dataframe tbody tr th {\n",
       "        vertical-align: top;\n",
       "    }\n",
       "\n",
       "    .dataframe thead th {\n",
       "        text-align: right;\n",
       "    }\n",
       "</style>\n",
       "<table border=\"1\" class=\"dataframe\">\n",
       "  <thead>\n",
       "    <tr style=\"text-align: right;\">\n",
       "      <th></th>\n",
       "      <th>device_browser</th>\n",
       "      <th>uniq_session</th>\n",
       "      <th>total_sessions</th>\n",
       "      <th>count_target_action</th>\n",
       "      <th>CR</th>\n",
       "    </tr>\n",
       "  </thead>\n",
       "  <tbody>\n",
       "    <tr>\n",
       "      <th>4</th>\n",
       "      <td>Chrome</td>\n",
       "      <td>408539</td>\n",
       "      <td>3006213</td>\n",
       "      <td>13020</td>\n",
       "      <td>0.031870</td>\n",
       "    </tr>\n",
       "    <tr>\n",
       "      <th>26</th>\n",
       "      <td>Safari</td>\n",
       "      <td>253054</td>\n",
       "      <td>2224988</td>\n",
       "      <td>8673</td>\n",
       "      <td>0.034273</td>\n",
       "    </tr>\n",
       "    <tr>\n",
       "      <th>27</th>\n",
       "      <td>Safari (in-app)</td>\n",
       "      <td>54001</td>\n",
       "      <td>508320</td>\n",
       "      <td>964</td>\n",
       "      <td>0.017852</td>\n",
       "    </tr>\n",
       "    <tr>\n",
       "      <th>31</th>\n",
       "      <td>YaBrowser</td>\n",
       "      <td>46273</td>\n",
       "      <td>417469</td>\n",
       "      <td>1746</td>\n",
       "      <td>0.037733</td>\n",
       "    </tr>\n",
       "    <tr>\n",
       "      <th>3</th>\n",
       "      <td>Android Webview</td>\n",
       "      <td>39735</td>\n",
       "      <td>337989</td>\n",
       "      <td>967</td>\n",
       "      <td>0.024336</td>\n",
       "    </tr>\n",
       "    <tr>\n",
       "      <th>28</th>\n",
       "      <td>Samsung Internet</td>\n",
       "      <td>25998</td>\n",
       "      <td>166016</td>\n",
       "      <td>882</td>\n",
       "      <td>0.033926</td>\n",
       "    </tr>\n",
       "    <tr>\n",
       "      <th>23</th>\n",
       "      <td>Opera</td>\n",
       "      <td>5818</td>\n",
       "      <td>50641</td>\n",
       "      <td>165</td>\n",
       "      <td>0.028360</td>\n",
       "    </tr>\n",
       "    <tr>\n",
       "      <th>7</th>\n",
       "      <td>Firefox</td>\n",
       "      <td>1460</td>\n",
       "      <td>12256</td>\n",
       "      <td>35</td>\n",
       "      <td>0.023973</td>\n",
       "    </tr>\n",
       "    <tr>\n",
       "      <th>30</th>\n",
       "      <td>UC Browser</td>\n",
       "      <td>496</td>\n",
       "      <td>3288</td>\n",
       "      <td>12</td>\n",
       "      <td>0.024194</td>\n",
       "    </tr>\n",
       "    <tr>\n",
       "      <th>2</th>\n",
       "      <td>Android Runtime</td>\n",
       "      <td>227</td>\n",
       "      <td>609</td>\n",
       "      <td>0</td>\n",
       "      <td>0.000000</td>\n",
       "    </tr>\n",
       "    <tr>\n",
       "      <th>25</th>\n",
       "      <td>Puffin</td>\n",
       "      <td>23</td>\n",
       "      <td>130</td>\n",
       "      <td>1</td>\n",
       "      <td>0.043478</td>\n",
       "    </tr>\n",
       "    <tr>\n",
       "      <th>33</th>\n",
       "      <td>com.vk.vkclient</td>\n",
       "      <td>8</td>\n",
       "      <td>115</td>\n",
       "      <td>2</td>\n",
       "      <td>0.250000</td>\n",
       "    </tr>\n",
       "    <tr>\n",
       "      <th>1</th>\n",
       "      <td>Android Browser</td>\n",
       "      <td>40</td>\n",
       "      <td>56</td>\n",
       "      <td>0</td>\n",
       "      <td>0.000000</td>\n",
       "    </tr>\n",
       "    <tr>\n",
       "      <th>24</th>\n",
       "      <td>Opera Mini</td>\n",
       "      <td>20</td>\n",
       "      <td>44</td>\n",
       "      <td>0</td>\n",
       "      <td>0.000000</td>\n",
       "    </tr>\n",
       "    <tr>\n",
       "      <th>18</th>\n",
       "      <td>Maxthon</td>\n",
       "      <td>10</td>\n",
       "      <td>43</td>\n",
       "      <td>1</td>\n",
       "      <td>0.100000</td>\n",
       "    </tr>\n",
       "  </tbody>\n",
       "</table>\n",
       "</div>"
      ],
      "text/plain": [
       "      device_browser  uniq_session  total_sessions  count_target_action  \\\n",
       "4             Chrome        408539         3006213                13020   \n",
       "26            Safari        253054         2224988                 8673   \n",
       "27   Safari (in-app)         54001          508320                  964   \n",
       "31         YaBrowser         46273          417469                 1746   \n",
       "3    Android Webview         39735          337989                  967   \n",
       "28  Samsung Internet         25998          166016                  882   \n",
       "23             Opera          5818           50641                  165   \n",
       "7            Firefox          1460           12256                   35   \n",
       "30        UC Browser           496            3288                   12   \n",
       "2    Android Runtime           227             609                    0   \n",
       "25            Puffin            23             130                    1   \n",
       "33   com.vk.vkclient             8             115                    2   \n",
       "1    Android Browser            40              56                    0   \n",
       "24        Opera Mini            20              44                    0   \n",
       "18           Maxthon            10              43                    1   \n",
       "\n",
       "          CR  \n",
       "4   0.031870  \n",
       "26  0.034273  \n",
       "27  0.017852  \n",
       "31  0.037733  \n",
       "3   0.024336  \n",
       "28  0.033926  \n",
       "23  0.028360  \n",
       "7   0.023973  \n",
       "30  0.024194  \n",
       "2   0.000000  \n",
       "25  0.043478  \n",
       "33  0.250000  \n",
       "1   0.000000  \n",
       "24  0.000000  \n",
       "18  0.100000  "
      ]
     },
     "execution_count": 250,
     "metadata": {},
     "output_type": "execute_result"
    }
   ],
   "source": [
    "# Топ 15 браузеров по количеству визитов\n",
    "df_metrics.sort_values(by=['total_sessions'], ascending=False).head(15)"
   ]
  },
  {
   "cell_type": "code",
   "execution_count": 251,
   "id": "72773f91",
   "metadata": {},
   "outputs": [
    {
     "data": {
      "text/html": [
       "<div>\n",
       "<style scoped>\n",
       "    .dataframe tbody tr th:only-of-type {\n",
       "        vertical-align: middle;\n",
       "    }\n",
       "\n",
       "    .dataframe tbody tr th {\n",
       "        vertical-align: top;\n",
       "    }\n",
       "\n",
       "    .dataframe thead th {\n",
       "        text-align: right;\n",
       "    }\n",
       "</style>\n",
       "<table border=\"1\" class=\"dataframe\">\n",
       "  <thead>\n",
       "    <tr style=\"text-align: right;\">\n",
       "      <th></th>\n",
       "      <th>device_browser</th>\n",
       "      <th>uniq_session</th>\n",
       "      <th>total_sessions</th>\n",
       "      <th>count_target_action</th>\n",
       "      <th>CR</th>\n",
       "    </tr>\n",
       "  </thead>\n",
       "  <tbody>\n",
       "    <tr>\n",
       "      <th>33</th>\n",
       "      <td>com.vk.vkclient</td>\n",
       "      <td>8</td>\n",
       "      <td>115</td>\n",
       "      <td>2</td>\n",
       "      <td>0.250000</td>\n",
       "    </tr>\n",
       "    <tr>\n",
       "      <th>18</th>\n",
       "      <td>Maxthon</td>\n",
       "      <td>10</td>\n",
       "      <td>43</td>\n",
       "      <td>1</td>\n",
       "      <td>0.100000</td>\n",
       "    </tr>\n",
       "    <tr>\n",
       "      <th>25</th>\n",
       "      <td>Puffin</td>\n",
       "      <td>23</td>\n",
       "      <td>130</td>\n",
       "      <td>1</td>\n",
       "      <td>0.043478</td>\n",
       "    </tr>\n",
       "    <tr>\n",
       "      <th>31</th>\n",
       "      <td>YaBrowser</td>\n",
       "      <td>46273</td>\n",
       "      <td>417469</td>\n",
       "      <td>1746</td>\n",
       "      <td>0.037733</td>\n",
       "    </tr>\n",
       "    <tr>\n",
       "      <th>26</th>\n",
       "      <td>Safari</td>\n",
       "      <td>253054</td>\n",
       "      <td>2224988</td>\n",
       "      <td>8673</td>\n",
       "      <td>0.034273</td>\n",
       "    </tr>\n",
       "    <tr>\n",
       "      <th>28</th>\n",
       "      <td>Samsung Internet</td>\n",
       "      <td>25998</td>\n",
       "      <td>166016</td>\n",
       "      <td>882</td>\n",
       "      <td>0.033926</td>\n",
       "    </tr>\n",
       "    <tr>\n",
       "      <th>4</th>\n",
       "      <td>Chrome</td>\n",
       "      <td>408539</td>\n",
       "      <td>3006213</td>\n",
       "      <td>13020</td>\n",
       "      <td>0.031870</td>\n",
       "    </tr>\n",
       "    <tr>\n",
       "      <th>23</th>\n",
       "      <td>Opera</td>\n",
       "      <td>5818</td>\n",
       "      <td>50641</td>\n",
       "      <td>165</td>\n",
       "      <td>0.028360</td>\n",
       "    </tr>\n",
       "    <tr>\n",
       "      <th>3</th>\n",
       "      <td>Android Webview</td>\n",
       "      <td>39735</td>\n",
       "      <td>337989</td>\n",
       "      <td>967</td>\n",
       "      <td>0.024336</td>\n",
       "    </tr>\n",
       "    <tr>\n",
       "      <th>30</th>\n",
       "      <td>UC Browser</td>\n",
       "      <td>496</td>\n",
       "      <td>3288</td>\n",
       "      <td>12</td>\n",
       "      <td>0.024194</td>\n",
       "    </tr>\n",
       "    <tr>\n",
       "      <th>7</th>\n",
       "      <td>Firefox</td>\n",
       "      <td>1460</td>\n",
       "      <td>12256</td>\n",
       "      <td>35</td>\n",
       "      <td>0.023973</td>\n",
       "    </tr>\n",
       "    <tr>\n",
       "      <th>27</th>\n",
       "      <td>Safari (in-app)</td>\n",
       "      <td>54001</td>\n",
       "      <td>508320</td>\n",
       "      <td>964</td>\n",
       "      <td>0.017852</td>\n",
       "    </tr>\n",
       "    <tr>\n",
       "      <th>19</th>\n",
       "      <td>Mozilla</td>\n",
       "      <td>5</td>\n",
       "      <td>35</td>\n",
       "      <td>0</td>\n",
       "      <td>0.000000</td>\n",
       "    </tr>\n",
       "    <tr>\n",
       "      <th>24</th>\n",
       "      <td>Opera Mini</td>\n",
       "      <td>20</td>\n",
       "      <td>44</td>\n",
       "      <td>0</td>\n",
       "      <td>0.000000</td>\n",
       "    </tr>\n",
       "    <tr>\n",
       "      <th>29</th>\n",
       "      <td>Threads 202.0.0.23.119</td>\n",
       "      <td>1</td>\n",
       "      <td>1</td>\n",
       "      <td>0</td>\n",
       "      <td>0.000000</td>\n",
       "    </tr>\n",
       "  </tbody>\n",
       "</table>\n",
       "</div>"
      ],
      "text/plain": [
       "            device_browser  uniq_session  total_sessions  count_target_action  \\\n",
       "33         com.vk.vkclient             8             115                    2   \n",
       "18                 Maxthon            10              43                    1   \n",
       "25                  Puffin            23             130                    1   \n",
       "31               YaBrowser         46273          417469                 1746   \n",
       "26                  Safari        253054         2224988                 8673   \n",
       "28        Samsung Internet         25998          166016                  882   \n",
       "4                   Chrome        408539         3006213                13020   \n",
       "23                   Opera          5818           50641                  165   \n",
       "3          Android Webview         39735          337989                  967   \n",
       "30              UC Browser           496            3288                   12   \n",
       "7                  Firefox          1460           12256                   35   \n",
       "27         Safari (in-app)         54001          508320                  964   \n",
       "19                 Mozilla             5              35                    0   \n",
       "24              Opera Mini            20              44                    0   \n",
       "29  Threads 202.0.0.23.119             1               1                    0   \n",
       "\n",
       "          CR  \n",
       "33  0.250000  \n",
       "18  0.100000  \n",
       "25  0.043478  \n",
       "31  0.037733  \n",
       "26  0.034273  \n",
       "28  0.033926  \n",
       "4   0.031870  \n",
       "23  0.028360  \n",
       "3   0.024336  \n",
       "30  0.024194  \n",
       "7   0.023973  \n",
       "27  0.017852  \n",
       "19  0.000000  \n",
       "24  0.000000  \n",
       "29  0.000000  "
      ]
     },
     "execution_count": 251,
     "metadata": {},
     "output_type": "execute_result"
    }
   ],
   "source": [
    "# Топ 15 браузеров по CR\n",
    "df_metrics.sort_values(by=['CR'], ascending=False).head(15)"
   ]
  },
  {
   "cell_type": "code",
   "execution_count": 252,
   "id": "7cdf3675",
   "metadata": {},
   "outputs": [
    {
     "data": {
      "text/html": [
       "<div>\n",
       "<style scoped>\n",
       "    .dataframe tbody tr th:only-of-type {\n",
       "        vertical-align: middle;\n",
       "    }\n",
       "\n",
       "    .dataframe tbody tr th {\n",
       "        vertical-align: top;\n",
       "    }\n",
       "\n",
       "    .dataframe thead th {\n",
       "        text-align: right;\n",
       "    }\n",
       "</style>\n",
       "<table border=\"1\" class=\"dataframe\">\n",
       "  <thead>\n",
       "    <tr style=\"text-align: right;\">\n",
       "      <th></th>\n",
       "      <th>device_browser</th>\n",
       "      <th>uniq_session</th>\n",
       "      <th>total_sessions</th>\n",
       "      <th>count_target_action</th>\n",
       "      <th>CR</th>\n",
       "    </tr>\n",
       "  </thead>\n",
       "  <tbody>\n",
       "    <tr>\n",
       "      <th>4</th>\n",
       "      <td>Chrome</td>\n",
       "      <td>408539</td>\n",
       "      <td>3006213</td>\n",
       "      <td>13020</td>\n",
       "      <td>0.031870</td>\n",
       "    </tr>\n",
       "    <tr>\n",
       "      <th>26</th>\n",
       "      <td>Safari</td>\n",
       "      <td>253054</td>\n",
       "      <td>2224988</td>\n",
       "      <td>8673</td>\n",
       "      <td>0.034273</td>\n",
       "    </tr>\n",
       "    <tr>\n",
       "      <th>31</th>\n",
       "      <td>YaBrowser</td>\n",
       "      <td>46273</td>\n",
       "      <td>417469</td>\n",
       "      <td>1746</td>\n",
       "      <td>0.037733</td>\n",
       "    </tr>\n",
       "    <tr>\n",
       "      <th>3</th>\n",
       "      <td>Android Webview</td>\n",
       "      <td>39735</td>\n",
       "      <td>337989</td>\n",
       "      <td>967</td>\n",
       "      <td>0.024336</td>\n",
       "    </tr>\n",
       "    <tr>\n",
       "      <th>27</th>\n",
       "      <td>Safari (in-app)</td>\n",
       "      <td>54001</td>\n",
       "      <td>508320</td>\n",
       "      <td>964</td>\n",
       "      <td>0.017852</td>\n",
       "    </tr>\n",
       "    <tr>\n",
       "      <th>28</th>\n",
       "      <td>Samsung Internet</td>\n",
       "      <td>25998</td>\n",
       "      <td>166016</td>\n",
       "      <td>882</td>\n",
       "      <td>0.033926</td>\n",
       "    </tr>\n",
       "    <tr>\n",
       "      <th>23</th>\n",
       "      <td>Opera</td>\n",
       "      <td>5818</td>\n",
       "      <td>50641</td>\n",
       "      <td>165</td>\n",
       "      <td>0.028360</td>\n",
       "    </tr>\n",
       "    <tr>\n",
       "      <th>7</th>\n",
       "      <td>Firefox</td>\n",
       "      <td>1460</td>\n",
       "      <td>12256</td>\n",
       "      <td>35</td>\n",
       "      <td>0.023973</td>\n",
       "    </tr>\n",
       "    <tr>\n",
       "      <th>30</th>\n",
       "      <td>UC Browser</td>\n",
       "      <td>496</td>\n",
       "      <td>3288</td>\n",
       "      <td>12</td>\n",
       "      <td>0.024194</td>\n",
       "    </tr>\n",
       "    <tr>\n",
       "      <th>33</th>\n",
       "      <td>com.vk.vkclient</td>\n",
       "      <td>8</td>\n",
       "      <td>115</td>\n",
       "      <td>2</td>\n",
       "      <td>0.250000</td>\n",
       "    </tr>\n",
       "    <tr>\n",
       "      <th>25</th>\n",
       "      <td>Puffin</td>\n",
       "      <td>23</td>\n",
       "      <td>130</td>\n",
       "      <td>1</td>\n",
       "      <td>0.043478</td>\n",
       "    </tr>\n",
       "    <tr>\n",
       "      <th>18</th>\n",
       "      <td>Maxthon</td>\n",
       "      <td>10</td>\n",
       "      <td>43</td>\n",
       "      <td>1</td>\n",
       "      <td>0.100000</td>\n",
       "    </tr>\n",
       "    <tr>\n",
       "      <th>19</th>\n",
       "      <td>Mozilla</td>\n",
       "      <td>5</td>\n",
       "      <td>35</td>\n",
       "      <td>0</td>\n",
       "      <td>0.000000</td>\n",
       "    </tr>\n",
       "    <tr>\n",
       "      <th>29</th>\n",
       "      <td>Threads 202.0.0.23.119</td>\n",
       "      <td>1</td>\n",
       "      <td>1</td>\n",
       "      <td>0</td>\n",
       "      <td>0.000000</td>\n",
       "    </tr>\n",
       "    <tr>\n",
       "      <th>24</th>\n",
       "      <td>Opera Mini</td>\n",
       "      <td>20</td>\n",
       "      <td>44</td>\n",
       "      <td>0</td>\n",
       "      <td>0.000000</td>\n",
       "    </tr>\n",
       "  </tbody>\n",
       "</table>\n",
       "</div>"
      ],
      "text/plain": [
       "            device_browser  uniq_session  total_sessions  count_target_action  \\\n",
       "4                   Chrome        408539         3006213                13020   \n",
       "26                  Safari        253054         2224988                 8673   \n",
       "31               YaBrowser         46273          417469                 1746   \n",
       "3          Android Webview         39735          337989                  967   \n",
       "27         Safari (in-app)         54001          508320                  964   \n",
       "28        Samsung Internet         25998          166016                  882   \n",
       "23                   Opera          5818           50641                  165   \n",
       "7                  Firefox          1460           12256                   35   \n",
       "30              UC Browser           496            3288                   12   \n",
       "33         com.vk.vkclient             8             115                    2   \n",
       "25                  Puffin            23             130                    1   \n",
       "18                 Maxthon            10              43                    1   \n",
       "19                 Mozilla             5              35                    0   \n",
       "29  Threads 202.0.0.23.119             1               1                    0   \n",
       "24              Opera Mini            20              44                    0   \n",
       "\n",
       "          CR  \n",
       "4   0.031870  \n",
       "26  0.034273  \n",
       "31  0.037733  \n",
       "3   0.024336  \n",
       "27  0.017852  \n",
       "28  0.033926  \n",
       "23  0.028360  \n",
       "7   0.023973  \n",
       "30  0.024194  \n",
       "33  0.250000  \n",
       "25  0.043478  \n",
       "18  0.100000  \n",
       "19  0.000000  \n",
       "29  0.000000  \n",
       "24  0.000000  "
      ]
     },
     "execution_count": 252,
     "metadata": {},
     "output_type": "execute_result"
    }
   ],
   "source": [
    "# Топ 15 браузеров  по количеству целевых действий\n",
    "df_metrics.sort_values(by=['count_target_action'], ascending=False).head(15)"
   ]
  },
  {
   "cell_type": "markdown",
   "id": "04b61d47",
   "metadata": {},
   "source": [
    " "
   ]
  },
  {
   "cell_type": "markdown",
   "id": "10039ed3",
   "metadata": {},
   "source": [
    "### Страна"
   ]
  },
  {
   "cell_type": "code",
   "execution_count": 253,
   "id": "2ec46af8",
   "metadata": {},
   "outputs": [],
   "source": [
    "df_metrics = df_itog.groupby('geo_country',as_index=False).agg(uniq_session=('session_id','nunique'), \n",
    "                                                  total_sessions=('session_id','count'))"
   ]
  },
  {
   "cell_type": "code",
   "execution_count": 254,
   "id": "e447c830",
   "metadata": {},
   "outputs": [],
   "source": [
    "# посчитаем кол-во целевых действий \n",
    "df_count_act = df_itog.groupby(['geo_country','session_id'],as_index=False).type_action.sum()"
   ]
  },
  {
   "cell_type": "code",
   "execution_count": 255,
   "id": "d38096bb",
   "metadata": {},
   "outputs": [],
   "source": [
    "# посчитаем все целевые действия как одно, в рамках одного визита\n",
    "df_count_act['type_action'] = np.where((df_count_act.type_action > 1), 1, df_count_act.type_action)"
   ]
  },
  {
   "cell_type": "code",
   "execution_count": 256,
   "id": "773c2048",
   "metadata": {},
   "outputs": [],
   "source": [
    "df_count_act = df_count_act.groupby(['geo_country'],as_index=False).type_action.sum()"
   ]
  },
  {
   "cell_type": "code",
   "execution_count": 257,
   "id": "bee38c49",
   "metadata": {},
   "outputs": [],
   "source": [
    "df_metrics = pd.merge(df_metrics, df_count_act, on='geo_country')"
   ]
  },
  {
   "cell_type": "code",
   "execution_count": 258,
   "id": "6bf08e47",
   "metadata": {},
   "outputs": [],
   "source": [
    "df_metrics = df_metrics.rename(columns={'type_action':'count_target_action'})"
   ]
  },
  {
   "cell_type": "code",
   "execution_count": 259,
   "id": "b9644a56",
   "metadata": {},
   "outputs": [],
   "source": [
    "df_metrics['CR'] = df_metrics['count_target_action'] / df_metrics['uniq_session']"
   ]
  },
  {
   "cell_type": "code",
   "execution_count": 260,
   "id": "c6007bce",
   "metadata": {},
   "outputs": [
    {
     "data": {
      "text/html": [
       "<div>\n",
       "<style scoped>\n",
       "    .dataframe tbody tr th:only-of-type {\n",
       "        vertical-align: middle;\n",
       "    }\n",
       "\n",
       "    .dataframe tbody tr th {\n",
       "        vertical-align: top;\n",
       "    }\n",
       "\n",
       "    .dataframe thead th {\n",
       "        text-align: right;\n",
       "    }\n",
       "</style>\n",
       "<table border=\"1\" class=\"dataframe\">\n",
       "  <thead>\n",
       "    <tr style=\"text-align: right;\">\n",
       "      <th></th>\n",
       "      <th>geo_country</th>\n",
       "      <th>uniq_session</th>\n",
       "      <th>total_sessions</th>\n",
       "      <th>count_target_action</th>\n",
       "      <th>CR</th>\n",
       "    </tr>\n",
       "  </thead>\n",
       "  <tbody>\n",
       "    <tr>\n",
       "      <th>106</th>\n",
       "      <td>Russia</td>\n",
       "      <td>811572</td>\n",
       "      <td>6556399</td>\n",
       "      <td>25950</td>\n",
       "      <td>0.031975</td>\n",
       "    </tr>\n",
       "    <tr>\n",
       "      <th>133</th>\n",
       "      <td>Ukraine</td>\n",
       "      <td>4253</td>\n",
       "      <td>34391</td>\n",
       "      <td>102</td>\n",
       "      <td>0.023983</td>\n",
       "    </tr>\n",
       "    <tr>\n",
       "      <th>136</th>\n",
       "      <td>United States</td>\n",
       "      <td>4395</td>\n",
       "      <td>16734</td>\n",
       "      <td>36</td>\n",
       "      <td>0.008191</td>\n",
       "    </tr>\n",
       "    <tr>\n",
       "      <th>15</th>\n",
       "      <td>Belarus</td>\n",
       "      <td>1641</td>\n",
       "      <td>12222</td>\n",
       "      <td>22</td>\n",
       "      <td>0.013406</td>\n",
       "    </tr>\n",
       "    <tr>\n",
       "      <th>130</th>\n",
       "      <td>Turkey</td>\n",
       "      <td>1138</td>\n",
       "      <td>10904</td>\n",
       "      <td>33</td>\n",
       "      <td>0.028998</td>\n",
       "    </tr>\n",
       "    <tr>\n",
       "      <th>47</th>\n",
       "      <td>Germany</td>\n",
       "      <td>811</td>\n",
       "      <td>8110</td>\n",
       "      <td>26</td>\n",
       "      <td>0.032059</td>\n",
       "    </tr>\n",
       "    <tr>\n",
       "      <th>66</th>\n",
       "      <td>Kazakhstan</td>\n",
       "      <td>1129</td>\n",
       "      <td>7511</td>\n",
       "      <td>20</td>\n",
       "      <td>0.017715</td>\n",
       "    </tr>\n",
       "    <tr>\n",
       "      <th>135</th>\n",
       "      <td>United Kingdom</td>\n",
       "      <td>571</td>\n",
       "      <td>5198</td>\n",
       "      <td>25</td>\n",
       "      <td>0.043783</td>\n",
       "    </tr>\n",
       "    <tr>\n",
       "      <th>0</th>\n",
       "      <td>(not set)</td>\n",
       "      <td>474</td>\n",
       "      <td>4652</td>\n",
       "      <td>14</td>\n",
       "      <td>0.029536</td>\n",
       "    </tr>\n",
       "    <tr>\n",
       "      <th>33</th>\n",
       "      <td>Cyprus</td>\n",
       "      <td>419</td>\n",
       "      <td>4440</td>\n",
       "      <td>11</td>\n",
       "      <td>0.026253</td>\n",
       "    </tr>\n",
       "  </tbody>\n",
       "</table>\n",
       "</div>"
      ],
      "text/plain": [
       "        geo_country  uniq_session  total_sessions  count_target_action  \\\n",
       "106          Russia        811572         6556399                25950   \n",
       "133         Ukraine          4253           34391                  102   \n",
       "136   United States          4395           16734                   36   \n",
       "15          Belarus          1641           12222                   22   \n",
       "130          Turkey          1138           10904                   33   \n",
       "47          Germany           811            8110                   26   \n",
       "66       Kazakhstan          1129            7511                   20   \n",
       "135  United Kingdom           571            5198                   25   \n",
       "0         (not set)           474            4652                   14   \n",
       "33           Cyprus           419            4440                   11   \n",
       "\n",
       "           CR  \n",
       "106  0.031975  \n",
       "133  0.023983  \n",
       "136  0.008191  \n",
       "15   0.013406  \n",
       "130  0.028998  \n",
       "47   0.032059  \n",
       "66   0.017715  \n",
       "135  0.043783  \n",
       "0    0.029536  \n",
       "33   0.026253  "
      ]
     },
     "execution_count": 260,
     "metadata": {},
     "output_type": "execute_result"
    }
   ],
   "source": [
    "# Топ 10 стран по количеству визитов\n",
    "df_metrics.sort_values(by=['total_sessions'], ascending=False).head(10)"
   ]
  },
  {
   "cell_type": "code",
   "execution_count": 261,
   "id": "b4847789",
   "metadata": {},
   "outputs": [
    {
     "data": {
      "text/html": [
       "<div>\n",
       "<style scoped>\n",
       "    .dataframe tbody tr th:only-of-type {\n",
       "        vertical-align: middle;\n",
       "    }\n",
       "\n",
       "    .dataframe tbody tr th {\n",
       "        vertical-align: top;\n",
       "    }\n",
       "\n",
       "    .dataframe thead th {\n",
       "        text-align: right;\n",
       "    }\n",
       "</style>\n",
       "<table border=\"1\" class=\"dataframe\">\n",
       "  <thead>\n",
       "    <tr style=\"text-align: right;\">\n",
       "      <th></th>\n",
       "      <th>geo_country</th>\n",
       "      <th>uniq_session</th>\n",
       "      <th>total_sessions</th>\n",
       "      <th>count_target_action</th>\n",
       "      <th>CR</th>\n",
       "    </tr>\n",
       "  </thead>\n",
       "  <tbody>\n",
       "    <tr>\n",
       "      <th>2</th>\n",
       "      <td>Albania</td>\n",
       "      <td>20</td>\n",
       "      <td>170</td>\n",
       "      <td>4</td>\n",
       "      <td>0.200000</td>\n",
       "    </tr>\n",
       "    <tr>\n",
       "      <th>101</th>\n",
       "      <td>Philippines</td>\n",
       "      <td>7</td>\n",
       "      <td>132</td>\n",
       "      <td>1</td>\n",
       "      <td>0.142857</td>\n",
       "    </tr>\n",
       "    <tr>\n",
       "      <th>93</th>\n",
       "      <td>Nigeria</td>\n",
       "      <td>9</td>\n",
       "      <td>92</td>\n",
       "      <td>1</td>\n",
       "      <td>0.111111</td>\n",
       "    </tr>\n",
       "    <tr>\n",
       "      <th>1</th>\n",
       "      <td>Afghanistan</td>\n",
       "      <td>20</td>\n",
       "      <td>256</td>\n",
       "      <td>2</td>\n",
       "      <td>0.100000</td>\n",
       "    </tr>\n",
       "    <tr>\n",
       "      <th>115</th>\n",
       "      <td>South Africa</td>\n",
       "      <td>21</td>\n",
       "      <td>327</td>\n",
       "      <td>2</td>\n",
       "      <td>0.095238</td>\n",
       "    </tr>\n",
       "    <tr>\n",
       "      <th>113</th>\n",
       "      <td>Slovenia</td>\n",
       "      <td>23</td>\n",
       "      <td>183</td>\n",
       "      <td>2</td>\n",
       "      <td>0.086957</td>\n",
       "    </tr>\n",
       "    <tr>\n",
       "      <th>110</th>\n",
       "      <td>Seychelles</td>\n",
       "      <td>26</td>\n",
       "      <td>318</td>\n",
       "      <td>2</td>\n",
       "      <td>0.076923</td>\n",
       "    </tr>\n",
       "    <tr>\n",
       "      <th>85</th>\n",
       "      <td>Morocco</td>\n",
       "      <td>27</td>\n",
       "      <td>121</td>\n",
       "      <td>2</td>\n",
       "      <td>0.074074</td>\n",
       "    </tr>\n",
       "    <tr>\n",
       "      <th>97</th>\n",
       "      <td>Pakistan</td>\n",
       "      <td>14</td>\n",
       "      <td>100</td>\n",
       "      <td>1</td>\n",
       "      <td>0.071429</td>\n",
       "    </tr>\n",
       "    <tr>\n",
       "      <th>116</th>\n",
       "      <td>South Korea</td>\n",
       "      <td>43</td>\n",
       "      <td>370</td>\n",
       "      <td>3</td>\n",
       "      <td>0.069767</td>\n",
       "    </tr>\n",
       "  </tbody>\n",
       "</table>\n",
       "</div>"
      ],
      "text/plain": [
       "      geo_country  uniq_session  total_sessions  count_target_action        CR\n",
       "2         Albania            20             170                    4  0.200000\n",
       "101   Philippines             7             132                    1  0.142857\n",
       "93        Nigeria             9              92                    1  0.111111\n",
       "1     Afghanistan            20             256                    2  0.100000\n",
       "115  South Africa            21             327                    2  0.095238\n",
       "113      Slovenia            23             183                    2  0.086957\n",
       "110    Seychelles            26             318                    2  0.076923\n",
       "85        Morocco            27             121                    2  0.074074\n",
       "97       Pakistan            14             100                    1  0.071429\n",
       "116   South Korea            43             370                    3  0.069767"
      ]
     },
     "execution_count": 261,
     "metadata": {},
     "output_type": "execute_result"
    }
   ],
   "source": [
    "# Топ 10 стран по CR\n",
    "df_metrics.sort_values(by=['CR'], ascending=False).head(10)"
   ]
  },
  {
   "cell_type": "code",
   "execution_count": 262,
   "id": "bc209133",
   "metadata": {},
   "outputs": [
    {
     "data": {
      "text/html": [
       "<div>\n",
       "<style scoped>\n",
       "    .dataframe tbody tr th:only-of-type {\n",
       "        vertical-align: middle;\n",
       "    }\n",
       "\n",
       "    .dataframe tbody tr th {\n",
       "        vertical-align: top;\n",
       "    }\n",
       "\n",
       "    .dataframe thead th {\n",
       "        text-align: right;\n",
       "    }\n",
       "</style>\n",
       "<table border=\"1\" class=\"dataframe\">\n",
       "  <thead>\n",
       "    <tr style=\"text-align: right;\">\n",
       "      <th></th>\n",
       "      <th>geo_country</th>\n",
       "      <th>uniq_session</th>\n",
       "      <th>total_sessions</th>\n",
       "      <th>count_target_action</th>\n",
       "      <th>CR</th>\n",
       "    </tr>\n",
       "  </thead>\n",
       "  <tbody>\n",
       "    <tr>\n",
       "      <th>106</th>\n",
       "      <td>Russia</td>\n",
       "      <td>811572</td>\n",
       "      <td>6556399</td>\n",
       "      <td>25950</td>\n",
       "      <td>0.031975</td>\n",
       "    </tr>\n",
       "    <tr>\n",
       "      <th>133</th>\n",
       "      <td>Ukraine</td>\n",
       "      <td>4253</td>\n",
       "      <td>34391</td>\n",
       "      <td>102</td>\n",
       "      <td>0.023983</td>\n",
       "    </tr>\n",
       "    <tr>\n",
       "      <th>136</th>\n",
       "      <td>United States</td>\n",
       "      <td>4395</td>\n",
       "      <td>16734</td>\n",
       "      <td>36</td>\n",
       "      <td>0.008191</td>\n",
       "    </tr>\n",
       "    <tr>\n",
       "      <th>130</th>\n",
       "      <td>Turkey</td>\n",
       "      <td>1138</td>\n",
       "      <td>10904</td>\n",
       "      <td>33</td>\n",
       "      <td>0.028998</td>\n",
       "    </tr>\n",
       "    <tr>\n",
       "      <th>47</th>\n",
       "      <td>Germany</td>\n",
       "      <td>811</td>\n",
       "      <td>8110</td>\n",
       "      <td>26</td>\n",
       "      <td>0.032059</td>\n",
       "    </tr>\n",
       "    <tr>\n",
       "      <th>135</th>\n",
       "      <td>United Kingdom</td>\n",
       "      <td>571</td>\n",
       "      <td>5198</td>\n",
       "      <td>25</td>\n",
       "      <td>0.043783</td>\n",
       "    </tr>\n",
       "    <tr>\n",
       "      <th>15</th>\n",
       "      <td>Belarus</td>\n",
       "      <td>1641</td>\n",
       "      <td>12222</td>\n",
       "      <td>22</td>\n",
       "      <td>0.013406</td>\n",
       "    </tr>\n",
       "    <tr>\n",
       "      <th>66</th>\n",
       "      <td>Kazakhstan</td>\n",
       "      <td>1129</td>\n",
       "      <td>7511</td>\n",
       "      <td>20</td>\n",
       "      <td>0.017715</td>\n",
       "    </tr>\n",
       "    <tr>\n",
       "      <th>138</th>\n",
       "      <td>Uzbekistan</td>\n",
       "      <td>557</td>\n",
       "      <td>2876</td>\n",
       "      <td>17</td>\n",
       "      <td>0.030521</td>\n",
       "    </tr>\n",
       "    <tr>\n",
       "      <th>0</th>\n",
       "      <td>(not set)</td>\n",
       "      <td>474</td>\n",
       "      <td>4652</td>\n",
       "      <td>14</td>\n",
       "      <td>0.029536</td>\n",
       "    </tr>\n",
       "  </tbody>\n",
       "</table>\n",
       "</div>"
      ],
      "text/plain": [
       "        geo_country  uniq_session  total_sessions  count_target_action  \\\n",
       "106          Russia        811572         6556399                25950   \n",
       "133         Ukraine          4253           34391                  102   \n",
       "136   United States          4395           16734                   36   \n",
       "130          Turkey          1138           10904                   33   \n",
       "47          Germany           811            8110                   26   \n",
       "135  United Kingdom           571            5198                   25   \n",
       "15          Belarus          1641           12222                   22   \n",
       "66       Kazakhstan          1129            7511                   20   \n",
       "138      Uzbekistan           557            2876                   17   \n",
       "0         (not set)           474            4652                   14   \n",
       "\n",
       "           CR  \n",
       "106  0.031975  \n",
       "133  0.023983  \n",
       "136  0.008191  \n",
       "130  0.028998  \n",
       "47   0.032059  \n",
       "135  0.043783  \n",
       "15   0.013406  \n",
       "66   0.017715  \n",
       "138  0.030521  \n",
       "0    0.029536  "
      ]
     },
     "execution_count": 262,
     "metadata": {},
     "output_type": "execute_result"
    }
   ],
   "source": [
    "# Топ 10 стран  по количеству целевых действий\n",
    "df_metrics.sort_values(by=['count_target_action'], ascending=False).head(10)"
   ]
  },
  {
   "cell_type": "markdown",
   "id": "99cac3ac",
   "metadata": {},
   "source": [
    " "
   ]
  },
  {
   "cell_type": "markdown",
   "id": "476b1930",
   "metadata": {},
   "source": [
    " "
   ]
  },
  {
   "cell_type": "markdown",
   "id": "6cd45768",
   "metadata": {},
   "source": [
    "### Посмотрим какие автомобили пользуются наибольшим спросом и у каких самый лучший показатель CR в целевые события"
   ]
  },
  {
   "cell_type": "code",
   "execution_count": 263,
   "id": "1962253e",
   "metadata": {},
   "outputs": [],
   "source": [
    "def add_mark_auto(row):\n",
    "    if \"sberauto.com/cars/all/\" in row[\"hit_page_path\"]:\n",
    "        return row['hit_page_path'].split('/')[3]\n",
    "    else:\n",
    "        return 'other'"
   ]
  },
  {
   "cell_type": "code",
   "execution_count": 264,
   "id": "24a26c33",
   "metadata": {},
   "outputs": [],
   "source": [
    "df_itog['mark_auto'] = df_itog.apply(add_mark_auto,axis=1)"
   ]
  },
  {
   "cell_type": "code",
   "execution_count": 265,
   "id": "20370a92",
   "metadata": {},
   "outputs": [],
   "source": [
    "def add_model_auto(row):\n",
    "    if \"sberauto.com/cars/all/\" in row[\"hit_page_path\"]:\n",
    "        return row['hit_page_path'].split('/')[4]\n",
    "    else:\n",
    "        return 'other'"
   ]
  },
  {
   "cell_type": "code",
   "execution_count": 266,
   "id": "3e45855f",
   "metadata": {},
   "outputs": [],
   "source": [
    "df_itog['model_auto'] = df_itog.apply(add_model_auto,axis=1)"
   ]
  },
  {
   "cell_type": "code",
   "execution_count": 267,
   "id": "fe544c74",
   "metadata": {},
   "outputs": [],
   "source": [
    "df_itog['car'] = df_itog['mark_auto'] + ' ' + df_itog['model_auto']"
   ]
  },
  {
   "cell_type": "code",
   "execution_count": 268,
   "id": "e435a015",
   "metadata": {
    "scrolled": true
   },
   "outputs": [
    {
     "data": {
      "text/html": [
       "<div>\n",
       "<style scoped>\n",
       "    .dataframe tbody tr th:only-of-type {\n",
       "        vertical-align: middle;\n",
       "    }\n",
       "\n",
       "    .dataframe tbody tr th {\n",
       "        vertical-align: top;\n",
       "    }\n",
       "\n",
       "    .dataframe thead th {\n",
       "        text-align: right;\n",
       "    }\n",
       "</style>\n",
       "<table border=\"1\" class=\"dataframe\">\n",
       "  <thead>\n",
       "    <tr style=\"text-align: right;\">\n",
       "      <th></th>\n",
       "      <th>session_id</th>\n",
       "      <th>hit_date</th>\n",
       "      <th>hit_number</th>\n",
       "      <th>hit_type</th>\n",
       "      <th>hit_referer</th>\n",
       "      <th>hit_page_path</th>\n",
       "      <th>event_category</th>\n",
       "      <th>event_action</th>\n",
       "      <th>type_action</th>\n",
       "      <th>client_id</th>\n",
       "      <th>...</th>\n",
       "      <th>device_os</th>\n",
       "      <th>device_brand</th>\n",
       "      <th>device_screen_resolution</th>\n",
       "      <th>device_browser</th>\n",
       "      <th>geo_country</th>\n",
       "      <th>geo_city</th>\n",
       "      <th>type_traffic</th>\n",
       "      <th>mark_auto</th>\n",
       "      <th>model_auto</th>\n",
       "      <th>car</th>\n",
       "    </tr>\n",
       "  </thead>\n",
       "  <tbody>\n",
       "    <tr>\n",
       "      <th>0</th>\n",
       "      <td>4555345648396008371.1640233907.1640233907</td>\n",
       "      <td>2021-12-23</td>\n",
       "      <td>4</td>\n",
       "      <td>event</td>\n",
       "      <td>trXmoxcphNjuYcShOXwL</td>\n",
       "      <td>sberauto.com/cars/all/nissan/qashqai/bfc21661?...</td>\n",
       "      <td>card_web</td>\n",
       "      <td>view_card</td>\n",
       "      <td>0</td>\n",
       "      <td>1060624059.164023</td>\n",
       "      <td>...</td>\n",
       "      <td>iOS</td>\n",
       "      <td>Apple</td>\n",
       "      <td>2000x2000</td>\n",
       "      <td>Safari</td>\n",
       "      <td>United States</td>\n",
       "      <td>Prineville</td>\n",
       "      <td>inorganic</td>\n",
       "      <td>nissan</td>\n",
       "      <td>qashqai</td>\n",
       "      <td>nissan qashqai</td>\n",
       "    </tr>\n",
       "    <tr>\n",
       "      <th>1</th>\n",
       "      <td>4555345648396008371.1640233907.1640233907</td>\n",
       "      <td>2021-12-23</td>\n",
       "      <td>3</td>\n",
       "      <td>event</td>\n",
       "      <td>trXmoxcphNjuYcShOXwL</td>\n",
       "      <td>sberauto.com/cars/all/nissan/qashqai/bfc21661?...</td>\n",
       "      <td>card_web</td>\n",
       "      <td>view_new_card</td>\n",
       "      <td>0</td>\n",
       "      <td>1060624059.164023</td>\n",
       "      <td>...</td>\n",
       "      <td>iOS</td>\n",
       "      <td>Apple</td>\n",
       "      <td>2000x2000</td>\n",
       "      <td>Safari</td>\n",
       "      <td>United States</td>\n",
       "      <td>Prineville</td>\n",
       "      <td>inorganic</td>\n",
       "      <td>nissan</td>\n",
       "      <td>qashqai</td>\n",
       "      <td>nissan qashqai</td>\n",
       "    </tr>\n",
       "    <tr>\n",
       "      <th>2</th>\n",
       "      <td>9063469723165129646.1640233902.1640233902</td>\n",
       "      <td>2021-12-23</td>\n",
       "      <td>3</td>\n",
       "      <td>event</td>\n",
       "      <td>uMnMdxLOIznakHyXLoMC</td>\n",
       "      <td>sberauto.com/cars/all/skoda/rapid/bf24b977?ren...</td>\n",
       "      <td>card_web</td>\n",
       "      <td>view_card</td>\n",
       "      <td>0</td>\n",
       "      <td>2110253489.164024</td>\n",
       "      <td>...</td>\n",
       "      <td>Android</td>\n",
       "      <td>Google</td>\n",
       "      <td>360x480</td>\n",
       "      <td>Chrome</td>\n",
       "      <td>United States</td>\n",
       "      <td>Prineville</td>\n",
       "      <td>inorganic</td>\n",
       "      <td>skoda</td>\n",
       "      <td>rapid</td>\n",
       "      <td>skoda rapid</td>\n",
       "    </tr>\n",
       "    <tr>\n",
       "      <th>3</th>\n",
       "      <td>9063469723165129646.1640233902.1640233902</td>\n",
       "      <td>2021-12-23</td>\n",
       "      <td>4</td>\n",
       "      <td>event</td>\n",
       "      <td>uMnMdxLOIznakHyXLoMC</td>\n",
       "      <td>sberauto.com/cars/all/skoda/rapid/bf24b977?ren...</td>\n",
       "      <td>card_web</td>\n",
       "      <td>view_new_card</td>\n",
       "      <td>0</td>\n",
       "      <td>2110253489.164024</td>\n",
       "      <td>...</td>\n",
       "      <td>Android</td>\n",
       "      <td>Google</td>\n",
       "      <td>360x480</td>\n",
       "      <td>Chrome</td>\n",
       "      <td>United States</td>\n",
       "      <td>Prineville</td>\n",
       "      <td>inorganic</td>\n",
       "      <td>skoda</td>\n",
       "      <td>rapid</td>\n",
       "      <td>skoda rapid</td>\n",
       "    </tr>\n",
       "    <tr>\n",
       "      <th>4</th>\n",
       "      <td>8279923128365523547.1640276571.1640276571</td>\n",
       "      <td>2021-12-23</td>\n",
       "      <td>3</td>\n",
       "      <td>event</td>\n",
       "      <td>uMnMdxLOIznakHyXLoMC</td>\n",
       "      <td>sberauto.com/cars/all/porsche/911/f149c91b?ren...</td>\n",
       "      <td>card_web</td>\n",
       "      <td>view_card</td>\n",
       "      <td>0</td>\n",
       "      <td>1927819831.164028</td>\n",
       "      <td>...</td>\n",
       "      <td>Android</td>\n",
       "      <td>Google</td>\n",
       "      <td>360x480</td>\n",
       "      <td>Chrome</td>\n",
       "      <td>Ireland</td>\n",
       "      <td>Dublin</td>\n",
       "      <td>inorganic</td>\n",
       "      <td>porsche</td>\n",
       "      <td>911</td>\n",
       "      <td>porsche 911</td>\n",
       "    </tr>\n",
       "    <tr>\n",
       "      <th>...</th>\n",
       "      <td>...</td>\n",
       "      <td>...</td>\n",
       "      <td>...</td>\n",
       "      <td>...</td>\n",
       "      <td>...</td>\n",
       "      <td>...</td>\n",
       "      <td>...</td>\n",
       "      <td>...</td>\n",
       "      <td>...</td>\n",
       "      <td>...</td>\n",
       "      <td>...</td>\n",
       "      <td>...</td>\n",
       "      <td>...</td>\n",
       "      <td>...</td>\n",
       "      <td>...</td>\n",
       "      <td>...</td>\n",
       "      <td>...</td>\n",
       "      <td>...</td>\n",
       "      <td>...</td>\n",
       "      <td>...</td>\n",
       "      <td>...</td>\n",
       "    </tr>\n",
       "    <tr>\n",
       "      <th>6728345</th>\n",
       "      <td>3810094957689013029.1636795176.1636795176</td>\n",
       "      <td>2021-11-13</td>\n",
       "      <td>4</td>\n",
       "      <td>event</td>\n",
       "      <td>NfSAiKHBqffzsXrbjcSr</td>\n",
       "      <td>podpiska.sberauto.com/</td>\n",
       "      <td>sub_page_view</td>\n",
       "      <td>sub_landing</td>\n",
       "      <td>0</td>\n",
       "      <td>887106861.163679</td>\n",
       "      <td>...</td>\n",
       "      <td>Android</td>\n",
       "      <td>Huawei</td>\n",
       "      <td>360x640</td>\n",
       "      <td>Chrome</td>\n",
       "      <td>Russia</td>\n",
       "      <td>Moscow</td>\n",
       "      <td>inorganic</td>\n",
       "      <td>other</td>\n",
       "      <td>other</td>\n",
       "      <td>other other</td>\n",
       "    </tr>\n",
       "    <tr>\n",
       "      <th>6728346</th>\n",
       "      <td>5384662665988593849.1636751459.1636751459</td>\n",
       "      <td>2021-11-13</td>\n",
       "      <td>4</td>\n",
       "      <td>event</td>\n",
       "      <td>NfSAiKHBqffzsXrbjcSr</td>\n",
       "      <td>podpiska.sberauto.com/</td>\n",
       "      <td>sub_page_view</td>\n",
       "      <td>sub_landing</td>\n",
       "      <td>0</td>\n",
       "      <td>1253714474.163675</td>\n",
       "      <td>...</td>\n",
       "      <td>Android</td>\n",
       "      <td>Samsung</td>\n",
       "      <td>412x892</td>\n",
       "      <td>Chrome</td>\n",
       "      <td>Russia</td>\n",
       "      <td>Ruza</td>\n",
       "      <td>inorganic</td>\n",
       "      <td>other</td>\n",
       "      <td>other</td>\n",
       "      <td>other other</td>\n",
       "    </tr>\n",
       "    <tr>\n",
       "      <th>6728347</th>\n",
       "      <td>7863501185449165315.1636799949.1636799949</td>\n",
       "      <td>2021-11-13</td>\n",
       "      <td>3</td>\n",
       "      <td>event</td>\n",
       "      <td>eAbATQERmGPolIKkWXkU</td>\n",
       "      <td>podpiska.sberauto.com/</td>\n",
       "      <td>sub_page_view</td>\n",
       "      <td>sub_landing</td>\n",
       "      <td>0</td>\n",
       "      <td>1830864042.1636794883</td>\n",
       "      <td>...</td>\n",
       "      <td>iOS</td>\n",
       "      <td>Apple</td>\n",
       "      <td>414x896</td>\n",
       "      <td>Safari</td>\n",
       "      <td>Russia</td>\n",
       "      <td>Malakhovka</td>\n",
       "      <td>inorganic</td>\n",
       "      <td>other</td>\n",
       "      <td>other</td>\n",
       "      <td>other other</td>\n",
       "    </tr>\n",
       "    <tr>\n",
       "      <th>6728348</th>\n",
       "      <td>2836605783570805648.1636810116.1636810116</td>\n",
       "      <td>2021-11-13</td>\n",
       "      <td>1</td>\n",
       "      <td>event</td>\n",
       "      <td>sAGDBCdeVPmQPwkVEcIX</td>\n",
       "      <td>podpiska.sberauto.com/</td>\n",
       "      <td>sub_button_click</td>\n",
       "      <td>sub_view_cars_click</td>\n",
       "      <td>0</td>\n",
       "      <td>660448750.1636725648</td>\n",
       "      <td>...</td>\n",
       "      <td>Android</td>\n",
       "      <td>Xiaomi</td>\n",
       "      <td>360x640</td>\n",
       "      <td>Chrome</td>\n",
       "      <td>Russia</td>\n",
       "      <td>Moscow</td>\n",
       "      <td>inorganic</td>\n",
       "      <td>other</td>\n",
       "      <td>other</td>\n",
       "      <td>other other</td>\n",
       "    </tr>\n",
       "    <tr>\n",
       "      <th>6728349</th>\n",
       "      <td>4605411953316491632.1640263892.1640263892</td>\n",
       "      <td>2021-12-23</td>\n",
       "      <td>2</td>\n",
       "      <td>event</td>\n",
       "      <td>tvGabHlPFDvTmIFiCKTL</td>\n",
       "      <td>podpiska.sberauto.com/?yzclid=5888433221627265513</td>\n",
       "      <td>sub_page_view</td>\n",
       "      <td>sub_landing</td>\n",
       "      <td>0</td>\n",
       "      <td>1072281029.164026</td>\n",
       "      <td>...</td>\n",
       "      <td>Android</td>\n",
       "      <td>Samsung</td>\n",
       "      <td>412x915</td>\n",
       "      <td>Chrome</td>\n",
       "      <td>Russia</td>\n",
       "      <td>Moscow</td>\n",
       "      <td>organic</td>\n",
       "      <td>other</td>\n",
       "      <td>other</td>\n",
       "      <td>other other</td>\n",
       "    </tr>\n",
       "  </tbody>\n",
       "</table>\n",
       "<p>6728350 rows × 27 columns</p>\n",
       "</div>"
      ],
      "text/plain": [
       "                                        session_id   hit_date  hit_number  \\\n",
       "0        4555345648396008371.1640233907.1640233907 2021-12-23           4   \n",
       "1        4555345648396008371.1640233907.1640233907 2021-12-23           3   \n",
       "2        9063469723165129646.1640233902.1640233902 2021-12-23           3   \n",
       "3        9063469723165129646.1640233902.1640233902 2021-12-23           4   \n",
       "4        8279923128365523547.1640276571.1640276571 2021-12-23           3   \n",
       "...                                            ...        ...         ...   \n",
       "6728345  3810094957689013029.1636795176.1636795176 2021-11-13           4   \n",
       "6728346  5384662665988593849.1636751459.1636751459 2021-11-13           4   \n",
       "6728347  7863501185449165315.1636799949.1636799949 2021-11-13           3   \n",
       "6728348  2836605783570805648.1636810116.1636810116 2021-11-13           1   \n",
       "6728349  4605411953316491632.1640263892.1640263892 2021-12-23           2   \n",
       "\n",
       "        hit_type           hit_referer  \\\n",
       "0          event  trXmoxcphNjuYcShOXwL   \n",
       "1          event  trXmoxcphNjuYcShOXwL   \n",
       "2          event  uMnMdxLOIznakHyXLoMC   \n",
       "3          event  uMnMdxLOIznakHyXLoMC   \n",
       "4          event  uMnMdxLOIznakHyXLoMC   \n",
       "...          ...                   ...   \n",
       "6728345    event  NfSAiKHBqffzsXrbjcSr   \n",
       "6728346    event  NfSAiKHBqffzsXrbjcSr   \n",
       "6728347    event  eAbATQERmGPolIKkWXkU   \n",
       "6728348    event  sAGDBCdeVPmQPwkVEcIX   \n",
       "6728349    event  tvGabHlPFDvTmIFiCKTL   \n",
       "\n",
       "                                             hit_page_path    event_category  \\\n",
       "0        sberauto.com/cars/all/nissan/qashqai/bfc21661?...          card_web   \n",
       "1        sberauto.com/cars/all/nissan/qashqai/bfc21661?...          card_web   \n",
       "2        sberauto.com/cars/all/skoda/rapid/bf24b977?ren...          card_web   \n",
       "3        sberauto.com/cars/all/skoda/rapid/bf24b977?ren...          card_web   \n",
       "4        sberauto.com/cars/all/porsche/911/f149c91b?ren...          card_web   \n",
       "...                                                    ...               ...   \n",
       "6728345                             podpiska.sberauto.com/     sub_page_view   \n",
       "6728346                             podpiska.sberauto.com/     sub_page_view   \n",
       "6728347                             podpiska.sberauto.com/     sub_page_view   \n",
       "6728348                             podpiska.sberauto.com/  sub_button_click   \n",
       "6728349  podpiska.sberauto.com/?yzclid=5888433221627265513     sub_page_view   \n",
       "\n",
       "                event_action  type_action              client_id  ...  \\\n",
       "0                  view_card            0      1060624059.164023  ...   \n",
       "1              view_new_card            0      1060624059.164023  ...   \n",
       "2                  view_card            0      2110253489.164024  ...   \n",
       "3              view_new_card            0      2110253489.164024  ...   \n",
       "4                  view_card            0      1927819831.164028  ...   \n",
       "...                      ...          ...                    ...  ...   \n",
       "6728345          sub_landing            0       887106861.163679  ...   \n",
       "6728346          sub_landing            0      1253714474.163675  ...   \n",
       "6728347          sub_landing            0  1830864042.1636794883  ...   \n",
       "6728348  sub_view_cars_click            0   660448750.1636725648  ...   \n",
       "6728349          sub_landing            0      1072281029.164026  ...   \n",
       "\n",
       "        device_os device_brand  device_screen_resolution device_browser  \\\n",
       "0             iOS        Apple                 2000x2000         Safari   \n",
       "1             iOS        Apple                 2000x2000         Safari   \n",
       "2         Android       Google                   360x480         Chrome   \n",
       "3         Android       Google                   360x480         Chrome   \n",
       "4         Android       Google                   360x480         Chrome   \n",
       "...           ...          ...                       ...            ...   \n",
       "6728345   Android       Huawei                   360x640         Chrome   \n",
       "6728346   Android      Samsung                   412x892         Chrome   \n",
       "6728347       iOS        Apple                   414x896         Safari   \n",
       "6728348   Android       Xiaomi                   360x640         Chrome   \n",
       "6728349   Android      Samsung                   412x915         Chrome   \n",
       "\n",
       "           geo_country    geo_city type_traffic mark_auto model_auto  \\\n",
       "0        United States  Prineville    inorganic    nissan    qashqai   \n",
       "1        United States  Prineville    inorganic    nissan    qashqai   \n",
       "2        United States  Prineville    inorganic     skoda      rapid   \n",
       "3        United States  Prineville    inorganic     skoda      rapid   \n",
       "4              Ireland      Dublin    inorganic   porsche        911   \n",
       "...                ...         ...          ...       ...        ...   \n",
       "6728345         Russia      Moscow    inorganic     other      other   \n",
       "6728346         Russia        Ruza    inorganic     other      other   \n",
       "6728347         Russia  Malakhovka    inorganic     other      other   \n",
       "6728348         Russia      Moscow    inorganic     other      other   \n",
       "6728349         Russia      Moscow      organic     other      other   \n",
       "\n",
       "                    car  \n",
       "0        nissan qashqai  \n",
       "1        nissan qashqai  \n",
       "2           skoda rapid  \n",
       "3           skoda rapid  \n",
       "4           porsche 911  \n",
       "...                 ...  \n",
       "6728345     other other  \n",
       "6728346     other other  \n",
       "6728347     other other  \n",
       "6728348     other other  \n",
       "6728349     other other  \n",
       "\n",
       "[6728350 rows x 27 columns]"
      ]
     },
     "execution_count": 268,
     "metadata": {},
     "output_type": "execute_result"
    }
   ],
   "source": [
    "df_itog"
   ]
  },
  {
   "cell_type": "code",
   "execution_count": 269,
   "id": "ee68bb10",
   "metadata": {},
   "outputs": [],
   "source": [
    "df_itog_by_car = df_itog[df_itog['car']!='other other']"
   ]
  },
  {
   "cell_type": "code",
   "execution_count": 270,
   "id": "074bb7f9",
   "metadata": {},
   "outputs": [],
   "source": [
    "df_metrics = df_itog_by_car.groupby('car',as_index=False).agg(uniq_session=('session_id','nunique'), \n",
    "                                                  total_sessions=('session_id','count'))"
   ]
  },
  {
   "cell_type": "code",
   "execution_count": 271,
   "id": "135f5118",
   "metadata": {},
   "outputs": [],
   "source": [
    "# посчитаем кол-во целевых действий \n",
    "df_count_act = df_itog_by_car.groupby(['car','session_id'],as_index=False).type_action.sum()"
   ]
  },
  {
   "cell_type": "code",
   "execution_count": 272,
   "id": "0fa881d2",
   "metadata": {},
   "outputs": [],
   "source": [
    "# посчитаем все целевые действия как одно, в рамках одного визита\n",
    "df_count_act['type_action'] = np.where((df_count_act.type_action > 1), 1, df_count_act.type_action)"
   ]
  },
  {
   "cell_type": "code",
   "execution_count": 273,
   "id": "1d0ec8ce",
   "metadata": {},
   "outputs": [],
   "source": [
    "df_count_act = df_count_act.groupby(['car'],as_index=False).type_action.sum()"
   ]
  },
  {
   "cell_type": "code",
   "execution_count": 274,
   "id": "16123d84",
   "metadata": {},
   "outputs": [],
   "source": [
    "df_metrics = pd.merge(df_metrics, df_count_act, on='car')"
   ]
  },
  {
   "cell_type": "code",
   "execution_count": 275,
   "id": "47ddbe58",
   "metadata": {},
   "outputs": [],
   "source": [
    "df_metrics = df_metrics.rename(columns={'type_action':'count_target_action'})"
   ]
  },
  {
   "cell_type": "code",
   "execution_count": 276,
   "id": "270a7aff",
   "metadata": {},
   "outputs": [],
   "source": [
    "df_metrics['CR'] = df_metrics['count_target_action'] / df_metrics['uniq_session']"
   ]
  },
  {
   "cell_type": "code",
   "execution_count": 277,
   "id": "8004ae76",
   "metadata": {},
   "outputs": [
    {
     "data": {
      "text/html": [
       "<div>\n",
       "<style scoped>\n",
       "    .dataframe tbody tr th:only-of-type {\n",
       "        vertical-align: middle;\n",
       "    }\n",
       "\n",
       "    .dataframe tbody tr th {\n",
       "        vertical-align: top;\n",
       "    }\n",
       "\n",
       "    .dataframe thead th {\n",
       "        text-align: right;\n",
       "    }\n",
       "</style>\n",
       "<table border=\"1\" class=\"dataframe\">\n",
       "  <thead>\n",
       "    <tr style=\"text-align: right;\">\n",
       "      <th></th>\n",
       "      <th>car</th>\n",
       "      <th>uniq_session</th>\n",
       "      <th>total_sessions</th>\n",
       "      <th>count_target_action</th>\n",
       "      <th>CR</th>\n",
       "    </tr>\n",
       "  </thead>\n",
       "  <tbody>\n",
       "    <tr>\n",
       "      <th>42</th>\n",
       "      <td>renault logan</td>\n",
       "      <td>207</td>\n",
       "      <td>1430</td>\n",
       "      <td>23</td>\n",
       "      <td>0.111111</td>\n",
       "    </tr>\n",
       "    <tr>\n",
       "      <th>53</th>\n",
       "      <td>volkswagen polo</td>\n",
       "      <td>8217</td>\n",
       "      <td>64820</td>\n",
       "      <td>506</td>\n",
       "      <td>0.061580</td>\n",
       "    </tr>\n",
       "    <tr>\n",
       "      <th>15</th>\n",
       "      <td>kia rio</td>\n",
       "      <td>362</td>\n",
       "      <td>2755</td>\n",
       "      <td>22</td>\n",
       "      <td>0.060773</td>\n",
       "    </tr>\n",
       "    <tr>\n",
       "      <th>48</th>\n",
       "      <td>toyota camry</td>\n",
       "      <td>878</td>\n",
       "      <td>6645</td>\n",
       "      <td>48</td>\n",
       "      <td>0.054670</td>\n",
       "    </tr>\n",
       "    <tr>\n",
       "      <th>13</th>\n",
       "      <td>hyundai solaris</td>\n",
       "      <td>1344</td>\n",
       "      <td>11177</td>\n",
       "      <td>66</td>\n",
       "      <td>0.049107</td>\n",
       "    </tr>\n",
       "    <tr>\n",
       "      <th>19</th>\n",
       "      <td>lada-vaz vesta</td>\n",
       "      <td>14782</td>\n",
       "      <td>123278</td>\n",
       "      <td>691</td>\n",
       "      <td>0.046746</td>\n",
       "    </tr>\n",
       "    <tr>\n",
       "      <th>46</th>\n",
       "      <td>skoda rapid</td>\n",
       "      <td>12856</td>\n",
       "      <td>101740</td>\n",
       "      <td>534</td>\n",
       "      <td>0.041537</td>\n",
       "    </tr>\n",
       "    <tr>\n",
       "      <th>49</th>\n",
       "      <td>toyota corolla</td>\n",
       "      <td>1629</td>\n",
       "      <td>12195</td>\n",
       "      <td>50</td>\n",
       "      <td>0.030694</td>\n",
       "    </tr>\n",
       "    <tr>\n",
       "      <th>7</th>\n",
       "      <td>bmw 7-serii</td>\n",
       "      <td>258</td>\n",
       "      <td>1807</td>\n",
       "      <td>7</td>\n",
       "      <td>0.027132</td>\n",
       "    </tr>\n",
       "    <tr>\n",
       "      <th>16</th>\n",
       "      <td>kia seltos</td>\n",
       "      <td>1153</td>\n",
       "      <td>8678</td>\n",
       "      <td>31</td>\n",
       "      <td>0.026886</td>\n",
       "    </tr>\n",
       "  </tbody>\n",
       "</table>\n",
       "</div>"
      ],
      "text/plain": [
       "                car  uniq_session  total_sessions  count_target_action  \\\n",
       "42    renault logan           207            1430                   23   \n",
       "53  volkswagen polo          8217           64820                  506   \n",
       "15          kia rio           362            2755                   22   \n",
       "48     toyota camry           878            6645                   48   \n",
       "13  hyundai solaris          1344           11177                   66   \n",
       "19   lada-vaz vesta         14782          123278                  691   \n",
       "46      skoda rapid         12856          101740                  534   \n",
       "49   toyota corolla          1629           12195                   50   \n",
       "7       bmw 7-serii           258            1807                    7   \n",
       "16       kia seltos          1153            8678                   31   \n",
       "\n",
       "          CR  \n",
       "42  0.111111  \n",
       "53  0.061580  \n",
       "15  0.060773  \n",
       "48  0.054670  \n",
       "13  0.049107  \n",
       "19  0.046746  \n",
       "46  0.041537  \n",
       "49  0.030694  \n",
       "7   0.027132  \n",
       "16  0.026886  "
      ]
     },
     "execution_count": 277,
     "metadata": {},
     "output_type": "execute_result"
    }
   ],
   "source": [
    "# Топ 10 автомобилей по CR\n",
    "df_metrics.sort_values(by=['CR'], ascending=False).head(10)"
   ]
  },
  {
   "cell_type": "code",
   "execution_count": 278,
   "id": "28047ec3",
   "metadata": {},
   "outputs": [
    {
     "data": {
      "text/html": [
       "<div>\n",
       "<style scoped>\n",
       "    .dataframe tbody tr th:only-of-type {\n",
       "        vertical-align: middle;\n",
       "    }\n",
       "\n",
       "    .dataframe tbody tr th {\n",
       "        vertical-align: top;\n",
       "    }\n",
       "\n",
       "    .dataframe thead th {\n",
       "        text-align: right;\n",
       "    }\n",
       "</style>\n",
       "<table border=\"1\" class=\"dataframe\">\n",
       "  <thead>\n",
       "    <tr style=\"text-align: right;\">\n",
       "      <th></th>\n",
       "      <th>car</th>\n",
       "      <th>uniq_session</th>\n",
       "      <th>total_sessions</th>\n",
       "      <th>count_target_action</th>\n",
       "      <th>CR</th>\n",
       "    </tr>\n",
       "  </thead>\n",
       "  <tbody>\n",
       "    <tr>\n",
       "      <th>19</th>\n",
       "      <td>lada-vaz vesta</td>\n",
       "      <td>14782</td>\n",
       "      <td>123278</td>\n",
       "      <td>691</td>\n",
       "      <td>0.046746</td>\n",
       "    </tr>\n",
       "    <tr>\n",
       "      <th>46</th>\n",
       "      <td>skoda rapid</td>\n",
       "      <td>12856</td>\n",
       "      <td>101740</td>\n",
       "      <td>534</td>\n",
       "      <td>0.041537</td>\n",
       "    </tr>\n",
       "    <tr>\n",
       "      <th>53</th>\n",
       "      <td>volkswagen polo</td>\n",
       "      <td>8217</td>\n",
       "      <td>64820</td>\n",
       "      <td>506</td>\n",
       "      <td>0.061580</td>\n",
       "    </tr>\n",
       "    <tr>\n",
       "      <th>26</th>\n",
       "      <td>mercedes-benz e-klasse</td>\n",
       "      <td>5774</td>\n",
       "      <td>46803</td>\n",
       "      <td>112</td>\n",
       "      <td>0.019397</td>\n",
       "    </tr>\n",
       "    <tr>\n",
       "      <th>35</th>\n",
       "      <td>nissan qashqai</td>\n",
       "      <td>6668</td>\n",
       "      <td>51355</td>\n",
       "      <td>91</td>\n",
       "      <td>0.013647</td>\n",
       "    </tr>\n",
       "    <tr>\n",
       "      <th>13</th>\n",
       "      <td>hyundai solaris</td>\n",
       "      <td>1344</td>\n",
       "      <td>11177</td>\n",
       "      <td>66</td>\n",
       "      <td>0.049107</td>\n",
       "    </tr>\n",
       "    <tr>\n",
       "      <th>43</th>\n",
       "      <td>skoda karoq</td>\n",
       "      <td>2287</td>\n",
       "      <td>17207</td>\n",
       "      <td>53</td>\n",
       "      <td>0.023174</td>\n",
       "    </tr>\n",
       "    <tr>\n",
       "      <th>49</th>\n",
       "      <td>toyota corolla</td>\n",
       "      <td>1629</td>\n",
       "      <td>12195</td>\n",
       "      <td>50</td>\n",
       "      <td>0.030694</td>\n",
       "    </tr>\n",
       "    <tr>\n",
       "      <th>56</th>\n",
       "      <td>volkswagen tiguan</td>\n",
       "      <td>2031</td>\n",
       "      <td>15384</td>\n",
       "      <td>50</td>\n",
       "      <td>0.024618</td>\n",
       "    </tr>\n",
       "    <tr>\n",
       "      <th>17</th>\n",
       "      <td>kia sorento</td>\n",
       "      <td>1974</td>\n",
       "      <td>14940</td>\n",
       "      <td>50</td>\n",
       "      <td>0.025329</td>\n",
       "    </tr>\n",
       "  </tbody>\n",
       "</table>\n",
       "</div>"
      ],
      "text/plain": [
       "                       car  uniq_session  total_sessions  count_target_action  \\\n",
       "19          lada-vaz vesta         14782          123278                  691   \n",
       "46             skoda rapid         12856          101740                  534   \n",
       "53         volkswagen polo          8217           64820                  506   \n",
       "26  mercedes-benz e-klasse          5774           46803                  112   \n",
       "35          nissan qashqai          6668           51355                   91   \n",
       "13         hyundai solaris          1344           11177                   66   \n",
       "43             skoda karoq          2287           17207                   53   \n",
       "49          toyota corolla          1629           12195                   50   \n",
       "56       volkswagen tiguan          2031           15384                   50   \n",
       "17             kia sorento          1974           14940                   50   \n",
       "\n",
       "          CR  \n",
       "19  0.046746  \n",
       "46  0.041537  \n",
       "53  0.061580  \n",
       "26  0.019397  \n",
       "35  0.013647  \n",
       "13  0.049107  \n",
       "43  0.023174  \n",
       "49  0.030694  \n",
       "56  0.024618  \n",
       "17  0.025329  "
      ]
     },
     "execution_count": 278,
     "metadata": {},
     "output_type": "execute_result"
    }
   ],
   "source": [
    "# Топ 10 автомобилей по количеству целевых действий\n",
    "df_metrics.sort_values(by=['count_target_action'], ascending=False).head(10)"
   ]
  },
  {
   "cell_type": "markdown",
   "id": "8102f686",
   "metadata": {},
   "source": [
    " "
   ]
  },
  {
   "cell_type": "markdown",
   "id": "7db1ac11",
   "metadata": {},
   "source": [
    " "
   ]
  },
  {
   "cell_type": "markdown",
   "id": "d5318e68",
   "metadata": {},
   "source": [
    "### Ответим на вопрос: ,,Стоит ли увеличивать своё присутствие в соцсетях и давать там больше рекламы?\""
   ]
  },
  {
   "cell_type": "code",
   "execution_count": 312,
   "id": "91001c30",
   "metadata": {},
   "outputs": [],
   "source": [
    "def add_marketing(row):\n",
    "    if row['utm_source'] in ('QxAxdyPLuQMEcrdZWdWb', 'MvfHsxITijuriZxsqZqt', \n",
    "                             'ISrKoXQCxqqYvAZICvjs', 'IZEXUFLARCUMynmHNBGo', \n",
    "                             'PlbkrSYoHuZBWfYjYnfw', 'gVRrcxiDQubJiljoTbGm'):\n",
    "        return 'advertising on social networks'\n",
    "    else:\n",
    "        return 'other'"
   ]
  },
  {
   "cell_type": "code",
   "execution_count": 313,
   "id": "35b169a9",
   "metadata": {},
   "outputs": [],
   "source": [
    "df_s['marketing'] = df_s.apply(add_marketing, axis=1)"
   ]
  },
  {
   "cell_type": "code",
   "execution_count": 314,
   "id": "35ba55f8",
   "metadata": {},
   "outputs": [
    {
     "data": {
      "text/plain": [
       "other                             1263782\n",
       "advertising on social networks     229002\n",
       "Name: marketing, dtype: int64"
      ]
     },
     "execution_count": 314,
     "metadata": {},
     "output_type": "execute_result"
    }
   ],
   "source": [
    "df_s.marketing.value_counts()"
   ]
  },
  {
   "cell_type": "code",
   "execution_count": 324,
   "id": "2134130e",
   "metadata": {},
   "outputs": [],
   "source": [
    "df_itog = pd.merge(df_h, df_s, left_on = ['session_id'], right_on = ['session_id'])"
   ]
  },
  {
   "cell_type": "code",
   "execution_count": 325,
   "id": "43df67a7",
   "metadata": {},
   "outputs": [],
   "source": [
    "df_metrics = df_itog.groupby('marketing',as_index=False).agg(uniq_session=('session_id','nunique'), \n",
    "                                                  total_sessions=('session_id','count'))"
   ]
  },
  {
   "cell_type": "code",
   "execution_count": 326,
   "id": "bf271710",
   "metadata": {},
   "outputs": [
    {
     "data": {
      "text/html": [
       "<div>\n",
       "<style scoped>\n",
       "    .dataframe tbody tr th:only-of-type {\n",
       "        vertical-align: middle;\n",
       "    }\n",
       "\n",
       "    .dataframe tbody tr th {\n",
       "        vertical-align: top;\n",
       "    }\n",
       "\n",
       "    .dataframe thead th {\n",
       "        text-align: right;\n",
       "    }\n",
       "</style>\n",
       "<table border=\"1\" class=\"dataframe\">\n",
       "  <thead>\n",
       "    <tr style=\"text-align: right;\">\n",
       "      <th></th>\n",
       "      <th>marketing</th>\n",
       "      <th>uniq_session</th>\n",
       "      <th>total_sessions</th>\n",
       "    </tr>\n",
       "  </thead>\n",
       "  <tbody>\n",
       "    <tr>\n",
       "      <th>0</th>\n",
       "      <td>advertising on social networks</td>\n",
       "      <td>127549</td>\n",
       "      <td>581746</td>\n",
       "    </tr>\n",
       "    <tr>\n",
       "      <th>1</th>\n",
       "      <td>other</td>\n",
       "      <td>708222</td>\n",
       "      <td>6146604</td>\n",
       "    </tr>\n",
       "  </tbody>\n",
       "</table>\n",
       "</div>"
      ],
      "text/plain": [
       "                        marketing  uniq_session  total_sessions\n",
       "0  advertising on social networks        127549          581746\n",
       "1                           other        708222         6146604"
      ]
     },
     "execution_count": 326,
     "metadata": {},
     "output_type": "execute_result"
    }
   ],
   "source": [
    "df_metrics"
   ]
  },
  {
   "cell_type": "code",
   "execution_count": 327,
   "id": "0746fe34",
   "metadata": {},
   "outputs": [],
   "source": [
    "# посчитаем кол-во целевых действий \n",
    "df_count_act = df_itog.groupby(['marketing','session_id'],as_index=False).type_action.sum()"
   ]
  },
  {
   "cell_type": "code",
   "execution_count": 328,
   "id": "ab016567",
   "metadata": {},
   "outputs": [],
   "source": [
    "# посчитаем все целевые действия как одно, в рамках одного визита\n",
    "df_count_act['type_action'] = np.where((df_count_act.type_action > 1), 1, df_count_act.type_action)"
   ]
  },
  {
   "cell_type": "code",
   "execution_count": 329,
   "id": "29d7f472",
   "metadata": {},
   "outputs": [],
   "source": [
    "df_count_act = df_count_act.groupby(['marketing'],as_index=False).type_action.sum()"
   ]
  },
  {
   "cell_type": "code",
   "execution_count": 330,
   "id": "7debecab",
   "metadata": {},
   "outputs": [
    {
     "data": {
      "text/html": [
       "<div>\n",
       "<style scoped>\n",
       "    .dataframe tbody tr th:only-of-type {\n",
       "        vertical-align: middle;\n",
       "    }\n",
       "\n",
       "    .dataframe tbody tr th {\n",
       "        vertical-align: top;\n",
       "    }\n",
       "\n",
       "    .dataframe thead th {\n",
       "        text-align: right;\n",
       "    }\n",
       "</style>\n",
       "<table border=\"1\" class=\"dataframe\">\n",
       "  <thead>\n",
       "    <tr style=\"text-align: right;\">\n",
       "      <th></th>\n",
       "      <th>marketing</th>\n",
       "      <th>type_action</th>\n",
       "    </tr>\n",
       "  </thead>\n",
       "  <tbody>\n",
       "    <tr>\n",
       "      <th>0</th>\n",
       "      <td>advertising on social networks</td>\n",
       "      <td>2088</td>\n",
       "    </tr>\n",
       "    <tr>\n",
       "      <th>1</th>\n",
       "      <td>other</td>\n",
       "      <td>24380</td>\n",
       "    </tr>\n",
       "  </tbody>\n",
       "</table>\n",
       "</div>"
      ],
      "text/plain": [
       "                        marketing  type_action\n",
       "0  advertising on social networks         2088\n",
       "1                           other        24380"
      ]
     },
     "execution_count": 330,
     "metadata": {},
     "output_type": "execute_result"
    }
   ],
   "source": [
    "df_count_act"
   ]
  },
  {
   "cell_type": "code",
   "execution_count": 331,
   "id": "a0ecd862",
   "metadata": {},
   "outputs": [],
   "source": [
    "df_metrics = pd.merge(df_metrics, df_count_act, on='marketing')"
   ]
  },
  {
   "cell_type": "code",
   "execution_count": 332,
   "id": "1f6674b3",
   "metadata": {},
   "outputs": [],
   "source": [
    "df_metrics = df_metrics.rename(columns={'type_action':'count_target_action'})"
   ]
  },
  {
   "cell_type": "code",
   "execution_count": 333,
   "id": "20a0c1fc",
   "metadata": {},
   "outputs": [],
   "source": [
    "df_metrics['CR'] = df_metrics['count_target_action'] / df_metrics['uniq_session']"
   ]
  },
  {
   "cell_type": "code",
   "execution_count": 334,
   "id": "21288ddd",
   "metadata": {},
   "outputs": [
    {
     "data": {
      "text/html": [
       "<div>\n",
       "<style scoped>\n",
       "    .dataframe tbody tr th:only-of-type {\n",
       "        vertical-align: middle;\n",
       "    }\n",
       "\n",
       "    .dataframe tbody tr th {\n",
       "        vertical-align: top;\n",
       "    }\n",
       "\n",
       "    .dataframe thead th {\n",
       "        text-align: right;\n",
       "    }\n",
       "</style>\n",
       "<table border=\"1\" class=\"dataframe\">\n",
       "  <thead>\n",
       "    <tr style=\"text-align: right;\">\n",
       "      <th></th>\n",
       "      <th>marketing</th>\n",
       "      <th>uniq_session</th>\n",
       "      <th>total_sessions</th>\n",
       "      <th>count_target_action</th>\n",
       "      <th>CR</th>\n",
       "    </tr>\n",
       "  </thead>\n",
       "  <tbody>\n",
       "    <tr>\n",
       "      <th>0</th>\n",
       "      <td>advertising on social networks</td>\n",
       "      <td>127549</td>\n",
       "      <td>581746</td>\n",
       "      <td>2088</td>\n",
       "      <td>0.016370</td>\n",
       "    </tr>\n",
       "    <tr>\n",
       "      <th>1</th>\n",
       "      <td>other</td>\n",
       "      <td>708222</td>\n",
       "      <td>6146604</td>\n",
       "      <td>24380</td>\n",
       "      <td>0.034424</td>\n",
       "    </tr>\n",
       "  </tbody>\n",
       "</table>\n",
       "</div>"
      ],
      "text/plain": [
       "                        marketing  uniq_session  total_sessions  \\\n",
       "0  advertising on social networks        127549          581746   \n",
       "1                           other        708222         6146604   \n",
       "\n",
       "   count_target_action        CR  \n",
       "0                 2088  0.016370  \n",
       "1                24380  0.034424  "
      ]
     },
     "execution_count": 334,
     "metadata": {},
     "output_type": "execute_result"
    }
   ],
   "source": [
    "df_metrics"
   ]
  },
  {
   "cell_type": "markdown",
   "id": "2ebc88f1",
   "metadata": {},
   "source": [
    " "
   ]
  },
  {
   "cell_type": "markdown",
   "id": "8343eb8a",
   "metadata": {},
   "source": [
    " "
   ]
  },
  {
   "cell_type": "markdown",
   "id": "3cf00075",
   "metadata": {},
   "source": [
    " "
   ]
  },
  {
   "cell_type": "markdown",
   "id": "6bfa2ce0",
   "metadata": {},
   "source": [
    "# Выводы"
   ]
  },
  {
   "cell_type": "markdown",
   "id": "f31a5945",
   "metadata": {},
   "source": [
    "   ### Органический трафик меньше платного с точки зрения CR в целевые действия;\n",
    "    \n",
    "   ### трафик с мобильных устройств меньше трафика с десктопных устройств с точки зрения CR в целевые действия;\n",
    "    \n",
    "   ### трафик из городов присутствия (Москва и область, Санкт-Петербург) не отличается от трафика из иных регионов с точки зрения CR в целевые события\n",
    "    \n",
    "   ### CR  от рекламы в социальных сетях 1,6 %, это очень маленький показатель. Нужно выяснить в чем причина такой низкой конверсии, посчитать стоимость целевого действия и посчитать выручку от клиентов, которые пришли по рекламе из соц сетей. После такого исследования не увеличивать присутствие в соц сетях и посмотреть как изменится конверсия. \n"
   ]
  }
 ],
 "metadata": {
  "kernelspec": {
   "display_name": "Python 3 (ipykernel)",
   "language": "python",
   "name": "python3"
  },
  "language_info": {
   "codemirror_mode": {
    "name": "ipython",
    "version": 3
   },
   "file_extension": ".py",
   "mimetype": "text/x-python",
   "name": "python",
   "nbconvert_exporter": "python",
   "pygments_lexer": "ipython3",
   "version": "3.11.5"
  }
 },
 "nbformat": 4,
 "nbformat_minor": 5
}
